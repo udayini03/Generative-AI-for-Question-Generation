{
  "cells": [
    {
      "cell_type": "markdown",
      "metadata": {
        "id": "qqWy1eTlsXrD"
      },
      "source": [
        "## 1. Download Squad Dataset, preprocess and save as CSV files"
      ]
    },
    {
      "cell_type": "code",
      "execution_count": 1,
      "metadata": {
        "colab": {
          "base_uri": "https://localhost:8080/"
        },
        "id": "Bk1V6wt5scsx",
        "outputId": "a2a24462-1ca5-45a4-f10b-18a4a112829e"
      },
      "outputs": [
        {
          "name": "stdout",
          "output_type": "stream",
          "text": [
            "Requirement already satisfied: datasets in c:\\users\\udayi\\appdata\\local\\programs\\python\\python311\\lib\\site-packages (3.0.1)\n",
            "Requirement already satisfied: filelock in c:\\users\\udayi\\appdata\\local\\programs\\python\\python311\\lib\\site-packages (from datasets) (3.13.4)\n",
            "Requirement already satisfied: numpy>=1.17 in c:\\users\\udayi\\appdata\\local\\programs\\python\\python311\\lib\\site-packages (from datasets) (1.26.4)\n",
            "Requirement already satisfied: pyarrow>=15.0.0 in c:\\users\\udayi\\appdata\\local\\programs\\python\\python311\\lib\\site-packages (from datasets) (15.0.2)\n",
            "Requirement already satisfied: dill<0.3.9,>=0.3.0 in c:\\users\\udayi\\appdata\\local\\programs\\python\\python311\\lib\\site-packages (from datasets) (0.3.8)\n",
            "Requirement already satisfied: pandas in c:\\users\\udayi\\appdata\\local\\programs\\python\\python311\\lib\\site-packages (from datasets) (2.2.2)\n",
            "Requirement already satisfied: requests>=2.32.2 in c:\\users\\udayi\\appdata\\local\\programs\\python\\python311\\lib\\site-packages (from datasets) (2.32.3)\n",
            "Requirement already satisfied: tqdm>=4.66.3 in c:\\users\\udayi\\appdata\\local\\programs\\python\\python311\\lib\\site-packages (from datasets) (4.66.5)\n",
            "Requirement already satisfied: xxhash in c:\\users\\udayi\\appdata\\local\\programs\\python\\python311\\lib\\site-packages (from datasets) (3.5.0)\n",
            "Requirement already satisfied: multiprocess in c:\\users\\udayi\\appdata\\local\\programs\\python\\python311\\lib\\site-packages (from datasets) (0.70.16)\n",
            "Requirement already satisfied: fsspec<=2024.6.1,>=2023.1.0 in c:\\users\\udayi\\appdata\\local\\programs\\python\\python311\\lib\\site-packages (from fsspec[http]<=2024.6.1,>=2023.1.0->datasets) (2024.3.1)\n",
            "Requirement already satisfied: aiohttp in c:\\users\\udayi\\appdata\\local\\programs\\python\\python311\\lib\\site-packages (from datasets) (3.9.5)\n",
            "Requirement already satisfied: huggingface-hub>=0.22.0 in c:\\users\\udayi\\appdata\\local\\programs\\python\\python311\\lib\\site-packages (from datasets) (0.22.2)\n",
            "Requirement already satisfied: packaging in c:\\users\\udayi\\appdata\\local\\programs\\python\\python311\\lib\\site-packages (from datasets) (23.2)\n",
            "Requirement already satisfied: pyyaml>=5.1 in c:\\users\\udayi\\appdata\\local\\programs\\python\\python311\\lib\\site-packages (from datasets) (6.0.1)\n",
            "Requirement already satisfied: aiosignal>=1.1.2 in c:\\users\\udayi\\appdata\\local\\programs\\python\\python311\\lib\\site-packages (from aiohttp->datasets) (1.3.1)\n",
            "Requirement already satisfied: attrs>=17.3.0 in c:\\users\\udayi\\appdata\\local\\programs\\python\\python311\\lib\\site-packages (from aiohttp->datasets) (22.2.0)\n",
            "Requirement already satisfied: frozenlist>=1.1.1 in c:\\users\\udayi\\appdata\\local\\programs\\python\\python311\\lib\\site-packages (from aiohttp->datasets) (1.4.1)\n",
            "Requirement already satisfied: multidict<7.0,>=4.5 in c:\\users\\udayi\\appdata\\local\\programs\\python\\python311\\lib\\site-packages (from aiohttp->datasets) (6.0.5)\n",
            "Requirement already satisfied: yarl<2.0,>=1.0 in c:\\users\\udayi\\appdata\\local\\programs\\python\\python311\\lib\\site-packages (from aiohttp->datasets) (1.9.4)\n",
            "Requirement already satisfied: typing-extensions>=3.7.4.3 in c:\\users\\udayi\\appdata\\local\\programs\\python\\python311\\lib\\site-packages (from huggingface-hub>=0.22.0->datasets) (4.11.0)\n",
            "Requirement already satisfied: charset-normalizer<4,>=2 in c:\\users\\udayi\\appdata\\local\\programs\\python\\python311\\lib\\site-packages (from requests>=2.32.2->datasets) (3.3.2)\n",
            "Requirement already satisfied: idna<4,>=2.5 in c:\\users\\udayi\\appdata\\local\\programs\\python\\python311\\lib\\site-packages (from requests>=2.32.2->datasets) (3.7)\n",
            "Requirement already satisfied: urllib3<3,>=1.21.1 in c:\\users\\udayi\\appdata\\local\\programs\\python\\python311\\lib\\site-packages (from requests>=2.32.2->datasets) (2.2.1)\n",
            "Requirement already satisfied: certifi>=2017.4.17 in c:\\users\\udayi\\appdata\\local\\programs\\python\\python311\\lib\\site-packages (from requests>=2.32.2->datasets) (2024.2.2)\n",
            "Requirement already satisfied: colorama in c:\\users\\udayi\\appdata\\local\\programs\\python\\python311\\lib\\site-packages (from tqdm>=4.66.3->datasets) (0.4.6)\n",
            "Requirement already satisfied: python-dateutil>=2.8.2 in c:\\users\\udayi\\appdata\\local\\programs\\python\\python311\\lib\\site-packages (from pandas->datasets) (2.8.2)\n",
            "Requirement already satisfied: pytz>=2020.1 in c:\\users\\udayi\\appdata\\local\\programs\\python\\python311\\lib\\site-packages (from pandas->datasets) (2024.1)\n",
            "Requirement already satisfied: tzdata>=2022.7 in c:\\users\\udayi\\appdata\\local\\programs\\python\\python311\\lib\\site-packages (from pandas->datasets) (2024.1)\n",
            "Requirement already satisfied: six>=1.5 in c:\\users\\udayi\\appdata\\local\\programs\\python\\python311\\lib\\site-packages (from python-dateutil>=2.8.2->pandas->datasets) (1.16.0)\n",
            "Note: you may need to restart the kernel to use updated packages.\n",
            "Requirement already satisfied: tqdm in c:\\users\\udayi\\appdata\\local\\programs\\python\\python311\\lib\\site-packages (4.66.5)\n",
            "Requirement already satisfied: colorama in c:\\users\\udayi\\appdata\\local\\programs\\python\\python311\\lib\\site-packages (from tqdm) (0.4.6)\n",
            "Note: you may need to restart the kernel to use updated packages.\n",
            "Requirement already satisfied: torch in c:\\users\\udayi\\appdata\\local\\programs\\python\\python311\\lib\\site-packages (2.4.1)\n",
            "Collecting torch\n",
            "  Downloading torch-2.5.0-cp311-cp311-win_amd64.whl.metadata (28 kB)\n",
            "Requirement already satisfied: torchvision in c:\\users\\udayi\\appdata\\local\\programs\\python\\python311\\lib\\site-packages (0.19.1)\n",
            "Collecting torchvision\n",
            "  Downloading torchvision-0.20.0-cp311-cp311-win_amd64.whl.metadata (6.2 kB)\n",
            "Collecting torchaudio\n",
            "  Downloading torchaudio-2.5.0-cp311-cp311-win_amd64.whl.metadata (6.5 kB)\n",
            "Collecting pytorch-lightning\n",
            "  Downloading pytorch_lightning-2.4.0-py3-none-any.whl.metadata (21 kB)\n",
            "Requirement already satisfied: filelock in c:\\users\\udayi\\appdata\\local\\programs\\python\\python311\\lib\\site-packages (from torch) (3.13.4)\n",
            "Requirement already satisfied: typing-extensions>=4.8.0 in c:\\users\\udayi\\appdata\\local\\programs\\python\\python311\\lib\\site-packages (from torch) (4.11.0)\n",
            "Requirement already satisfied: networkx in c:\\users\\udayi\\appdata\\local\\programs\\python\\python311\\lib\\site-packages (from torch) (3.3)\n",
            "Requirement already satisfied: jinja2 in c:\\users\\udayi\\appdata\\local\\programs\\python\\python311\\lib\\site-packages (from torch) (3.1.2)\n",
            "Requirement already satisfied: fsspec in c:\\users\\udayi\\appdata\\local\\programs\\python\\python311\\lib\\site-packages (from torch) (2024.3.1)\n",
            "Collecting sympy==1.13.1 (from torch)\n",
            "  Downloading sympy-1.13.1-py3-none-any.whl.metadata (12 kB)\n",
            "Requirement already satisfied: mpmath<1.4,>=1.1.0 in c:\\users\\udayi\\appdata\\local\\programs\\python\\python311\\lib\\site-packages (from sympy==1.13.1->torch) (1.3.0)\n",
            "Requirement already satisfied: numpy in c:\\users\\udayi\\appdata\\local\\programs\\python\\python311\\lib\\site-packages (from torchvision) (1.26.4)\n",
            "Requirement already satisfied: pillow!=8.3.*,>=5.3.0 in c:\\users\\udayi\\appdata\\local\\programs\\python\\python311\\lib\\site-packages (from torchvision) (10.3.0)\n",
            "Requirement already satisfied: tqdm>=4.57.0 in c:\\users\\udayi\\appdata\\local\\programs\\python\\python311\\lib\\site-packages (from pytorch-lightning) (4.66.5)\n",
            "Requirement already satisfied: PyYAML>=5.4 in c:\\users\\udayi\\appdata\\local\\programs\\python\\python311\\lib\\site-packages (from pytorch-lightning) (6.0.1)\n",
            "Collecting torchmetrics>=0.7.0 (from pytorch-lightning)\n",
            "  Downloading torchmetrics-1.5.1-py3-none-any.whl.metadata (20 kB)\n",
            "Requirement already satisfied: packaging>=20.0 in c:\\users\\udayi\\appdata\\local\\programs\\python\\python311\\lib\\site-packages (from pytorch-lightning) (23.2)\n",
            "Collecting lightning-utilities>=0.10.0 (from pytorch-lightning)\n",
            "  Downloading lightning_utilities-0.11.8-py3-none-any.whl.metadata (5.2 kB)\n",
            "Requirement already satisfied: aiohttp!=4.0.0a0,!=4.0.0a1 in c:\\users\\udayi\\appdata\\local\\programs\\python\\python311\\lib\\site-packages (from fsspec[http]>=2022.5.0->pytorch-lightning) (3.9.5)\n",
            "Requirement already satisfied: setuptools in c:\\users\\udayi\\appdata\\local\\programs\\python\\python311\\lib\\site-packages (from lightning-utilities>=0.10.0->pytorch-lightning) (65.5.0)\n",
            "Requirement already satisfied: colorama in c:\\users\\udayi\\appdata\\local\\programs\\python\\python311\\lib\\site-packages (from tqdm>=4.57.0->pytorch-lightning) (0.4.6)\n",
            "Requirement already satisfied: MarkupSafe>=2.0 in c:\\users\\udayi\\appdata\\local\\programs\\python\\python311\\lib\\site-packages (from jinja2->torch) (2.1.2)\n",
            "Requirement already satisfied: aiosignal>=1.1.2 in c:\\users\\udayi\\appdata\\local\\programs\\python\\python311\\lib\\site-packages (from aiohttp!=4.0.0a0,!=4.0.0a1->fsspec[http]>=2022.5.0->pytorch-lightning) (1.3.1)\n",
            "Requirement already satisfied: attrs>=17.3.0 in c:\\users\\udayi\\appdata\\local\\programs\\python\\python311\\lib\\site-packages (from aiohttp!=4.0.0a0,!=4.0.0a1->fsspec[http]>=2022.5.0->pytorch-lightning) (22.2.0)\n",
            "Requirement already satisfied: frozenlist>=1.1.1 in c:\\users\\udayi\\appdata\\local\\programs\\python\\python311\\lib\\site-packages (from aiohttp!=4.0.0a0,!=4.0.0a1->fsspec[http]>=2022.5.0->pytorch-lightning) (1.4.1)\n",
            "Requirement already satisfied: multidict<7.0,>=4.5 in c:\\users\\udayi\\appdata\\local\\programs\\python\\python311\\lib\\site-packages (from aiohttp!=4.0.0a0,!=4.0.0a1->fsspec[http]>=2022.5.0->pytorch-lightning) (6.0.5)\n",
            "Requirement already satisfied: yarl<2.0,>=1.0 in c:\\users\\udayi\\appdata\\local\\programs\\python\\python311\\lib\\site-packages (from aiohttp!=4.0.0a0,!=4.0.0a1->fsspec[http]>=2022.5.0->pytorch-lightning) (1.9.4)\n",
            "Requirement already satisfied: idna>=2.0 in c:\\users\\udayi\\appdata\\local\\programs\\python\\python311\\lib\\site-packages (from yarl<2.0,>=1.0->aiohttp!=4.0.0a0,!=4.0.0a1->fsspec[http]>=2022.5.0->pytorch-lightning) (3.7)\n",
            "Downloading torch-2.5.0-cp311-cp311-win_amd64.whl (203.1 MB)\n",
            "   ---------------------------------------- 0.0/203.1 MB ? eta -:--:--\n",
            "   ---------------------------------------- 2.1/203.1 MB 14.7 MB/s eta 0:00:14\n",
            "    --------------------------------------- 4.7/203.1 MB 13.0 MB/s eta 0:00:16\n",
            "   - -------------------------------------- 8.1/203.1 MB 13.6 MB/s eta 0:00:15\n",
            "   -- ------------------------------------- 11.0/203.1 MB 13.7 MB/s eta 0:00:14\n",
            "   -- ------------------------------------- 14.4/203.1 MB 14.4 MB/s eta 0:00:14\n",
            "   --- ------------------------------------ 18.4/203.1 MB 15.0 MB/s eta 0:00:13\n",
            "   ---- ----------------------------------- 22.5/203.1 MB 15.8 MB/s eta 0:00:12\n",
            "   ----- ---------------------------------- 25.7/203.1 MB 15.8 MB/s eta 0:00:12\n",
            "   ----- ---------------------------------- 29.9/203.1 MB 16.1 MB/s eta 0:00:11\n",
            "   ------ --------------------------------- 34.6/203.1 MB 16.8 MB/s eta 0:00:11\n",
            "   ------- -------------------------------- 37.7/203.1 MB 16.7 MB/s eta 0:00:10\n",
            "   -------- ------------------------------- 41.4/203.1 MB 16.7 MB/s eta 0:00:10\n",
            "   -------- ------------------------------- 44.6/203.1 MB 16.5 MB/s eta 0:00:10\n",
            "   --------- ------------------------------ 48.2/203.1 MB 16.6 MB/s eta 0:00:10\n",
            "   ---------- ----------------------------- 51.9/203.1 MB 16.6 MB/s eta 0:00:10\n",
            "   ---------- ----------------------------- 54.3/203.1 MB 16.2 MB/s eta 0:00:10\n",
            "   ----------- ---------------------------- 56.9/203.1 MB 16.1 MB/s eta 0:00:10\n",
            "   ----------- ---------------------------- 59.5/203.1 MB 15.8 MB/s eta 0:00:10\n",
            "   ------------ --------------------------- 62.1/203.1 MB 15.7 MB/s eta 0:00:10\n",
            "   ------------ --------------------------- 64.5/203.1 MB 15.4 MB/s eta 0:00:09\n",
            "   ------------- -------------------------- 67.1/203.1 MB 15.2 MB/s eta 0:00:09\n",
            "   ------------- -------------------------- 70.0/203.1 MB 15.2 MB/s eta 0:00:09\n",
            "   -------------- ------------------------- 72.6/203.1 MB 15.1 MB/s eta 0:00:09\n",
            "   -------------- ------------------------- 75.5/203.1 MB 15.0 MB/s eta 0:00:09\n",
            "   --------------- ------------------------ 78.6/203.1 MB 15.0 MB/s eta 0:00:09\n",
            "   ---------------- ----------------------- 81.5/203.1 MB 14.9 MB/s eta 0:00:09\n",
            "   ---------------- ----------------------- 84.7/203.1 MB 14.9 MB/s eta 0:00:08\n",
            "   ----------------- ---------------------- 87.0/203.1 MB 14.8 MB/s eta 0:00:08\n",
            "   ----------------- ---------------------- 89.1/203.1 MB 14.7 MB/s eta 0:00:08\n",
            "   ----------------- ---------------------- 91.2/203.1 MB 14.5 MB/s eta 0:00:08\n",
            "   ------------------ --------------------- 93.8/203.1 MB 14.4 MB/s eta 0:00:08\n",
            "   ------------------ --------------------- 95.2/203.1 MB 14.2 MB/s eta 0:00:08\n",
            "   ------------------- -------------------- 96.7/203.1 MB 14.0 MB/s eta 0:00:08\n",
            "   ------------------- -------------------- 98.6/203.1 MB 13.8 MB/s eta 0:00:08\n",
            "   ------------------- ------------------- 100.4/203.1 MB 13.6 MB/s eta 0:00:08\n",
            "   ------------------- ------------------- 102.0/203.1 MB 13.4 MB/s eta 0:00:08\n",
            "   ------------------- ------------------- 103.8/203.1 MB 13.3 MB/s eta 0:00:08\n",
            "   -------------------- ------------------ 105.4/203.1 MB 13.2 MB/s eta 0:00:08\n",
            "   -------------------- ------------------ 107.5/203.1 MB 13.0 MB/s eta 0:00:08\n",
            "   --------------------- ----------------- 109.6/203.1 MB 13.0 MB/s eta 0:00:08\n",
            "   --------------------- ----------------- 111.7/203.1 MB 12.9 MB/s eta 0:00:08\n",
            "   --------------------- ----------------- 113.8/203.1 MB 12.8 MB/s eta 0:00:07\n",
            "   ---------------------- ---------------- 115.6/203.1 MB 12.7 MB/s eta 0:00:07\n",
            "   ---------------------- ---------------- 118.0/203.1 MB 12.7 MB/s eta 0:00:07\n",
            "   ----------------------- --------------- 120.3/203.1 MB 12.6 MB/s eta 0:00:07\n",
            "   ----------------------- --------------- 122.7/203.1 MB 12.6 MB/s eta 0:00:07\n",
            "   ------------------------ -------------- 125.0/203.1 MB 12.6 MB/s eta 0:00:07\n",
            "   ------------------------ -------------- 127.4/203.1 MB 12.6 MB/s eta 0:00:07\n",
            "   ------------------------ -------------- 130.0/203.1 MB 12.6 MB/s eta 0:00:06\n",
            "   ------------------------- ------------- 132.6/203.1 MB 12.6 MB/s eta 0:00:06\n",
            "   -------------------------- ------------ 135.5/203.1 MB 12.6 MB/s eta 0:00:06\n",
            "   -------------------------- ------------ 138.4/203.1 MB 12.6 MB/s eta 0:00:06\n",
            "   -------------------------- ------------ 140.5/203.1 MB 12.6 MB/s eta 0:00:05\n",
            "   --------------------------- ----------- 142.9/203.1 MB 12.5 MB/s eta 0:00:05\n",
            "   --------------------------- ----------- 145.0/203.1 MB 12.5 MB/s eta 0:00:05\n",
            "   ---------------------------- ---------- 147.3/203.1 MB 12.5 MB/s eta 0:00:05\n",
            "   ---------------------------- ---------- 149.7/203.1 MB 12.4 MB/s eta 0:00:05\n",
            "   ----------------------------- --------- 152.0/203.1 MB 12.4 MB/s eta 0:00:05\n",
            "   ----------------------------- --------- 154.4/203.1 MB 12.4 MB/s eta 0:00:04\n",
            "   ------------------------------ -------- 156.8/203.1 MB 12.4 MB/s eta 0:00:04\n",
            "   ------------------------------ -------- 159.4/203.1 MB 12.4 MB/s eta 0:00:04\n",
            "   ------------------------------- ------- 162.0/203.1 MB 12.4 MB/s eta 0:00:04\n",
            "   ------------------------------- ------- 164.6/203.1 MB 12.4 MB/s eta 0:00:04\n",
            "   -------------------------------- ------ 167.5/203.1 MB 12.4 MB/s eta 0:00:03\n",
            "   -------------------------------- ------ 170.1/203.1 MB 12.4 MB/s eta 0:00:03\n",
            "   --------------------------------- ----- 172.8/203.1 MB 12.4 MB/s eta 0:00:03\n",
            "   --------------------------------- ----- 174.6/203.1 MB 12.4 MB/s eta 0:00:03\n",
            "   --------------------------------- ----- 176.4/203.1 MB 12.3 MB/s eta 0:00:03\n",
            "   ---------------------------------- ---- 178.3/203.1 MB 12.2 MB/s eta 0:00:03\n",
            "   ---------------------------------- ---- 180.6/203.1 MB 12.2 MB/s eta 0:00:02\n",
            "   ----------------------------------- --- 183.0/203.1 MB 12.2 MB/s eta 0:00:02\n",
            "   ----------------------------------- --- 185.1/203.1 MB 12.2 MB/s eta 0:00:02\n",
            "   ------------------------------------ -- 187.7/203.1 MB 12.2 MB/s eta 0:00:02\n",
            "   ------------------------------------ -- 190.1/203.1 MB 12.2 MB/s eta 0:00:02\n",
            "   ------------------------------------ -- 192.2/203.1 MB 12.1 MB/s eta 0:00:01\n",
            "   ------------------------------------- - 194.5/203.1 MB 12.1 MB/s eta 0:00:01\n",
            "   ------------------------------------- - 196.3/203.1 MB 12.1 MB/s eta 0:00:01\n",
            "   --------------------------------------  198.4/203.1 MB 12.0 MB/s eta 0:00:01\n",
            "   --------------------------------------  200.3/203.1 MB 12.0 MB/s eta 0:00:01\n",
            "   --------------------------------------  202.4/203.1 MB 12.0 MB/s eta 0:00:01\n",
            "   --------------------------------------  202.9/203.1 MB 12.0 MB/s eta 0:00:01\n",
            "   --------------------------------------  202.9/203.1 MB 12.0 MB/s eta 0:00:01\n",
            "   --------------------------------------- 203.1/203.1 MB 11.7 MB/s eta 0:00:00\n",
            "Downloading sympy-1.13.1-py3-none-any.whl (6.2 MB)\n",
            "   ---------------------------------------- 0.0/6.2 MB ? eta -:--:--\n",
            "   ------------- -------------------------- 2.1/6.2 MB 9.8 MB/s eta 0:00:01\n",
            "   ------------------------- -------------- 3.9/6.2 MB 9.4 MB/s eta 0:00:01\n",
            "   ---------------------------------------- 6.2/6.2 MB 10.0 MB/s eta 0:00:00\n",
            "Downloading torchvision-0.20.0-cp311-cp311-win_amd64.whl (1.6 MB)\n",
            "   ---------------------------------------- 0.0/1.6 MB ? eta -:--:--\n",
            "   ---------------------------------------- 1.6/1.6 MB 10.4 MB/s eta 0:00:00\n",
            "Downloading torchaudio-2.5.0-cp311-cp311-win_amd64.whl (2.4 MB)\n",
            "   ---------------------------------------- 0.0/2.4 MB ? eta -:--:--\n",
            "   -------------------------------------- - 2.4/2.4 MB 12.2 MB/s eta 0:00:01\n",
            "   ---------------------------------------- 2.4/2.4 MB 10.7 MB/s eta 0:00:00\n",
            "Downloading pytorch_lightning-2.4.0-py3-none-any.whl (815 kB)\n",
            "   ---------------------------------------- 0.0/815.2 kB ? eta -:--:--\n",
            "   ---------------------------------------- 815.2/815.2 kB 8.8 MB/s eta 0:00:00\n",
            "Downloading lightning_utilities-0.11.8-py3-none-any.whl (26 kB)\n",
            "Downloading torchmetrics-1.5.1-py3-none-any.whl (890 kB)\n",
            "   ---------------------------------------- 0.0/890.6 kB ? eta -:--:--\n",
            "   --------------------------------------- 890.6/890.6 kB 10.1 MB/s eta 0:00:00\n",
            "Installing collected packages: sympy, lightning-utilities, torch, torchvision, torchmetrics, torchaudio, pytorch-lightning\n",
            "  Attempting uninstall: sympy\n",
            "    Found existing installation: sympy 1.12\n",
            "    Uninstalling sympy-1.12:\n",
            "      Successfully uninstalled sympy-1.12\n",
            "  Attempting uninstall: torch\n",
            "    Found existing installation: torch 2.4.1\n",
            "    Uninstalling torch-2.4.1:\n",
            "      Successfully uninstalled torch-2.4.1\n",
            "  Attempting uninstall: torchvision\n",
            "    Found existing installation: torchvision 0.19.1\n",
            "    Uninstalling torchvision-0.19.1:\n",
            "      Successfully uninstalled torchvision-0.19.1\n",
            "Successfully installed lightning-utilities-0.11.8 pytorch-lightning-2.4.0 sympy-1.13.1 torch-2.5.0 torchaudio-2.5.0 torchmetrics-1.5.1 torchvision-0.20.0\n",
            "Note: you may need to restart the kernel to use updated packages.\n",
            "Requirement already satisfied: transformers in c:\\users\\udayi\\appdata\\local\\programs\\python\\python311\\lib\\site-packages (4.40.1)\n",
            "Requirement already satisfied: filelock in c:\\users\\udayi\\appdata\\local\\programs\\python\\python311\\lib\\site-packages (from transformers) (3.13.4)\n",
            "Requirement already satisfied: huggingface-hub<1.0,>=0.19.3 in c:\\users\\udayi\\appdata\\local\\programs\\python\\python311\\lib\\site-packages (from transformers) (0.22.2)\n",
            "Requirement already satisfied: numpy>=1.17 in c:\\users\\udayi\\appdata\\local\\programs\\python\\python311\\lib\\site-packages (from transformers) (1.26.4)\n",
            "Requirement already satisfied: packaging>=20.0 in c:\\users\\udayi\\appdata\\local\\programs\\python\\python311\\lib\\site-packages (from transformers) (23.2)\n",
            "Requirement already satisfied: pyyaml>=5.1 in c:\\users\\udayi\\appdata\\local\\programs\\python\\python311\\lib\\site-packages (from transformers) (6.0.1)\n",
            "Requirement already satisfied: regex!=2019.12.17 in c:\\users\\udayi\\appdata\\local\\programs\\python\\python311\\lib\\site-packages (from transformers) (2024.4.16)\n",
            "Requirement already satisfied: requests in c:\\users\\udayi\\appdata\\local\\programs\\python\\python311\\lib\\site-packages (from transformers) (2.32.3)\n",
            "Requirement already satisfied: tokenizers<0.20,>=0.19 in c:\\users\\udayi\\appdata\\local\\programs\\python\\python311\\lib\\site-packages (from transformers) (0.19.1)\n",
            "Requirement already satisfied: safetensors>=0.4.1 in c:\\users\\udayi\\appdata\\local\\programs\\python\\python311\\lib\\site-packages (from transformers) (0.4.3)\n",
            "Requirement already satisfied: tqdm>=4.27 in c:\\users\\udayi\\appdata\\local\\programs\\python\\python311\\lib\\site-packages (from transformers) (4.66.5)\n",
            "Requirement already satisfied: fsspec>=2023.5.0 in c:\\users\\udayi\\appdata\\local\\programs\\python\\python311\\lib\\site-packages (from huggingface-hub<1.0,>=0.19.3->transformers) (2024.3.1)\n",
            "Requirement already satisfied: typing-extensions>=3.7.4.3 in c:\\users\\udayi\\appdata\\local\\programs\\python\\python311\\lib\\site-packages (from huggingface-hub<1.0,>=0.19.3->transformers) (4.11.0)\n",
            "Requirement already satisfied: colorama in c:\\users\\udayi\\appdata\\local\\programs\\python\\python311\\lib\\site-packages (from tqdm>=4.27->transformers) (0.4.6)\n",
            "Requirement already satisfied: charset-normalizer<4,>=2 in c:\\users\\udayi\\appdata\\local\\programs\\python\\python311\\lib\\site-packages (from requests->transformers) (3.3.2)\n",
            "Requirement already satisfied: idna<4,>=2.5 in c:\\users\\udayi\\appdata\\local\\programs\\python\\python311\\lib\\site-packages (from requests->transformers) (3.7)\n",
            "Requirement already satisfied: urllib3<3,>=1.21.1 in c:\\users\\udayi\\appdata\\local\\programs\\python\\python311\\lib\\site-packages (from requests->transformers) (2.2.1)\n",
            "Requirement already satisfied: certifi>=2017.4.17 in c:\\users\\udayi\\appdata\\local\\programs\\python\\python311\\lib\\site-packages (from requests->transformers) (2024.2.2)\n",
            "Note: you may need to restart the kernel to use updated packages.\n",
            "Requirement already satisfied: tokenizers in c:\\users\\udayi\\appdata\\local\\programs\\python\\python311\\lib\\site-packages (0.19.1)\n",
            "Requirement already satisfied: huggingface-hub<1.0,>=0.16.4 in c:\\users\\udayi\\appdata\\local\\programs\\python\\python311\\lib\\site-packages (from tokenizers) (0.22.2)\n",
            "Requirement already satisfied: filelock in c:\\users\\udayi\\appdata\\local\\programs\\python\\python311\\lib\\site-packages (from huggingface-hub<1.0,>=0.16.4->tokenizers) (3.13.4)\n",
            "Requirement already satisfied: fsspec>=2023.5.0 in c:\\users\\udayi\\appdata\\local\\programs\\python\\python311\\lib\\site-packages (from huggingface-hub<1.0,>=0.16.4->tokenizers) (2024.3.1)\n",
            "Requirement already satisfied: packaging>=20.9 in c:\\users\\udayi\\appdata\\local\\programs\\python\\python311\\lib\\site-packages (from huggingface-hub<1.0,>=0.16.4->tokenizers) (23.2)\n",
            "Requirement already satisfied: pyyaml>=5.1 in c:\\users\\udayi\\appdata\\local\\programs\\python\\python311\\lib\\site-packages (from huggingface-hub<1.0,>=0.16.4->tokenizers) (6.0.1)\n",
            "Requirement already satisfied: requests in c:\\users\\udayi\\appdata\\local\\programs\\python\\python311\\lib\\site-packages (from huggingface-hub<1.0,>=0.16.4->tokenizers) (2.32.3)\n",
            "Requirement already satisfied: tqdm>=4.42.1 in c:\\users\\udayi\\appdata\\local\\programs\\python\\python311\\lib\\site-packages (from huggingface-hub<1.0,>=0.16.4->tokenizers) (4.66.5)\n",
            "Requirement already satisfied: typing-extensions>=3.7.4.3 in c:\\users\\udayi\\appdata\\local\\programs\\python\\python311\\lib\\site-packages (from huggingface-hub<1.0,>=0.16.4->tokenizers) (4.11.0)\n",
            "Requirement already satisfied: colorama in c:\\users\\udayi\\appdata\\local\\programs\\python\\python311\\lib\\site-packages (from tqdm>=4.42.1->huggingface-hub<1.0,>=0.16.4->tokenizers) (0.4.6)\n",
            "Requirement already satisfied: charset-normalizer<4,>=2 in c:\\users\\udayi\\appdata\\local\\programs\\python\\python311\\lib\\site-packages (from requests->huggingface-hub<1.0,>=0.16.4->tokenizers) (3.3.2)\n",
            "Requirement already satisfied: idna<4,>=2.5 in c:\\users\\udayi\\appdata\\local\\programs\\python\\python311\\lib\\site-packages (from requests->huggingface-hub<1.0,>=0.16.4->tokenizers) (3.7)\n",
            "Requirement already satisfied: urllib3<3,>=1.21.1 in c:\\users\\udayi\\appdata\\local\\programs\\python\\python311\\lib\\site-packages (from requests->huggingface-hub<1.0,>=0.16.4->tokenizers) (2.2.1)\n",
            "Requirement already satisfied: certifi>=2017.4.17 in c:\\users\\udayi\\appdata\\local\\programs\\python\\python311\\lib\\site-packages (from requests->huggingface-hub<1.0,>=0.16.4->tokenizers) (2024.2.2)\n",
            "Note: you may need to restart the kernel to use updated packages.\n",
            "Requirement already satisfied: sentencepiece in c:\\users\\udayi\\appdata\\local\\programs\\python\\python311\\lib\\site-packages (0.2.0)\n",
            "Note: you may need to restart the kernel to use updated packages.\n",
            "Collecting torchtext\n",
            "  Downloading torchtext-0.18.0-cp311-cp311-win_amd64.whl.metadata (7.9 kB)\n",
            "Requirement already satisfied: tqdm in c:\\users\\udayi\\appdata\\local\\programs\\python\\python311\\lib\\site-packages (from torchtext) (4.66.5)\n",
            "Requirement already satisfied: requests in c:\\users\\udayi\\appdata\\local\\programs\\python\\python311\\lib\\site-packages (from torchtext) (2.32.3)\n",
            "Requirement already satisfied: torch>=2.3.0 in c:\\users\\udayi\\appdata\\local\\programs\\python\\python311\\lib\\site-packages (from torchtext) (2.5.0)\n",
            "Requirement already satisfied: numpy in c:\\users\\udayi\\appdata\\local\\programs\\python\\python311\\lib\\site-packages (from torchtext) (1.26.4)\n",
            "Requirement already satisfied: filelock in c:\\users\\udayi\\appdata\\local\\programs\\python\\python311\\lib\\site-packages (from torch>=2.3.0->torchtext) (3.13.4)\n",
            "Requirement already satisfied: typing-extensions>=4.8.0 in c:\\users\\udayi\\appdata\\local\\programs\\python\\python311\\lib\\site-packages (from torch>=2.3.0->torchtext) (4.11.0)\n",
            "Requirement already satisfied: networkx in c:\\users\\udayi\\appdata\\local\\programs\\python\\python311\\lib\\site-packages (from torch>=2.3.0->torchtext) (3.3)\n",
            "Requirement already satisfied: jinja2 in c:\\users\\udayi\\appdata\\local\\programs\\python\\python311\\lib\\site-packages (from torch>=2.3.0->torchtext) (3.1.2)\n",
            "Requirement already satisfied: fsspec in c:\\users\\udayi\\appdata\\local\\programs\\python\\python311\\lib\\site-packages (from torch>=2.3.0->torchtext) (2024.3.1)\n",
            "Requirement already satisfied: sympy==1.13.1 in c:\\users\\udayi\\appdata\\local\\programs\\python\\python311\\lib\\site-packages (from torch>=2.3.0->torchtext) (1.13.1)\n",
            "Requirement already satisfied: mpmath<1.4,>=1.1.0 in c:\\users\\udayi\\appdata\\local\\programs\\python\\python311\\lib\\site-packages (from sympy==1.13.1->torch>=2.3.0->torchtext) (1.3.0)\n",
            "Requirement already satisfied: charset-normalizer<4,>=2 in c:\\users\\udayi\\appdata\\local\\programs\\python\\python311\\lib\\site-packages (from requests->torchtext) (3.3.2)\n",
            "Requirement already satisfied: idna<4,>=2.5 in c:\\users\\udayi\\appdata\\local\\programs\\python\\python311\\lib\\site-packages (from requests->torchtext) (3.7)\n",
            "Requirement already satisfied: urllib3<3,>=1.21.1 in c:\\users\\udayi\\appdata\\local\\programs\\python\\python311\\lib\\site-packages (from requests->torchtext) (2.2.1)\n",
            "Requirement already satisfied: certifi>=2017.4.17 in c:\\users\\udayi\\appdata\\local\\programs\\python\\python311\\lib\\site-packages (from requests->torchtext) (2024.2.2)\n",
            "Requirement already satisfied: colorama in c:\\users\\udayi\\appdata\\local\\programs\\python\\python311\\lib\\site-packages (from tqdm->torchtext) (0.4.6)\n",
            "Requirement already satisfied: MarkupSafe>=2.0 in c:\\users\\udayi\\appdata\\local\\programs\\python\\python311\\lib\\site-packages (from jinja2->torch>=2.3.0->torchtext) (2.1.2)\n",
            "Downloading torchtext-0.18.0-cp311-cp311-win_amd64.whl (1.9 MB)\n",
            "   ---------------------------------------- 0.0/1.9 MB ? eta -:--:--\n",
            "   ---------------------------------------- 1.9/1.9 MB 17.9 MB/s eta 0:00:00\n",
            "Installing collected packages: torchtext\n",
            "Successfully installed torchtext-0.18.0\n",
            "Note: you may need to restart the kernel to use updated packages.\n"
          ]
        }
      ],
      "source": [
        "%pip install datasets\n",
        "%pip install tqdm\n",
        "%pip install --upgrade torch torchvision torchaudio pytorch-lightning\n",
        "%pip install  transformers\n",
        "%pip install tokenizers\n",
        "%pip install sentencepiece\n",
        "%pip install torchtext"
      ]
    },
    {
      "cell_type": "code",
      "execution_count": 2,
      "metadata": {
        "colab": {
          "base_uri": "https://localhost:8080/"
        },
        "id": "mprXj8sXtRKz",
        "outputId": "78979773-e98b-45aa-b0f8-4b090b8ef01e"
      },
      "outputs": [
        {
          "name": "stderr",
          "output_type": "stream",
          "text": [
            "c:\\Users\\udayi\\AppData\\Local\\Programs\\Python\\Python311\\Lib\\site-packages\\tqdm\\auto.py:21: TqdmWarning: IProgress not found. Please update jupyter and ipywidgets. See https://ipywidgets.readthedocs.io/en/stable/user_install.html\n",
            "  from .autonotebook import tqdm as notebook_tqdm\n",
            "c:\\Users\\udayi\\AppData\\Local\\Programs\\Python\\Python311\\Lib\\site-packages\\huggingface_hub\\file_download.py:148: UserWarning: `huggingface_hub` cache-system uses symlinks by default to efficiently store duplicated files but your machine does not support them in C:\\Users\\udayi\\.cache\\huggingface\\hub\\datasets--squad. Caching files will still work but in a degraded version that might require more space on your disk. This warning can be disabled by setting the `HF_HUB_DISABLE_SYMLINKS_WARNING` environment variable. For more details, see https://huggingface.co/docs/huggingface_hub/how-to-cache#limitations.\n",
            "To support symlinks on Windows, you either need to activate Developer Mode or to run Python as an administrator. In order to see activate developer mode, see this article: https://docs.microsoft.com/en-us/windows/apps/get-started/enable-your-device-for-development\n",
            "  warnings.warn(message)\n",
            "Generating train split: 100%|██████████| 87599/87599 [00:00<00:00, 542281.46 examples/s]\n",
            "Generating validation split: 100%|██████████| 10570/10570 [00:00<00:00, 770942.05 examples/s]\n"
          ]
        }
      ],
      "source": [
        "from datasets import load_dataset\n",
        "train_dataset = load_dataset('squad', split='train')\n",
        "valid_dataset = load_dataset('squad', split='validation')"
      ]
    },
    {
      "cell_type": "code",
      "execution_count": 3,
      "metadata": {
        "colab": {
          "base_uri": "https://localhost:8080/"
        },
        "id": "DEs07a48xXVJ",
        "outputId": "27058971-8601-419f-bf1f-a70733aa6320"
      },
      "outputs": [
        {
          "name": "stdout",
          "output_type": "stream",
          "text": [
            "{'answers': {'answer_start': [177, 177, 177],\n",
            "             'text': ['Denver Broncos', 'Denver Broncos', 'Denver Broncos']},\n",
            " 'context': 'Super Bowl 50 was an American football game to determine the '\n",
            "            'champion of the National Football League (NFL) for the 2015 '\n",
            "            'season. The American Football Conference (AFC) champion Denver '\n",
            "            'Broncos defeated the National Football Conference (NFC) champion '\n",
            "            'Carolina Panthers 24–10 to earn their third Super Bowl title. The '\n",
            "            \"game was played on February 7, 2016, at Levi's Stadium in the San \"\n",
            "            'Francisco Bay Area at Santa Clara, California. As this was the '\n",
            "            '50th Super Bowl, the league emphasized the \"golden anniversary\" '\n",
            "            'with various gold-themed initiatives, as well as temporarily '\n",
            "            'suspending the tradition of naming each Super Bowl game with '\n",
            "            'Roman numerals (under which the game would have been known as '\n",
            "            '\"Super Bowl L\"), so that the logo could prominently feature the '\n",
            "            'Arabic numerals 50.',\n",
            " 'id': '56be4db0acb8001400a502ec',\n",
            " 'question': 'Which NFL team represented the AFC at Super Bowl 50?',\n",
            " 'title': 'Super_Bowl_50'}\n"
          ]
        }
      ],
      "source": [
        "from pprint import pprint\n",
        "sample_validation_dataset = next(iter(valid_dataset))\n",
        "pprint (sample_validation_dataset)"
      ]
    },
    {
      "cell_type": "code",
      "execution_count": 4,
      "metadata": {
        "colab": {
          "base_uri": "https://localhost:8080/"
        },
        "id": "IETlXSGTDhNS",
        "outputId": "b5d7bba6-14c7-4920-9a17-e31a7a479675"
      },
      "outputs": [
        {
          "name": "stdout",
          "output_type": "stream",
          "text": [
            "context:  Super Bowl 50 was an American football game to determine the champion of the National Football League (NFL) for the 2015 season. The American Football Conference (AFC) champion Denver Broncos defeated the National Football Conference (NFC) champion Carolina Panthers 24–10 to earn their third Super Bowl title. The game was played on February 7, 2016, at Levi's Stadium in the San Francisco Bay Area at Santa Clara, California. As this was the 50th Super Bowl, the league emphasized the \"golden anniversary\" with various gold-themed initiatives, as well as temporarily suspending the tradition of naming each Super Bowl game with Roman numerals (under which the game would have been known as \"Super Bowl L\"), so that the logo could prominently feature the Arabic numerals 50.\n",
            "question:  Which NFL team represented the AFC at Super Bowl 50?\n",
            "answer:  Denver Broncos\n"
          ]
        }
      ],
      "source": [
        "context = sample_validation_dataset['context']\n",
        "question = sample_validation_dataset['question']\n",
        "answer = sample_validation_dataset['answers']['text'][0]\n",
        "\n",
        "print (\"context: \",context)\n",
        "print (\"question: \",question)\n",
        "print (\"answer: \",answer)"
      ]
    },
    {
      "cell_type": "code",
      "execution_count": 5,
      "metadata": {
        "colab": {
          "base_uri": "https://localhost:8080/"
        },
        "id": "moi4o2hlxJvc",
        "outputId": "77d4f7df-1423-45b1-bd6e-fa4b254afe63"
      },
      "outputs": [
        {
          "name": "stdout",
          "output_type": "stream",
          "text": [
            "Empty DataFrame\n",
            "Columns: [context, answer, question]\n",
            "Index: []\n",
            "Empty DataFrame\n",
            "Columns: [context, answer, question]\n",
            "Index: []\n"
          ]
        }
      ],
      "source": [
        "import pandas as pd\n",
        "# pd.set_option(\"display.max_colwidth\", -1)\n",
        "from tqdm import tqdm\n",
        "df_train = pd.DataFrame( columns = ['context', 'answer','question'])\n",
        "df_validation = pd.DataFrame( columns = ['context', 'answer','question'])\n",
        "print (df_validation)\n",
        "print (df_train)"
      ]
    },
    {
      "cell_type": "code",
      "execution_count": 6,
      "metadata": {
        "colab": {
          "base_uri": "https://localhost:8080/",
          "height": 66,
          "referenced_widgets": [
            "f42901551fb84d3990733fe16081637a",
            "4aadc02448764e33b3f53e5d0b1bc2a4",
            "f72ba849026344fe84d1a5e0e4bc5968",
            "a8bcd55c80a2474a8890a5d4897dcdb3",
            "80b0867f4ce44bf9b44d73e8e85ed250",
            "d2a6bbea07b946ffaf95f859cd3a9f69",
            "aeea393f45484ab68c42135e2f7c690b",
            "b7ebd7770a484fbcb267fb13531aa7f6",
            "1d2bd1c00c2d41b09e5b8182c20ae22d",
            "6f4f3d135fad46869772bab5f62071fb",
            "252f1901f7ff4656b570d2be9d766e31"
          ]
        },
        "id": "0C2jtTVtxOXg",
        "outputId": "d89e0ed3-5e21-4e86-9bf5-4dee6589b779"
      },
      "outputs": [
        {
          "name": "stderr",
          "output_type": "stream",
          "text": [
            "  0%|          | 0/87599 [00:00<?, ?it/s]"
          ]
        },
        {
          "name": "stderr",
          "output_type": "stream",
          "text": [
            " 15%|█▌        | 13216/87599 [00:11<01:02, 1193.53it/s]\n"
          ]
        },
        {
          "ename": "KeyboardInterrupt",
          "evalue": "",
          "output_type": "error",
          "traceback": [
            "\u001b[1;31m---------------------------------------------------------------------------\u001b[0m",
            "\u001b[1;31mKeyError\u001b[0m                                  Traceback (most recent call last)",
            "File \u001b[1;32mc:\\Users\\udayi\\AppData\\Local\\Programs\\Python\\Python311\\Lib\\site-packages\\pandas\\core\\indexes\\base.py:3805\u001b[0m, in \u001b[0;36mIndex.get_loc\u001b[1;34m(self, key)\u001b[0m\n\u001b[0;32m   3804\u001b[0m \u001b[38;5;28;01mtry\u001b[39;00m:\n\u001b[1;32m-> 3805\u001b[0m     \u001b[38;5;28;01mreturn\u001b[39;00m \u001b[38;5;28;43mself\u001b[39;49m\u001b[38;5;241;43m.\u001b[39;49m\u001b[43m_engine\u001b[49m\u001b[38;5;241;43m.\u001b[39;49m\u001b[43mget_loc\u001b[49m\u001b[43m(\u001b[49m\u001b[43mcasted_key\u001b[49m\u001b[43m)\u001b[49m\n\u001b[0;32m   3806\u001b[0m \u001b[38;5;28;01mexcept\u001b[39;00m \u001b[38;5;167;01mKeyError\u001b[39;00m \u001b[38;5;28;01mas\u001b[39;00m err:\n",
            "File \u001b[1;32mindex.pyx:167\u001b[0m, in \u001b[0;36mpandas._libs.index.IndexEngine.get_loc\u001b[1;34m()\u001b[0m\n",
            "File \u001b[1;32mindex.pyx:196\u001b[0m, in \u001b[0;36mpandas._libs.index.IndexEngine.get_loc\u001b[1;34m()\u001b[0m\n",
            "File \u001b[1;32mpandas\\\\_libs\\\\hashtable_class_helper.pxi:2606\u001b[0m, in \u001b[0;36mpandas._libs.hashtable.Int64HashTable.get_item\u001b[1;34m()\u001b[0m\n",
            "File \u001b[1;32mpandas\\\\_libs\\\\hashtable_class_helper.pxi:2630\u001b[0m, in \u001b[0;36mpandas._libs.hashtable.Int64HashTable.get_item\u001b[1;34m()\u001b[0m\n",
            "\u001b[1;31mKeyError\u001b[0m: 13216",
            "\nDuring handling of the above exception, another exception occurred:\n",
            "\u001b[1;31mKeyboardInterrupt\u001b[0m                         Traceback (most recent call last)",
            "Cell \u001b[1;32mIn[6], line 7\u001b[0m\n\u001b[0;32m      5\u001b[0m     question \u001b[38;5;241m=\u001b[39m val[\u001b[38;5;124m'\u001b[39m\u001b[38;5;124mquestion\u001b[39m\u001b[38;5;124m'\u001b[39m]\n\u001b[0;32m      6\u001b[0m     answer \u001b[38;5;241m=\u001b[39m val[\u001b[38;5;124m'\u001b[39m\u001b[38;5;124manswers\u001b[39m\u001b[38;5;124m'\u001b[39m][\u001b[38;5;124m'\u001b[39m\u001b[38;5;124mtext\u001b[39m\u001b[38;5;124m'\u001b[39m][\u001b[38;5;241m0\u001b[39m]\n\u001b[1;32m----> 7\u001b[0m     \u001b[43mdf_train\u001b[49m\u001b[38;5;241;43m.\u001b[39;49m\u001b[43mloc\u001b[49m\u001b[43m[\u001b[49m\u001b[43mcount\u001b[49m\u001b[43m]\u001b[49m\u001b[38;5;241m=\u001b[39m [passage] \u001b[38;5;241m+\u001b[39m [answer] \u001b[38;5;241m+\u001b[39m [question]\n\u001b[0;32m      8\u001b[0m     count \u001b[38;5;241m=\u001b[39m count \u001b[38;5;241m+\u001b[39m \u001b[38;5;241m1\u001b[39m\n\u001b[0;32m     10\u001b[0m \u001b[38;5;28mprint\u001b[39m (\u001b[38;5;124m\"\u001b[39m\u001b[38;5;124mcount train dataset: \u001b[39m\u001b[38;5;124m\"\u001b[39m,count)\n",
            "File \u001b[1;32mc:\\Users\\udayi\\AppData\\Local\\Programs\\Python\\Python311\\Lib\\site-packages\\pandas\\core\\indexing.py:907\u001b[0m, in \u001b[0;36m_LocationIndexer.__setitem__\u001b[1;34m(self, key, value)\u001b[0m\n\u001b[0;32m    905\u001b[0m     maybe_callable \u001b[38;5;241m=\u001b[39m com\u001b[38;5;241m.\u001b[39mapply_if_callable(key, \u001b[38;5;28mself\u001b[39m\u001b[38;5;241m.\u001b[39mobj)\n\u001b[0;32m    906\u001b[0m     key \u001b[38;5;241m=\u001b[39m \u001b[38;5;28mself\u001b[39m\u001b[38;5;241m.\u001b[39m_check_deprecated_callable_usage(key, maybe_callable)\n\u001b[1;32m--> 907\u001b[0m indexer \u001b[38;5;241m=\u001b[39m \u001b[38;5;28;43mself\u001b[39;49m\u001b[38;5;241;43m.\u001b[39;49m\u001b[43m_get_setitem_indexer\u001b[49m\u001b[43m(\u001b[49m\u001b[43mkey\u001b[49m\u001b[43m)\u001b[49m\n\u001b[0;32m    908\u001b[0m \u001b[38;5;28mself\u001b[39m\u001b[38;5;241m.\u001b[39m_has_valid_setitem_indexer(key)\n\u001b[0;32m    910\u001b[0m iloc \u001b[38;5;241m=\u001b[39m \u001b[38;5;28mself\u001b[39m \u001b[38;5;28;01mif\u001b[39;00m \u001b[38;5;28mself\u001b[39m\u001b[38;5;241m.\u001b[39mname \u001b[38;5;241m==\u001b[39m \u001b[38;5;124m\"\u001b[39m\u001b[38;5;124miloc\u001b[39m\u001b[38;5;124m\"\u001b[39m \u001b[38;5;28;01melse\u001b[39;00m \u001b[38;5;28mself\u001b[39m\u001b[38;5;241m.\u001b[39mobj\u001b[38;5;241m.\u001b[39miloc\n",
            "File \u001b[1;32mc:\\Users\\udayi\\AppData\\Local\\Programs\\Python\\Python311\\Lib\\site-packages\\pandas\\core\\indexing.py:780\u001b[0m, in \u001b[0;36m_LocationIndexer._get_setitem_indexer\u001b[1;34m(self, key)\u001b[0m\n\u001b[0;32m    776\u001b[0m \u001b[38;5;28;01mif\u001b[39;00m \u001b[38;5;28misinstance\u001b[39m(key, \u001b[38;5;28mrange\u001b[39m):\n\u001b[0;32m    777\u001b[0m     \u001b[38;5;66;03m# GH#45479 test_loc_setitem_range_key\u001b[39;00m\n\u001b[0;32m    778\u001b[0m     key \u001b[38;5;241m=\u001b[39m \u001b[38;5;28mlist\u001b[39m(key)\n\u001b[1;32m--> 780\u001b[0m \u001b[38;5;28;01mreturn\u001b[39;00m \u001b[38;5;28;43mself\u001b[39;49m\u001b[38;5;241;43m.\u001b[39;49m\u001b[43m_convert_to_indexer\u001b[49m\u001b[43m(\u001b[49m\u001b[43mkey\u001b[49m\u001b[43m,\u001b[49m\u001b[43m \u001b[49m\u001b[43maxis\u001b[49m\u001b[38;5;241;43m=\u001b[39;49m\u001b[38;5;241;43m0\u001b[39;49m\u001b[43m)\u001b[49m\n",
            "File \u001b[1;32mc:\\Users\\udayi\\AppData\\Local\\Programs\\Python\\Python311\\Lib\\site-packages\\pandas\\core\\indexing.py:1493\u001b[0m, in \u001b[0;36m_LocIndexer._convert_to_indexer\u001b[1;34m(self, key, axis)\u001b[0m\n\u001b[0;32m   1486\u001b[0m \u001b[38;5;28;01mif\u001b[39;00m is_scalar(key) \u001b[38;5;129;01mor\u001b[39;00m (\n\u001b[0;32m   1487\u001b[0m     \u001b[38;5;28misinstance\u001b[39m(labels, MultiIndex) \u001b[38;5;129;01mand\u001b[39;00m is_hashable(key) \u001b[38;5;129;01mand\u001b[39;00m \u001b[38;5;129;01mnot\u001b[39;00m contains_slice\n\u001b[0;32m   1488\u001b[0m ):\n\u001b[0;32m   1489\u001b[0m     \u001b[38;5;66;03m# Otherwise get_loc will raise InvalidIndexError\u001b[39;00m\n\u001b[0;32m   1490\u001b[0m \n\u001b[0;32m   1491\u001b[0m     \u001b[38;5;66;03m# if we are a label return me\u001b[39;00m\n\u001b[0;32m   1492\u001b[0m     \u001b[38;5;28;01mtry\u001b[39;00m:\n\u001b[1;32m-> 1493\u001b[0m         \u001b[38;5;28;01mreturn\u001b[39;00m \u001b[43mlabels\u001b[49m\u001b[38;5;241;43m.\u001b[39;49m\u001b[43mget_loc\u001b[49m\u001b[43m(\u001b[49m\u001b[43mkey\u001b[49m\u001b[43m)\u001b[49m\n\u001b[0;32m   1494\u001b[0m     \u001b[38;5;28;01mexcept\u001b[39;00m \u001b[38;5;167;01mLookupError\u001b[39;00m:\n\u001b[0;32m   1495\u001b[0m         \u001b[38;5;28;01mif\u001b[39;00m \u001b[38;5;28misinstance\u001b[39m(key, \u001b[38;5;28mtuple\u001b[39m) \u001b[38;5;129;01mand\u001b[39;00m \u001b[38;5;28misinstance\u001b[39m(labels, MultiIndex):\n",
            "File \u001b[1;32mc:\\Users\\udayi\\AppData\\Local\\Programs\\Python\\Python311\\Lib\\site-packages\\pandas\\core\\indexes\\base.py:3808\u001b[0m, in \u001b[0;36mIndex.get_loc\u001b[1;34m(self, key)\u001b[0m\n\u001b[0;32m   3805\u001b[0m     \u001b[38;5;28;01mreturn\u001b[39;00m \u001b[38;5;28mself\u001b[39m\u001b[38;5;241m.\u001b[39m_engine\u001b[38;5;241m.\u001b[39mget_loc(casted_key)\n\u001b[0;32m   3806\u001b[0m \u001b[38;5;28;01mexcept\u001b[39;00m \u001b[38;5;167;01mKeyError\u001b[39;00m \u001b[38;5;28;01mas\u001b[39;00m err:\n\u001b[0;32m   3807\u001b[0m     \u001b[38;5;28;01mif\u001b[39;00m \u001b[38;5;28misinstance\u001b[39m(casted_key, \u001b[38;5;28mslice\u001b[39m) \u001b[38;5;129;01mor\u001b[39;00m (\n\u001b[1;32m-> 3808\u001b[0m         \u001b[38;5;28misinstance\u001b[39m(casted_key, abc\u001b[38;5;241m.\u001b[39mIterable)\n\u001b[0;32m   3809\u001b[0m         \u001b[38;5;129;01mand\u001b[39;00m \u001b[38;5;28many\u001b[39m(\u001b[38;5;28misinstance\u001b[39m(x, \u001b[38;5;28mslice\u001b[39m) \u001b[38;5;28;01mfor\u001b[39;00m x \u001b[38;5;129;01min\u001b[39;00m casted_key)\n\u001b[0;32m   3810\u001b[0m     ):\n\u001b[0;32m   3811\u001b[0m         \u001b[38;5;28;01mraise\u001b[39;00m InvalidIndexError(key)\n\u001b[0;32m   3812\u001b[0m     \u001b[38;5;28;01mraise\u001b[39;00m \u001b[38;5;167;01mKeyError\u001b[39;00m(key) \u001b[38;5;28;01mfrom\u001b[39;00m \u001b[38;5;21;01merr\u001b[39;00m\n",
            "File \u001b[1;32m<frozen abc>:117\u001b[0m, in \u001b[0;36m__instancecheck__\u001b[1;34m(cls, instance)\u001b[0m\n",
            "\u001b[1;31mKeyboardInterrupt\u001b[0m: "
          ]
        }
      ],
      "source": [
        "count = 0\n",
        "\n",
        "for index,val in enumerate(tqdm(train_dataset)):\n",
        "    passage = val['context']\n",
        "    question = val['question']\n",
        "    answer = val['answers']['text'][0]\n",
        "    df_train.loc[count]= [passage] + [answer] + [question]\n",
        "    count = count + 1\n",
        "\n",
        "print (\"count train dataset: \",count)"
      ]
    },
    {
      "cell_type": "code",
      "execution_count": 6,
      "metadata": {
        "colab": {
          "base_uri": "https://localhost:8080/",
          "height": 66,
          "referenced_widgets": [
            "568a6c63514947ec8f38eaa5ea496a68",
            "79463ebdd12f49b99639586422fe18cf",
            "fdcc39b22c4243cfbe45bbaec83ab858",
            "693ee494566941a4a605dd223f305ec9",
            "fc4007904a28408e8aea44735171dce8",
            "fdb41f39a3f04e6f92dcfa87081268c9",
            "4599e1ffa2ee428d80f680a7be36aab2",
            "1dddc1dcc4c44feba3919d99e0d50b1a",
            "e0c26565f29d485ba13685bc5f9772bd",
            "afed662008144b1c9dd6c866261b8e7c",
            "b5666513c6fa4213a6ecfafa5e0d44a7"
          ]
        },
        "id": "yhVpt7sAHrz_",
        "outputId": "89782d0a-8c33-4cd2-8ab8-986a019d1bca"
      },
      "outputs": [
        {
          "name": "stderr",
          "output_type": "stream",
          "text": [
            "100%|██████████| 10570/10570 [00:06<00:00, 1530.07it/s]"
          ]
        },
        {
          "name": "stdout",
          "output_type": "stream",
          "text": [
            "count validation dataset:  10570\n"
          ]
        },
        {
          "name": "stderr",
          "output_type": "stream",
          "text": [
            "\n"
          ]
        }
      ],
      "source": [
        "count = 0\n",
        "\n",
        "for index,val in enumerate(tqdm(valid_dataset)):\n",
        "    passage = val['context']\n",
        "    question = val['question']\n",
        "    answer = val['answers']['text'][0]\n",
        "    df_validation.loc[count]= [passage] + [answer] + [question]\n",
        "    count = count + 1\n",
        "\n",
        "print (\"count validation dataset: \",count)"
      ]
    },
    {
      "cell_type": "code",
      "execution_count": 7,
      "metadata": {},
      "outputs": [
        {
          "name": "stdout",
          "output_type": "stream",
          "text": [
            "Requirement already satisfied: scikit-learn in c:\\users\\udayi\\appdata\\local\\programs\\python\\python311\\lib\\site-packages (1.4.2)\n",
            "Requirement already satisfied: numpy>=1.19.5 in c:\\users\\udayi\\appdata\\local\\programs\\python\\python311\\lib\\site-packages (from scikit-learn) (1.26.4)\n",
            "Requirement already satisfied: scipy>=1.6.0 in c:\\users\\udayi\\appdata\\local\\programs\\python\\python311\\lib\\site-packages (from scikit-learn) (1.13.0)\n",
            "Requirement already satisfied: joblib>=1.2.0 in c:\\users\\udayi\\appdata\\local\\programs\\python\\python311\\lib\\site-packages (from scikit-learn) (1.4.0)\n",
            "Requirement already satisfied: threadpoolctl>=2.0.0 in c:\\users\\udayi\\appdata\\local\\programs\\python\\python311\\lib\\site-packages (from scikit-learn) (3.4.0)\n",
            "Note: you may need to restart the kernel to use updated packages.\n"
          ]
        }
      ],
      "source": [
        "%pip install scikit-learn"
      ]
    },
    {
      "cell_type": "code",
      "execution_count": 9,
      "metadata": {
        "id": "FzNwQ0FvY3N2"
      },
      "outputs": [],
      "source": [
        "from sklearn.utils import shuffle\n",
        "df_train = shuffle(df_train)\n",
        "df_validation = shuffle(df_validation)"
      ]
    },
    {
      "cell_type": "code",
      "execution_count": 10,
      "metadata": {
        "colab": {
          "base_uri": "https://localhost:8080/"
        },
        "id": "GCbqmlFqZ2TJ",
        "outputId": "2d8193fd-aefb-456b-ddf9-f7adfda1a371"
      },
      "outputs": [
        {
          "name": "stdout",
          "output_type": "stream",
          "text": [
            "(87599, 3)\n",
            "(10570, 3)\n"
          ]
        }
      ],
      "source": [
        "print (df_train.shape)\n",
        "print (df_validation.shape)"
      ]
    },
    {
      "cell_type": "code",
      "execution_count": 11,
      "metadata": {
        "colab": {
          "base_uri": "https://localhost:8080/",
          "height": 206
        },
        "id": "kTi_R2uHZAHD",
        "outputId": "5383d659-c73e-4238-fa8a-7b8377b2dc6f"
      },
      "outputs": [
        {
          "data": {
            "text/html": [
              "<div>\n",
              "<style scoped>\n",
              "    .dataframe tbody tr th:only-of-type {\n",
              "        vertical-align: middle;\n",
              "    }\n",
              "\n",
              "    .dataframe tbody tr th {\n",
              "        vertical-align: top;\n",
              "    }\n",
              "\n",
              "    .dataframe thead th {\n",
              "        text-align: right;\n",
              "    }\n",
              "</style>\n",
              "<table border=\"1\" class=\"dataframe\">\n",
              "  <thead>\n",
              "    <tr style=\"text-align: right;\">\n",
              "      <th></th>\n",
              "      <th>context</th>\n",
              "      <th>answer</th>\n",
              "      <th>question</th>\n",
              "    </tr>\n",
              "  </thead>\n",
              "  <tbody>\n",
              "    <tr>\n",
              "      <th>15862</th>\n",
              "      <td>In Spain, every person officially has two surn...</td>\n",
              "      <td>two</td>\n",
              "      <td>How many surnames does everyone in Spain have?</td>\n",
              "    </tr>\n",
              "    <tr>\n",
              "      <th>86759</th>\n",
              "      <td>Punjab witnessed major battles between the arm...</td>\n",
              "      <td>2004</td>\n",
              "      <td>When did India and Pakistan begin serious peac...</td>\n",
              "    </tr>\n",
              "    <tr>\n",
              "      <th>56836</th>\n",
              "      <td>Paul's Christology has a specific focus on the...</td>\n",
              "      <td>Paul's Christology</td>\n",
              "      <td>Who's Christology focuses on the death and Res...</td>\n",
              "    </tr>\n",
              "    <tr>\n",
              "      <th>17396</th>\n",
              "      <td>DST is generally not observed near the equator...</td>\n",
              "      <td>southern Brazil</td>\n",
              "      <td>Which part of Brazil observes Daylight Saving ...</td>\n",
              "    </tr>\n",
              "    <tr>\n",
              "      <th>67275</th>\n",
              "      <td>Definitions vary on the precise boundaries of ...</td>\n",
              "      <td>the Adirondack provinces</td>\n",
              "      <td>Which province is often left out?</td>\n",
              "    </tr>\n",
              "  </tbody>\n",
              "</table>\n",
              "</div>"
            ],
            "text/plain": [
              "                                                 context  \\\n",
              "15862  In Spain, every person officially has two surn...   \n",
              "86759  Punjab witnessed major battles between the arm...   \n",
              "56836  Paul's Christology has a specific focus on the...   \n",
              "17396  DST is generally not observed near the equator...   \n",
              "67275  Definitions vary on the precise boundaries of ...   \n",
              "\n",
              "                         answer  \\\n",
              "15862                       two   \n",
              "86759                      2004   \n",
              "56836        Paul's Christology   \n",
              "17396           southern Brazil   \n",
              "67275  the Adirondack provinces   \n",
              "\n",
              "                                                question  \n",
              "15862     How many surnames does everyone in Spain have?  \n",
              "86759  When did India and Pakistan begin serious peac...  \n",
              "56836  Who's Christology focuses on the death and Res...  \n",
              "17396  Which part of Brazil observes Daylight Saving ...  \n",
              "67275                  Which province is often left out?  "
            ]
          },
          "execution_count": 11,
          "metadata": {},
          "output_type": "execute_result"
        }
      ],
      "source": [
        "df_train.head()"
      ]
    },
    {
      "cell_type": "code",
      "execution_count": 12,
      "metadata": {
        "colab": {
          "base_uri": "https://localhost:8080/",
          "height": 206
        },
        "id": "92GTXfmTZH2e",
        "outputId": "149147ed-d5d9-4de8-f034-276fecc17b30"
      },
      "outputs": [
        {
          "data": {
            "text/html": [
              "<div>\n",
              "<style scoped>\n",
              "    .dataframe tbody tr th:only-of-type {\n",
              "        vertical-align: middle;\n",
              "    }\n",
              "\n",
              "    .dataframe tbody tr th {\n",
              "        vertical-align: top;\n",
              "    }\n",
              "\n",
              "    .dataframe thead th {\n",
              "        text-align: right;\n",
              "    }\n",
              "</style>\n",
              "<table border=\"1\" class=\"dataframe\">\n",
              "  <thead>\n",
              "    <tr style=\"text-align: right;\">\n",
              "      <th></th>\n",
              "      <th>context</th>\n",
              "      <th>answer</th>\n",
              "      <th>question</th>\n",
              "    </tr>\n",
              "  </thead>\n",
              "  <tbody>\n",
              "    <tr>\n",
              "      <th>8216</th>\n",
              "      <td>Due to the fact that the bureaucracy was domin...</td>\n",
              "      <td>supported Zhu Xi's Neo-Confucianism and also d...</td>\n",
              "      <td>What religions did Tugh Temur follow?</td>\n",
              "    </tr>\n",
              "    <tr>\n",
              "      <th>2692</th>\n",
              "      <td>Southern California consists of a heavily deve...</td>\n",
              "      <td>third</td>\n",
              "      <td>Where does southern California's megalopolis s...</td>\n",
              "    </tr>\n",
              "    <tr>\n",
              "      <th>6105</th>\n",
              "      <td>He came to power by uniting many of the nomadi...</td>\n",
              "      <td>Khwarezmian and Xia controlled lands</td>\n",
              "      <td>In which regions in particular did Genghis Kha...</td>\n",
              "    </tr>\n",
              "    <tr>\n",
              "      <th>7318</th>\n",
              "      <td>Jacksonville has suffered less damage from hur...</td>\n",
              "      <td>Hurricane Dora</td>\n",
              "      <td>What storm had the most significant impact on ...</td>\n",
              "    </tr>\n",
              "    <tr>\n",
              "      <th>9867</th>\n",
              "      <td>To better illustrate this idea, Bassett focuse...</td>\n",
              "      <td>nineteenth-century maps</td>\n",
              "      <td>bassett focuses on what to illustrate his idea?</td>\n",
              "    </tr>\n",
              "  </tbody>\n",
              "</table>\n",
              "</div>"
            ],
            "text/plain": [
              "                                                context  \\\n",
              "8216  Due to the fact that the bureaucracy was domin...   \n",
              "2692  Southern California consists of a heavily deve...   \n",
              "6105  He came to power by uniting many of the nomadi...   \n",
              "7318  Jacksonville has suffered less damage from hur...   \n",
              "9867  To better illustrate this idea, Bassett focuse...   \n",
              "\n",
              "                                                 answer  \\\n",
              "8216  supported Zhu Xi's Neo-Confucianism and also d...   \n",
              "2692                                              third   \n",
              "6105               Khwarezmian and Xia controlled lands   \n",
              "7318                                     Hurricane Dora   \n",
              "9867                            nineteenth-century maps   \n",
              "\n",
              "                                               question  \n",
              "8216              What religions did Tugh Temur follow?  \n",
              "2692  Where does southern California's megalopolis s...  \n",
              "6105  In which regions in particular did Genghis Kha...  \n",
              "7318  What storm had the most significant impact on ...  \n",
              "9867    bassett focuses on what to illustrate his idea?  "
            ]
          },
          "execution_count": 12,
          "metadata": {},
          "output_type": "execute_result"
        }
      ],
      "source": [
        "df_validation.head()"
      ]
    },
    {
      "cell_type": "code",
      "execution_count": 13,
      "metadata": {
        "id": "ipi2dxGiZbgH"
      },
      "outputs": [],
      "source": [
        "train_save_path = '/home/shashank/Documents/vishal/t5/dataset/squad_t5_train.csv'\n",
        "validation_save_path = '/home/shashank/Documents/vishal/t5/dataset/squad_t5_val.csv'\n",
        "df_train.to_csv(train_save_path, index = False)\n",
        "df_validation.to_csv(validation_save_path, index = False)"
      ]
    },
    {
      "cell_type": "markdown",
      "metadata": {
        "id": "L4D0OZzQaB3I"
      },
      "source": [
        "## 2. Train T5 transformer model"
      ]
    },
    {
      "cell_type": "code",
      "execution_count": 8,
      "metadata": {
        "id": "WhRIV6wXSFbH"
      },
      "outputs": [
        {
          "name": "stdout",
          "output_type": "stream",
          "text": [
            "Requirement already satisfied: transformers in c:\\users\\udayi\\appdata\\local\\programs\\python\\python311\\lib\\site-packages (4.40.1)Note: you may need to restart the kernel to use updated packages.\n",
            "\n",
            "Requirement already satisfied: filelock in c:\\users\\udayi\\appdata\\local\\programs\\python\\python311\\lib\\site-packages (from transformers) (3.13.4)\n",
            "Requirement already satisfied: huggingface-hub<1.0,>=0.19.3 in c:\\users\\udayi\\appdata\\local\\programs\\python\\python311\\lib\\site-packages (from transformers) (0.22.2)\n",
            "Requirement already satisfied: numpy>=1.17 in c:\\users\\udayi\\appdata\\local\\programs\\python\\python311\\lib\\site-packages (from transformers) (1.26.4)\n",
            "Requirement already satisfied: packaging>=20.0 in c:\\users\\udayi\\appdata\\local\\programs\\python\\python311\\lib\\site-packages (from transformers) (23.2)\n",
            "Requirement already satisfied: pyyaml>=5.1 in c:\\users\\udayi\\appdata\\local\\programs\\python\\python311\\lib\\site-packages (from transformers) (6.0.1)\n",
            "Requirement already satisfied: regex!=2019.12.17 in c:\\users\\udayi\\appdata\\local\\programs\\python\\python311\\lib\\site-packages (from transformers) (2024.4.16)\n",
            "Requirement already satisfied: requests in c:\\users\\udayi\\appdata\\local\\programs\\python\\python311\\lib\\site-packages (from transformers) (2.32.3)\n",
            "Requirement already satisfied: tokenizers<0.20,>=0.19 in c:\\users\\udayi\\appdata\\local\\programs\\python\\python311\\lib\\site-packages (from transformers) (0.19.1)\n",
            "Requirement already satisfied: safetensors>=0.4.1 in c:\\users\\udayi\\appdata\\local\\programs\\python\\python311\\lib\\site-packages (from transformers) (0.4.3)\n",
            "Requirement already satisfied: tqdm>=4.27 in c:\\users\\udayi\\appdata\\local\\programs\\python\\python311\\lib\\site-packages (from transformers) (4.66.5)\n",
            "Requirement already satisfied: fsspec>=2023.5.0 in c:\\users\\udayi\\appdata\\local\\programs\\python\\python311\\lib\\site-packages (from huggingface-hub<1.0,>=0.19.3->transformers) (2024.3.1)\n",
            "Requirement already satisfied: typing-extensions>=3.7.4.3 in c:\\users\\udayi\\appdata\\local\\programs\\python\\python311\\lib\\site-packages (from huggingface-hub<1.0,>=0.19.3->transformers) (4.11.0)\n",
            "Requirement already satisfied: colorama in c:\\users\\udayi\\appdata\\local\\programs\\python\\python311\\lib\\site-packages (from tqdm>=4.27->transformers) (0.4.6)\n",
            "Requirement already satisfied: charset-normalizer<4,>=2 in c:\\users\\udayi\\appdata\\local\\programs\\python\\python311\\lib\\site-packages (from requests->transformers) (3.3.2)\n",
            "Requirement already satisfied: idna<4,>=2.5 in c:\\users\\udayi\\appdata\\local\\programs\\python\\python311\\lib\\site-packages (from requests->transformers) (3.7)\n",
            "Requirement already satisfied: urllib3<3,>=1.21.1 in c:\\users\\udayi\\appdata\\local\\programs\\python\\python311\\lib\\site-packages (from requests->transformers) (2.2.1)\n",
            "Requirement already satisfied: certifi>=2017.4.17 in c:\\users\\udayi\\appdata\\local\\programs\\python\\python311\\lib\\site-packages (from requests->transformers) (2024.2.2)\n",
            "Requirement already satisfied: tokenizers in c:\\users\\udayi\\appdata\\local\\programs\\python\\python311\\lib\\site-packages (0.19.1)\n",
            "Requirement already satisfied: huggingface-hub<1.0,>=0.16.4 in c:\\users\\udayi\\appdata\\local\\programs\\python\\python311\\lib\\site-packages (from tokenizers) (0.22.2)\n",
            "Requirement already satisfied: filelock in c:\\users\\udayi\\appdata\\local\\programs\\python\\python311\\lib\\site-packages (from huggingface-hub<1.0,>=0.16.4->tokenizers) (3.13.4)\n",
            "Requirement already satisfied: fsspec>=2023.5.0 in c:\\users\\udayi\\appdata\\local\\programs\\python\\python311\\lib\\site-packages (from huggingface-hub<1.0,>=0.16.4->tokenizers) (2024.3.1)\n",
            "Requirement already satisfied: packaging>=20.9 in c:\\users\\udayi\\appdata\\local\\programs\\python\\python311\\lib\\site-packages (from huggingface-hub<1.0,>=0.16.4->tokenizers) (23.2)\n",
            "Requirement already satisfied: pyyaml>=5.1 in c:\\users\\udayi\\appdata\\local\\programs\\python\\python311\\lib\\site-packages (from huggingface-hub<1.0,>=0.16.4->tokenizers) (6.0.1)\n",
            "Requirement already satisfied: requests in c:\\users\\udayi\\appdata\\local\\programs\\python\\python311\\lib\\site-packages (from huggingface-hub<1.0,>=0.16.4->tokenizers) (2.32.3)\n",
            "Requirement already satisfied: tqdm>=4.42.1 in c:\\users\\udayi\\appdata\\local\\programs\\python\\python311\\lib\\site-packages (from huggingface-hub<1.0,>=0.16.4->tokenizers) (4.66.5)\n",
            "Requirement already satisfied: typing-extensions>=3.7.4.3 in c:\\users\\udayi\\appdata\\local\\programs\\python\\python311\\lib\\site-packages (from huggingface-hub<1.0,>=0.16.4->tokenizers) (4.11.0)\n",
            "Requirement already satisfied: colorama in c:\\users\\udayi\\appdata\\local\\programs\\python\\python311\\lib\\site-packages (from tqdm>=4.42.1->huggingface-hub<1.0,>=0.16.4->tokenizers) (0.4.6)\n",
            "Requirement already satisfied: charset-normalizer<4,>=2 in c:\\users\\udayi\\appdata\\local\\programs\\python\\python311\\lib\\site-packages (from requests->huggingface-hub<1.0,>=0.16.4->tokenizers) (3.3.2)\n",
            "Requirement already satisfied: idna<4,>=2.5 in c:\\users\\udayi\\appdata\\local\\programs\\python\\python311\\lib\\site-packages (from requests->huggingface-hub<1.0,>=0.16.4->tokenizers) (3.7)\n",
            "Requirement already satisfied: urllib3<3,>=1.21.1 in c:\\users\\udayi\\appdata\\local\\programs\\python\\python311\\lib\\site-packages (from requests->huggingface-hub<1.0,>=0.16.4->tokenizers) (2.2.1)\n",
            "Requirement already satisfied: certifi>=2017.4.17 in c:\\users\\udayi\\appdata\\local\\programs\\python\\python311\\lib\\site-packages (from requests->huggingface-hub<1.0,>=0.16.4->tokenizers) (2024.2.2)\n",
            "Note: you may need to restart the kernel to use updated packages.\n",
            "Requirement already satisfied: sentencepiece in c:\\users\\udayi\\appdata\\local\\programs\\python\\python311\\lib\\site-packages (0.2.0)\n",
            "Note: you may need to restart the kernel to use updated packages.\n",
            "Requirement already satisfied: tqdm in c:\\users\\udayi\\appdata\\local\\programs\\python\\python311\\lib\\site-packages (4.66.5)\n",
            "Requirement already satisfied: colorama in c:\\users\\udayi\\appdata\\local\\programs\\python\\python311\\lib\\site-packages (from tqdm) (0.4.6)\n",
            "Note: you may need to restart the kernel to use updated packages.\n",
            "Requirement already satisfied: pytorch-lightning in c:\\users\\udayi\\appdata\\local\\programs\\python\\python311\\lib\\site-packages (2.4.0)\n",
            "Requirement already satisfied: torch>=2.1.0 in c:\\users\\udayi\\appdata\\local\\programs\\python\\python311\\lib\\site-packages (from pytorch-lightning) (2.5.0)\n",
            "Requirement already satisfied: tqdm>=4.57.0 in c:\\users\\udayi\\appdata\\local\\programs\\python\\python311\\lib\\site-packages (from pytorch-lightning) (4.66.5)\n",
            "Requirement already satisfied: PyYAML>=5.4 in c:\\users\\udayi\\appdata\\local\\programs\\python\\python311\\lib\\site-packages (from pytorch-lightning) (6.0.1)\n",
            "Requirement already satisfied: fsspec>=2022.5.0 in c:\\users\\udayi\\appdata\\local\\programs\\python\\python311\\lib\\site-packages (from fsspec[http]>=2022.5.0->pytorch-lightning) (2024.3.1)\n",
            "Requirement already satisfied: torchmetrics>=0.7.0 in c:\\users\\udayi\\appdata\\local\\programs\\python\\python311\\lib\\site-packages (from pytorch-lightning) (1.5.1)\n",
            "Requirement already satisfied: packaging>=20.0 in c:\\users\\udayi\\appdata\\local\\programs\\python\\python311\\lib\\site-packages (from pytorch-lightning) (23.2)\n",
            "Requirement already satisfied: typing-extensions>=4.4.0 in c:\\users\\udayi\\appdata\\local\\programs\\python\\python311\\lib\\site-packages (from pytorch-lightning) (4.11.0)\n",
            "Requirement already satisfied: lightning-utilities>=0.10.0 in c:\\users\\udayi\\appdata\\local\\programs\\python\\python311\\lib\\site-packages (from pytorch-lightning) (0.11.8)\n",
            "Requirement already satisfied: aiohttp!=4.0.0a0,!=4.0.0a1 in c:\\users\\udayi\\appdata\\local\\programs\\python\\python311\\lib\\site-packages (from fsspec[http]>=2022.5.0->pytorch-lightning) (3.9.5)\n",
            "Requirement already satisfied: setuptools in c:\\users\\udayi\\appdata\\local\\programs\\python\\python311\\lib\\site-packages (from lightning-utilities>=0.10.0->pytorch-lightning) (65.5.0)\n",
            "Requirement already satisfied: filelock in c:\\users\\udayi\\appdata\\local\\programs\\python\\python311\\lib\\site-packages (from torch>=2.1.0->pytorch-lightning) (3.13.4)\n",
            "Requirement already satisfied: networkx in c:\\users\\udayi\\appdata\\local\\programs\\python\\python311\\lib\\site-packages (from torch>=2.1.0->pytorch-lightning) (3.3)\n",
            "Requirement already satisfied: jinja2 in c:\\users\\udayi\\appdata\\local\\programs\\python\\python311\\lib\\site-packages (from torch>=2.1.0->pytorch-lightning) (3.1.2)\n",
            "Requirement already satisfied: sympy==1.13.1 in c:\\users\\udayi\\appdata\\local\\programs\\python\\python311\\lib\\site-packages (from torch>=2.1.0->pytorch-lightning) (1.13.1)\n",
            "Requirement already satisfied: mpmath<1.4,>=1.1.0 in c:\\users\\udayi\\appdata\\local\\programs\\python\\python311\\lib\\site-packages (from sympy==1.13.1->torch>=2.1.0->pytorch-lightning) (1.3.0)\n",
            "Requirement already satisfied: numpy<2.0,>1.20.0 in c:\\users\\udayi\\appdata\\local\\programs\\python\\python311\\lib\\site-packages (from torchmetrics>=0.7.0->pytorch-lightning) (1.26.4)\n",
            "Requirement already satisfied: colorama in c:\\users\\udayi\\appdata\\local\\programs\\python\\python311\\lib\\site-packages (from tqdm>=4.57.0->pytorch-lightning) (0.4.6)\n",
            "Requirement already satisfied: aiosignal>=1.1.2 in c:\\users\\udayi\\appdata\\local\\programs\\python\\python311\\lib\\site-packages (from aiohttp!=4.0.0a0,!=4.0.0a1->fsspec[http]>=2022.5.0->pytorch-lightning) (1.3.1)\n",
            "Requirement already satisfied: attrs>=17.3.0 in c:\\users\\udayi\\appdata\\local\\programs\\python\\python311\\lib\\site-packages (from aiohttp!=4.0.0a0,!=4.0.0a1->fsspec[http]>=2022.5.0->pytorch-lightning) (22.2.0)\n",
            "Requirement already satisfied: frozenlist>=1.1.1 in c:\\users\\udayi\\appdata\\local\\programs\\python\\python311\\lib\\site-packages (from aiohttp!=4.0.0a0,!=4.0.0a1->fsspec[http]>=2022.5.0->pytorch-lightning) (1.4.1)\n",
            "Requirement already satisfied: multidict<7.0,>=4.5 in c:\\users\\udayi\\appdata\\local\\programs\\python\\python311\\lib\\site-packages (from aiohttp!=4.0.0a0,!=4.0.0a1->fsspec[http]>=2022.5.0->pytorch-lightning) (6.0.5)\n",
            "Requirement already satisfied: yarl<2.0,>=1.0 in c:\\users\\udayi\\appdata\\local\\programs\\python\\python311\\lib\\site-packages (from aiohttp!=4.0.0a0,!=4.0.0a1->fsspec[http]>=2022.5.0->pytorch-lightning) (1.9.4)\n",
            "Requirement already satisfied: MarkupSafe>=2.0 in c:\\users\\udayi\\appdata\\local\\programs\\python\\python311\\lib\\site-packages (from jinja2->torch>=2.1.0->pytorch-lightning) (2.1.2)\n",
            "Requirement already satisfied: idna>=2.0 in c:\\users\\udayi\\appdata\\local\\programs\\python\\python311\\lib\\site-packages (from yarl<2.0,>=1.0->aiohttp!=4.0.0a0,!=4.0.0a1->fsspec[http]>=2022.5.0->pytorch-lightning) (3.7)\n",
            "Note: you may need to restart the kernel to use updated packages.\n",
            "Requirement already satisfied: torchtext in c:\\users\\udayi\\appdata\\local\\programs\\python\\python311\\lib\\site-packages (0.18.0)\n",
            "Requirement already satisfied: tqdm in c:\\users\\udayi\\appdata\\local\\programs\\python\\python311\\lib\\site-packages (from torchtext) (4.66.5)\n",
            "Requirement already satisfied: requests in c:\\users\\udayi\\appdata\\local\\programs\\python\\python311\\lib\\site-packages (from torchtext) (2.32.3)\n",
            "Requirement already satisfied: torch>=2.3.0 in c:\\users\\udayi\\appdata\\local\\programs\\python\\python311\\lib\\site-packages (from torchtext) (2.5.0)\n",
            "Requirement already satisfied: numpy in c:\\users\\udayi\\appdata\\local\\programs\\python\\python311\\lib\\site-packages (from torchtext) (1.26.4)\n",
            "Requirement already satisfied: filelock in c:\\users\\udayi\\appdata\\local\\programs\\python\\python311\\lib\\site-packages (from torch>=2.3.0->torchtext) (3.13.4)\n",
            "Requirement already satisfied: typing-extensions>=4.8.0 in c:\\users\\udayi\\appdata\\local\\programs\\python\\python311\\lib\\site-packages (from torch>=2.3.0->torchtext) (4.11.0)\n",
            "Requirement already satisfied: networkx in c:\\users\\udayi\\appdata\\local\\programs\\python\\python311\\lib\\site-packages (from torch>=2.3.0->torchtext) (3.3)\n",
            "Requirement already satisfied: jinja2 in c:\\users\\udayi\\appdata\\local\\programs\\python\\python311\\lib\\site-packages (from torch>=2.3.0->torchtext) (3.1.2)\n",
            "Requirement already satisfied: fsspec in c:\\users\\udayi\\appdata\\local\\programs\\python\\python311\\lib\\site-packages (from torch>=2.3.0->torchtext) (2024.3.1)\n",
            "Requirement already satisfied: sympy==1.13.1 in c:\\users\\udayi\\appdata\\local\\programs\\python\\python311\\lib\\site-packages (from torch>=2.3.0->torchtext) (1.13.1)\n",
            "Requirement already satisfied: mpmath<1.4,>=1.1.0 in c:\\users\\udayi\\appdata\\local\\programs\\python\\python311\\lib\\site-packages (from sympy==1.13.1->torch>=2.3.0->torchtext) (1.3.0)\n",
            "Requirement already satisfied: charset-normalizer<4,>=2 in c:\\users\\udayi\\appdata\\local\\programs\\python\\python311\\lib\\site-packages (from requests->torchtext) (3.3.2)\n",
            "Requirement already satisfied: idna<4,>=2.5 in c:\\users\\udayi\\appdata\\local\\programs\\python\\python311\\lib\\site-packages (from requests->torchtext) (3.7)\n",
            "Requirement already satisfied: urllib3<3,>=1.21.1 in c:\\users\\udayi\\appdata\\local\\programs\\python\\python311\\lib\\site-packages (from requests->torchtext) (2.2.1)\n",
            "Requirement already satisfied: certifi>=2017.4.17 in c:\\users\\udayi\\appdata\\local\\programs\\python\\python311\\lib\\site-packages (from requests->torchtext) (2024.2.2)\n",
            "Requirement already satisfied: colorama in c:\\users\\udayi\\appdata\\local\\programs\\python\\python311\\lib\\site-packages (from tqdm->torchtext) (0.4.6)\n",
            "Requirement already satisfied: MarkupSafe>=2.0 in c:\\users\\udayi\\appdata\\local\\programs\\python\\python311\\lib\\site-packages (from jinja2->torch>=2.3.0->torchtext) (2.1.2)\n",
            "Note: you may need to restart the kernel to use updated packages.\n"
          ]
        }
      ],
      "source": [
        "%pip install  transformers\n",
        "%pip install  tokenizers\n",
        "%pip install  sentencepiece\n",
        "%pip install  tqdm\n",
        "%pip install  pytorch-lightning\n",
        "%pip install  torchtext"
      ]
    },
    {
      "cell_type": "code",
      "execution_count": 1,
      "metadata": {
        "id": "PajHk_rKaHgU"
      },
      "outputs": [],
      "source": [
        "train_file_path = '/home/shashank/Documents/vishal/t5/dataset/squad_t5_train.csv'\n",
        "validation_file_path = '/home/shashank/Documents/vishal/t5/dataset/squad_t5_val.csv'"
      ]
    },
    {
      "cell_type": "code",
      "execution_count": 2,
      "metadata": {
        "colab": {
          "base_uri": "https://localhost:8080/"
        },
        "id": "ojc3j-S6VS_t",
        "outputId": "98c32568-f02f-45f5-9c35-7c2a77f0a67b"
      },
      "outputs": [
        {
          "name": "stdout",
          "output_type": "stream",
          "text": [
            "Sun Sep 15 21:02:34 2024       \n",
            "+-----------------------------------------------------------------------------------------+\n",
            "| NVIDIA-SMI 560.35.02              Driver Version: 560.94         CUDA Version: 12.6     |\n",
            "|-----------------------------------------+------------------------+----------------------+\n",
            "| GPU  Name                 Persistence-M | Bus-Id          Disp.A | Volatile Uncorr. ECC |\n",
            "| Fan  Temp   Perf          Pwr:Usage/Cap |           Memory-Usage | GPU-Util  Compute M. |\n",
            "|                                         |                        |               MIG M. |\n",
            "|=========================================+========================+======================|\n",
            "|   0  NVIDIA GeForce RTX 3070 ...    On  |   00000000:01:00.0 Off |                  N/A |\n",
            "| N/A   41C    P0             29W /  136W |       0MiB /   8192MiB |      0%      Default |\n",
            "|                                         |                        |                  N/A |\n",
            "+-----------------------------------------+------------------------+----------------------+\n",
            "                                                                                         \n",
            "+-----------------------------------------------------------------------------------------+\n",
            "| Processes:                                                                              |\n",
            "|  GPU   GI   CI        PID   Type   Process name                              GPU Memory |\n",
            "|        ID   ID                                                               Usage      |\n",
            "|=========================================================================================|\n",
            "|  No running processes found                                                             |\n",
            "+-----------------------------------------------------------------------------------------+\n"
          ]
        }
      ],
      "source": [
        "# Check we have a GPU and check the memory size of the GUP\n",
        "!nvidia-smi"
      ]
    },
    {
      "cell_type": "markdown",
      "metadata": {
        "id": "7Hpcn7EOWHII"
      },
      "source": [
        "**Import packages**"
      ]
    },
    {
      "cell_type": "code",
      "execution_count": 9,
      "metadata": {},
      "outputs": [
        {
          "name": "stdout",
          "output_type": "stream",
          "text": [
            "Collecting termcolor\n",
            "  Downloading termcolor-2.5.0-py3-none-any.whl.metadata (6.1 kB)\n",
            "Downloading termcolor-2.5.0-py3-none-any.whl (7.8 kB)\n",
            "Installing collected packages: termcolor\n",
            "Successfully installed termcolor-2.5.0\n",
            "Note: you may need to restart the kernel to use updated packages.\n"
          ]
        }
      ],
      "source": [
        "%pip install termcolor"
      ]
    },
    {
      "cell_type": "code",
      "execution_count": 10,
      "metadata": {
        "id": "f6neDi6_VxU7"
      },
      "outputs": [],
      "source": [
        "import argparse\n",
        "import glob\n",
        "import os\n",
        "import json\n",
        "import time\n",
        "import logging\n",
        "import random\n",
        "import re\n",
        "from itertools import chain\n",
        "from string import punctuation\n",
        "\n",
        "import pandas as pd\n",
        "import numpy as np\n",
        "import torch\n",
        "from torch.utils.data import Dataset, DataLoader\n",
        "\n",
        "from termcolor import colored\n",
        "import textwrap\n",
        "\n",
        "from transformers import (\n",
        "    AdamW,\n",
        "    T5ForConditionalGeneration,\n",
        "    T5Tokenizer,\n",
        "    get_linear_schedule_with_warmup\n",
        ")\n",
        "\n"
      ]
    },
    {
      "cell_type": "code",
      "execution_count": 11,
      "metadata": {
        "colab": {
          "base_uri": "https://localhost:8080/"
        },
        "id": "JRWsJM06Hm9k",
        "outputId": "9ef9ee87-aaef-442f-9066-1dda3fb75db6"
      },
      "outputs": [
        {
          "name": "stderr",
          "output_type": "stream",
          "text": [
            "c:\\Users\\udayi\\AppData\\Local\\Programs\\Python\\Python311\\Lib\\site-packages\\huggingface_hub\\file_download.py:148: UserWarning: `huggingface_hub` cache-system uses symlinks by default to efficiently store duplicated files but your machine does not support them in C:\\Users\\udayi\\.cache\\huggingface\\hub\\models--t5-small. Caching files will still work but in a degraded version that might require more space on your disk. This warning can be disabled by setting the `HF_HUB_DISABLE_SYMLINKS_WARNING` environment variable. For more details, see https://huggingface.co/docs/huggingface_hub/how-to-cache#limitations.\n",
            "To support symlinks on Windows, you either need to activate Developer Mode or to run Python as an administrator. In order to see activate developer mode, see this article: https://docs.microsoft.com/en-us/windows/apps/get-started/enable-your-device-for-development\n",
            "  warnings.warn(message)\n",
            "You are using the default legacy behaviour of the <class 'transformers.models.t5.tokenization_t5.T5Tokenizer'>. This is expected, and simply means that the `legacy` (previous) behavior will be used so nothing changes for you. If you want to use the new behaviour, set `legacy=False`. This should only be set if you understand what it means, and thoroughly read the reason why this was added as explained in https://github.com/huggingface/transformers/pull/24565\n",
            "Special tokens have been added in the vocabulary, make sure the associated word embeddings are fine-tuned or trained.\n"
          ]
        }
      ],
      "source": [
        "t5_tokenizer = T5Tokenizer.from_pretrained('t5-small')\n",
        "t5_model = T5ForConditionalGeneration.from_pretrained('t5-small')"
      ]
    },
    {
      "cell_type": "markdown",
      "metadata": {
        "id": "R-wRp79AYt5k"
      },
      "source": [
        "**Preparing Dataset**"
      ]
    },
    {
      "cell_type": "code",
      "execution_count": 12,
      "metadata": {
        "id": "u9_3VhGUZlPY"
      },
      "outputs": [],
      "source": [
        "from tqdm import tqdm\n",
        "import copy\n",
        "\n",
        "class QuestionGenerationDataset(Dataset):\n",
        "    def __init__(self, tokenizer, filepath, max_len_inp=512,max_len_out=512):\n",
        "        self.path = filepath\n",
        "\n",
        "        self.passage_column = \"context\"\n",
        "        self.answer = \"answer\"\n",
        "        self.question = \"question\"\n",
        "\n",
        "        self.data = pd.read_csv(self.path)\n",
        "\n",
        "        self.max_len_input = max_len_inp\n",
        "        self.max_len_output = max_len_out\n",
        "        self.tokenizer = tokenizer\n",
        "        self.inputs = []\n",
        "        self.targets = []\n",
        "        self.skippedcount =0\n",
        "        self._build()\n",
        "\n",
        "    def __len__(self):\n",
        "        return len(self.inputs)\n",
        "\n",
        "    def __getitem__(self, index):\n",
        "        source_ids = self.inputs[index][\"input_ids\"].squeeze()\n",
        "        target_ids = self.targets[index][\"input_ids\"].squeeze()\n",
        "\n",
        "        src_mask = self.inputs[index][\"attention_mask\"].squeeze()\n",
        "        target_mask = self.targets[index][\"attention_mask\"].squeeze()\n",
        "\n",
        "        labels = copy.deepcopy(target_ids)\n",
        "        labels [labels==0] = -100\n",
        "\n",
        "        return {\"source_ids\": source_ids, \"source_mask\": src_mask, \"target_ids\": target_ids, \"target_mask\": target_mask,\"labels\":labels}\n",
        "\n",
        "    def _build(self):\n",
        "        for idx in tqdm(range(len(self.data))):\n",
        "            passage,answer,target = self.data.loc[idx, self.passage_column],self.data.loc[idx, self.answer], self.data.loc[idx, self.question]\n",
        "\n",
        "            input_ = \"context: %s  answer: %s </s>\" % (passage, answer)\n",
        "            target = \"question: %s </s>\" % (str(target))\n",
        "\n",
        "            # get encoding length of input. If it is greater than self.max_len skip it\n",
        "            test_input_encoding = self.tokenizer.encode_plus(input_,\n",
        "                                        truncation=False,\n",
        "                                        return_tensors=\"pt\")\n",
        "\n",
        "            length_of_input_encoding = len(test_input_encoding['input_ids'][0])\n",
        "\n",
        "\n",
        "            if length_of_input_encoding > self.max_len_input:\n",
        "              self.skippedcount = self.skippedcount + 1\n",
        "              continue\n",
        "\n",
        "            # tokenize inputs\n",
        "            tokenized_inputs = self.tokenizer.batch_encode_plus(\n",
        "                [input_], max_length=self.max_len_input, pad_to_max_length=True, return_tensors=\"pt\"\n",
        "            )\n",
        "            # tokenize targets\n",
        "            tokenized_targets = self.tokenizer.batch_encode_plus(\n",
        "                [target], max_length=self.max_len_output, pad_to_max_length=True,return_tensors=\"pt\"\n",
        "            )\n",
        "\n",
        "            self.inputs.append(tokenized_inputs)\n",
        "            self.targets.append(tokenized_targets)\n"
      ]
    },
    {
      "cell_type": "code",
      "execution_count": 8,
      "metadata": {
        "colab": {
          "base_uri": "https://localhost:8080/",
          "height": 173,
          "referenced_widgets": [
            "a04ea11ca400445eb35c9451bb857898",
            "2038e94967c94747a7784d3abfb87414",
            "ab1232d1b416432dbb103deb1c927d1b",
            "532539b9440c497d968410ea1c83cfdd",
            "3ee6b9b3c62146d4b53c259de71467fe",
            "98f955ad76e84e9f8cf39a990774e2d7",
            "d4fea8ad18c94ee791b3e6ecc694d363",
            "6a19d592e1af468d8188e4c53d122c79",
            "107a64581016433a926c5725ff5ed1c9",
            "690948166b38485d948205df9d4268bc",
            "063de8949a624886a8d7d84fd18fcd92"
          ]
        },
        "id": "aaA3k2rQ_fW0",
        "outputId": "05663080-a486-464c-d768-d49b99db01d3"
      },
      "outputs": [
        {
          "name": "stderr",
          "output_type": "stream",
          "text": [
            "  0%|          | 0/87599 [00:00<?, ?it/s]/home/shashank/miniforge3/envs/vishal/lib/python3.10/site-packages/transformers/models/t5/tokenization_t5.py:289: UserWarning: This sequence already has </s>. In future versions this behavior may lead to duplicated eos tokens being added.\n",
            "  warnings.warn(\n",
            "Truncation was not explicitly activated but `max_length` is provided a specific value, please use `truncation=True` to explicitly truncate examples to max length. Defaulting to 'longest_first' truncation strategy. If you encode pairs of sequences (GLUE-style) with the tokenizer you can select this strategy more precisely by providing a specific strategy to `truncation`.\n",
            "/home/shashank/miniforge3/envs/vishal/lib/python3.10/site-packages/transformers/tokenization_utils_base.py:2870: FutureWarning: The `pad_to_max_length` argument is deprecated and will be removed in a future version, use `padding=True` or `padding='longest'` to pad to the longest sequence in the batch, or use `padding='max_length'` to pad to a max length. In this case, you can give a specific length with `max_length` (e.g. `max_length=45`) or leave max_length to None to pad to the maximal input size of the model (e.g. 512 for Bert).\n",
            "  warnings.warn(\n",
            "  0%|          | 368/87599 [00:00<01:43, 840.39it/s]Token indices sequence length is longer than the specified maximum sequence length for this model (658 > 512). Running this sequence through the model will result in indexing errors\n",
            "100%|██████████| 87599/87599 [01:45<00:00, 832.15it/s]\n"
          ]
        }
      ],
      "source": [
        "train_dataset = QuestionGenerationDataset(t5_tokenizer,train_file_path)\n"
      ]
    },
    {
      "cell_type": "code",
      "execution_count": 9,
      "metadata": {
        "colab": {
          "base_uri": "https://localhost:8080/"
        },
        "id": "j4FnGy--us0j",
        "outputId": "eb8e7fe6-6c43-4590-8a50-e5316a01ceeb"
      },
      "outputs": [
        {
          "name": "stdout",
          "output_type": "stream",
          "text": [
            "context: Bermuda is an offshore financial centre, which results from its minimal standards of business regulation/laws and direct taxation on personal or corporate income. It has one of the highest consumption taxes in the world and taxes all imports in lieu of an income tax system. Bermudas's consumption tax is equivalent to local income tax to local residents and funds government and infrastructure expenditures. The local tax system depends upon import duties, payroll taxes and consumption taxes. The legal system is derived from that of the United Kingdom, with recourse to English courts of final appeal. Foreign private individuals cannot easily open bank accounts or subscribe to mobile phone or internet services. answer: United Kingdom, with recourse to English courts of final appeal</s><pad><pad><pad><pad><pad><pad><pad><pad><pad><pad><pad><pad><pad><pad><pad><pad><pad><pad><pad><pad><pad><pad><pad><pad><pad><pad><pad><pad><pad><pad><pad><pad><pad><pad><pad><pad><pad><pad><pad><pad><pad><pad><pad><pad><pad><pad><pad><pad><pad><pad><pad><pad><pad><pad><pad><pad><pad><pad><pad><pad><pad><pad><pad><pad><pad><pad><pad><pad><pad><pad><pad><pad><pad><pad><pad><pad><pad><pad><pad><pad><pad><pad><pad><pad><pad><pad><pad><pad><pad><pad><pad><pad><pad><pad><pad><pad><pad><pad><pad><pad><pad><pad><pad><pad><pad><pad><pad><pad><pad><pad><pad><pad><pad><pad><pad><pad><pad><pad><pad><pad><pad><pad><pad><pad><pad><pad><pad><pad><pad><pad><pad><pad><pad><pad><pad><pad><pad><pad><pad><pad><pad><pad><pad><pad><pad><pad><pad><pad><pad><pad><pad><pad><pad><pad><pad><pad><pad><pad><pad><pad><pad><pad><pad><pad><pad><pad><pad><pad><pad><pad><pad><pad><pad><pad><pad><pad><pad><pad><pad><pad><pad><pad><pad><pad><pad><pad><pad><pad><pad><pad><pad><pad><pad><pad><pad><pad><pad><pad><pad><pad><pad><pad><pad><pad><pad><pad><pad><pad><pad><pad><pad><pad><pad><pad><pad><pad><pad><pad><pad><pad><pad><pad><pad><pad><pad><pad><pad><pad><pad><pad><pad><pad><pad><pad><pad><pad><pad><pad><pad><pad><pad><pad><pad><pad><pad><pad><pad><pad><pad><pad><pad><pad><pad><pad><pad><pad><pad><pad><pad><pad><pad><pad><pad><pad><pad><pad><pad><pad><pad><pad><pad><pad><pad><pad><pad><pad><pad><pad><pad><pad><pad><pad><pad><pad><pad><pad><pad><pad><pad><pad><pad><pad><pad><pad><pad><pad><pad><pad><pad><pad><pad><pad><pad><pad><pad><pad><pad><pad><pad><pad><pad><pad><pad><pad><pad><pad><pad><pad><pad><pad><pad><pad><pad><pad><pad><pad><pad><pad><pad><pad><pad><pad><pad><pad><pad><pad><pad><pad><pad><pad><pad><pad><pad><pad><pad><pad><pad><pad><pad><pad><pad><pad><pad><pad><pad><pad><pad><pad><pad><pad><pad><pad><pad><pad>\n",
            "question: What is Bermuda's legal system derived from?</s><pad><pad><pad><pad><pad><pad><pad><pad><pad><pad><pad><pad><pad><pad><pad><pad><pad><pad><pad><pad><pad><pad><pad><pad><pad><pad><pad><pad><pad><pad><pad><pad><pad><pad><pad><pad><pad><pad><pad><pad><pad><pad><pad><pad><pad><pad><pad><pad><pad><pad><pad><pad><pad><pad><pad><pad><pad><pad><pad><pad><pad><pad><pad><pad><pad><pad><pad><pad><pad><pad><pad><pad><pad><pad><pad><pad><pad><pad><pad><pad><pad><pad><pad><pad><pad><pad><pad><pad><pad><pad><pad><pad><pad><pad><pad><pad><pad><pad><pad><pad><pad><pad><pad><pad><pad><pad><pad><pad><pad><pad><pad><pad><pad><pad><pad><pad><pad><pad><pad><pad><pad><pad><pad><pad><pad><pad><pad><pad><pad><pad><pad><pad><pad><pad><pad><pad><pad><pad><pad><pad><pad><pad><pad><pad><pad><pad><pad><pad><pad><pad><pad><pad><pad><pad><pad><pad><pad><pad><pad><pad><pad><pad><pad><pad><pad><pad><pad><pad><pad><pad><pad><pad><pad><pad><pad><pad><pad><pad><pad><pad><pad><pad><pad><pad><pad><pad><pad><pad><pad><pad><pad><pad><pad><pad><pad><pad><pad><pad><pad><pad><pad><pad><pad><pad><pad><pad><pad><pad><pad><pad><pad><pad><pad><pad><pad><pad><pad><pad><pad><pad><pad><pad><pad><pad><pad><pad><pad><pad><pad><pad><pad><pad><pad><pad><pad><pad><pad><pad><pad><pad><pad><pad><pad><pad><pad><pad><pad><pad><pad><pad><pad><pad><pad><pad><pad><pad><pad><pad><pad><pad><pad><pad><pad><pad><pad><pad><pad><pad><pad><pad><pad><pad><pad><pad><pad><pad><pad><pad><pad><pad><pad><pad><pad><pad><pad><pad><pad><pad><pad><pad><pad><pad><pad><pad><pad><pad><pad><pad><pad><pad><pad><pad><pad><pad><pad><pad><pad><pad><pad><pad><pad><pad><pad><pad><pad><pad><pad><pad><pad><pad><pad><pad><pad><pad><pad><pad><pad><pad><pad><pad><pad><pad><pad><pad><pad><pad><pad><pad><pad><pad><pad><pad><pad><pad><pad><pad><pad><pad><pad><pad><pad><pad><pad><pad><pad><pad><pad><pad><pad><pad><pad><pad><pad><pad><pad><pad><pad><pad><pad><pad><pad><pad><pad><pad><pad><pad><pad><pad><pad><pad><pad><pad><pad><pad><pad><pad><pad><pad><pad><pad><pad><pad><pad><pad><pad><pad><pad><pad><pad><pad><pad><pad><pad><pad><pad><pad><pad><pad><pad><pad><pad><pad><pad><pad><pad><pad><pad><pad><pad><pad><pad><pad><pad><pad><pad><pad><pad><pad><pad><pad><pad><pad><pad><pad><pad><pad><pad><pad><pad><pad><pad><pad><pad><pad><pad><pad><pad><pad><pad><pad><pad><pad><pad><pad><pad><pad><pad><pad><pad><pad><pad><pad><pad><pad><pad><pad><pad><pad><pad><pad><pad><pad><pad><pad><pad><pad><pad><pad><pad><pad><pad><pad><pad><pad><pad><pad><pad><pad><pad><pad><pad><pad><pad><pad><pad><pad><pad><pad>\n"
          ]
        }
      ],
      "source": [
        "train_sample = train_dataset[74]\n",
        "decoded_train_input = t5_tokenizer.decode(train_sample['source_ids'])\n",
        "decoded_train_output = t5_tokenizer.decode(train_sample['target_ids'])\n",
        "\n",
        "print (decoded_train_input)\n",
        "print (decoded_train_output)"
      ]
    },
    {
      "cell_type": "code",
      "execution_count": 10,
      "metadata": {
        "colab": {
          "base_uri": "https://localhost:8080/",
          "height": 138,
          "referenced_widgets": [
            "38efda3fae8149819ea59e7c98ebc23a",
            "17971daaf9e548f9a91ce4d6ec314c6e",
            "6174c565bc234fa491211bf9870492b2",
            "55600c34c5ed4c0ab60dac8e13d11be0",
            "fa24115f1ec94b328bc55e149829f276",
            "bda013169e604f5ead209bf4a6135ea5",
            "c40a8f03d27143a1b7486006d444c6f2",
            "b368ba1f248d4c00b00fee414ae72098",
            "4632d44abfdb4bc789892a946c737872",
            "5cc713562d3a40d4b1ab19d1d1058d2b",
            "7785684e1c8b4a9596dddf9037ec9e87"
          ]
        },
        "id": "LE8Nkk4N_yi_",
        "outputId": "2e3ea1dc-06c8-456f-b090-2cd51252cdfa"
      },
      "outputs": [
        {
          "name": "stderr",
          "output_type": "stream",
          "text": [
            "  0%|          | 0/10570 [00:00<?, ?it/s]/home/shashank/miniforge3/envs/vishal/lib/python3.10/site-packages/transformers/models/t5/tokenization_t5.py:289: UserWarning: This sequence already has </s>. In future versions this behavior may lead to duplicated eos tokens being added.\n",
            "  warnings.warn(\n",
            "/home/shashank/miniforge3/envs/vishal/lib/python3.10/site-packages/transformers/tokenization_utils_base.py:2870: FutureWarning: The `pad_to_max_length` argument is deprecated and will be removed in a future version, use `padding=True` or `padding='longest'` to pad to the longest sequence in the batch, or use `padding='max_length'` to pad to a max length. In this case, you can give a specific length with `max_length` (e.g. `max_length=45`) or leave max_length to None to pad to the maximal input size of the model (e.g. 512 for Bert).\n",
            "  warnings.warn(\n",
            "100%|██████████| 10570/10570 [00:13<00:00, 791.26it/s]\n"
          ]
        }
      ],
      "source": [
        "validation_dataset = QuestionGenerationDataset(t5_tokenizer,validation_file_path)\n"
      ]
    },
    {
      "cell_type": "markdown",
      "metadata": {
        "id": "B2ckilijWSeV"
      },
      "source": [
        "**T5 Finetuner**"
      ]
    },
    {
      "cell_type": "code",
      "execution_count": 13,
      "metadata": {
        "colab": {
          "base_uri": "https://localhost:8080/",
          "height": 1000
        },
        "id": "O59RAWUyE33t",
        "outputId": "2051361a-15bf-4be3-9d0c-229522d0688e"
      },
      "outputs": [
        {
          "name": "stdout",
          "output_type": "stream",
          "text": [
            "Requirement already satisfied: torch in c:\\users\\udayi\\appdata\\local\\programs\\python\\python311\\lib\\site-packages (2.5.0)\n",
            "Requirement already satisfied: torchvision in c:\\users\\udayi\\appdata\\local\\programs\\python\\python311\\lib\\site-packages (0.20.0)\n",
            "Requirement already satisfied: torchaudio in c:\\users\\udayi\\appdata\\local\\programs\\python\\python311\\lib\\site-packages (2.5.0)\n",
            "Requirement already satisfied: pytorch-lightning in c:\\users\\udayi\\appdata\\local\\programs\\python\\python311\\lib\\site-packages (2.4.0)\n",
            "Requirement already satisfied: filelock in c:\\users\\udayi\\appdata\\local\\programs\\python\\python311\\lib\\site-packages (from torch) (3.13.4)\n",
            "Requirement already satisfied: typing-extensions>=4.8.0 in c:\\users\\udayi\\appdata\\local\\programs\\python\\python311\\lib\\site-packages (from torch) (4.11.0)\n",
            "Requirement already satisfied: networkx in c:\\users\\udayi\\appdata\\local\\programs\\python\\python311\\lib\\site-packages (from torch) (3.3)\n",
            "Requirement already satisfied: jinja2 in c:\\users\\udayi\\appdata\\local\\programs\\python\\python311\\lib\\site-packages (from torch) (3.1.2)\n",
            "Requirement already satisfied: fsspec in c:\\users\\udayi\\appdata\\local\\programs\\python\\python311\\lib\\site-packages (from torch) (2024.3.1)\n",
            "Requirement already satisfied: sympy==1.13.1 in c:\\users\\udayi\\appdata\\local\\programs\\python\\python311\\lib\\site-packages (from torch) (1.13.1)\n",
            "Requirement already satisfied: mpmath<1.4,>=1.1.0 in c:\\users\\udayi\\appdata\\local\\programs\\python\\python311\\lib\\site-packages (from sympy==1.13.1->torch) (1.3.0)\n",
            "Requirement already satisfied: numpy in c:\\users\\udayi\\appdata\\local\\programs\\python\\python311\\lib\\site-packages (from torchvision) (1.26.4)\n",
            "Requirement already satisfied: pillow!=8.3.*,>=5.3.0 in c:\\users\\udayi\\appdata\\local\\programs\\python\\python311\\lib\\site-packages (from torchvision) (10.3.0)\n",
            "Requirement already satisfied: tqdm>=4.57.0 in c:\\users\\udayi\\appdata\\local\\programs\\python\\python311\\lib\\site-packages (from pytorch-lightning) (4.66.5)\n",
            "Requirement already satisfied: PyYAML>=5.4 in c:\\users\\udayi\\appdata\\local\\programs\\python\\python311\\lib\\site-packages (from pytorch-lightning) (6.0.1)\n",
            "Requirement already satisfied: torchmetrics>=0.7.0 in c:\\users\\udayi\\appdata\\local\\programs\\python\\python311\\lib\\site-packages (from pytorch-lightning) (1.5.1)\n",
            "Requirement already satisfied: packaging>=20.0 in c:\\users\\udayi\\appdata\\local\\programs\\python\\python311\\lib\\site-packages (from pytorch-lightning) (23.2)\n",
            "Requirement already satisfied: lightning-utilities>=0.10.0 in c:\\users\\udayi\\appdata\\local\\programs\\python\\python311\\lib\\site-packages (from pytorch-lightning) (0.11.8)\n",
            "Requirement already satisfied: aiohttp!=4.0.0a0,!=4.0.0a1 in c:\\users\\udayi\\appdata\\local\\programs\\python\\python311\\lib\\site-packages (from fsspec[http]>=2022.5.0->pytorch-lightning) (3.9.5)\n",
            "Requirement already satisfied: setuptools in c:\\users\\udayi\\appdata\\local\\programs\\python\\python311\\lib\\site-packages (from lightning-utilities>=0.10.0->pytorch-lightning) (65.5.0)\n",
            "Requirement already satisfied: colorama in c:\\users\\udayi\\appdata\\local\\programs\\python\\python311\\lib\\site-packages (from tqdm>=4.57.0->pytorch-lightning) (0.4.6)\n",
            "Requirement already satisfied: MarkupSafe>=2.0 in c:\\users\\udayi\\appdata\\local\\programs\\python\\python311\\lib\\site-packages (from jinja2->torch) (2.1.2)\n",
            "Requirement already satisfied: aiosignal>=1.1.2 in c:\\users\\udayi\\appdata\\local\\programs\\python\\python311\\lib\\site-packages (from aiohttp!=4.0.0a0,!=4.0.0a1->fsspec[http]>=2022.5.0->pytorch-lightning) (1.3.1)\n",
            "Requirement already satisfied: attrs>=17.3.0 in c:\\users\\udayi\\appdata\\local\\programs\\python\\python311\\lib\\site-packages (from aiohttp!=4.0.0a0,!=4.0.0a1->fsspec[http]>=2022.5.0->pytorch-lightning) (22.2.0)\n",
            "Requirement already satisfied: frozenlist>=1.1.1 in c:\\users\\udayi\\appdata\\local\\programs\\python\\python311\\lib\\site-packages (from aiohttp!=4.0.0a0,!=4.0.0a1->fsspec[http]>=2022.5.0->pytorch-lightning) (1.4.1)\n",
            "Requirement already satisfied: multidict<7.0,>=4.5 in c:\\users\\udayi\\appdata\\local\\programs\\python\\python311\\lib\\site-packages (from aiohttp!=4.0.0a0,!=4.0.0a1->fsspec[http]>=2022.5.0->pytorch-lightning) (6.0.5)\n",
            "Requirement already satisfied: yarl<2.0,>=1.0 in c:\\users\\udayi\\appdata\\local\\programs\\python\\python311\\lib\\site-packages (from aiohttp!=4.0.0a0,!=4.0.0a1->fsspec[http]>=2022.5.0->pytorch-lightning) (1.9.4)\n",
            "Requirement already satisfied: idna>=2.0 in c:\\users\\udayi\\appdata\\local\\programs\\python\\python311\\lib\\site-packages (from yarl<2.0,>=1.0->aiohttp!=4.0.0a0,!=4.0.0a1->fsspec[http]>=2022.5.0->pytorch-lightning) (3.7)\n",
            "Note: you may need to restart the kernel to use updated packages.\n"
          ]
        }
      ],
      "source": [
        "%pip install --upgrade torch torchvision torchaudio pytorch-lightning"
      ]
    },
    {
      "cell_type": "code",
      "execution_count": 14,
      "metadata": {
        "colab": {
          "base_uri": "https://localhost:8080/"
        },
        "id": "kXvfSgqTWX5n",
        "outputId": "a8407b8e-8218-4be7-d657-461f4d5fe7e6"
      },
      "outputs": [
        {
          "name": "stderr",
          "output_type": "stream",
          "text": [
            "Seed set to 42\n"
          ]
        }
      ],
      "source": [
        "import pytorch_lightning as pl\n",
        "pl.seed_everything(42)\n",
        "\n",
        "class T5FineTuner(pl.LightningModule):\n",
        "    def __init__(self,hparams, t5model, t5tokenizer):\n",
        "        super(T5FineTuner, self).__init__()\n",
        "        self.save_hyperparameters(hparams)\n",
        "        # self.hparams = hparams\n",
        "        self.model = t5model\n",
        "        self.tokenizer = t5tokenizer\n",
        "\n",
        "\n",
        "    def forward( self, input_ids, attention_mask=None, decoder_input_ids=None, decoder_attention_mask=None, lm_labels=None):\n",
        "         outputs = self.model(\n",
        "            input_ids=input_ids,\n",
        "            attention_mask=attention_mask,\n",
        "            decoder_attention_mask=decoder_attention_mask,\n",
        "            labels=lm_labels,\n",
        "        )\n",
        "\n",
        "         return outputs\n",
        "\n",
        "\n",
        "    def training_step(self, batch, batch_idx):\n",
        "        outputs = self.forward(\n",
        "            input_ids=batch[\"source_ids\"],\n",
        "            attention_mask=batch[\"source_mask\"],\n",
        "            decoder_input_ids = batch[\"target_ids\"],\n",
        "            decoder_attention_mask=batch['target_mask'],\n",
        "            lm_labels=batch['labels']\n",
        "        )\n",
        "\n",
        "        loss = outputs[0]\n",
        "        self.log('train_loss',loss)\n",
        "        return loss\n",
        "\n",
        "    def validation_step(self, batch, batch_idx):\n",
        "        outputs = self.forward(\n",
        "            input_ids=batch[\"source_ids\"],\n",
        "            attention_mask=batch[\"source_mask\"],\n",
        "            decoder_input_ids = batch[\"target_ids\"],    \n",
        "            decoder_attention_mask=batch['target_mask'],\n",
        "            lm_labels=batch['labels']\n",
        "        )\n",
        "\n",
        "        loss = outputs[0]\n",
        "        self.log(\"val_loss\",loss)\n",
        "        return loss\n",
        "\n",
        "    def train_dataloader(self):\n",
        "        return DataLoader(train_dataset, batch_size=self.hparams.batch_size,num_workers=4)\n",
        "\n",
        "    def val_dataloader(self):\n",
        "        return DataLoader(validation_dataset, batch_size=self.hparams.batch_size,num_workers=4)\n",
        "\n",
        "\n",
        "\n",
        "    def configure_optimizers(self):\n",
        "        optimizer = AdamW(self.parameters(), lr=3e-4, eps=1e-8)\n",
        "        return optimizer\n",
        "\n",
        "\n"
      ]
    },
    {
      "cell_type": "code",
      "execution_count": 14,
      "metadata": {
        "colab": {
          "base_uri": "https://localhost:8080/",
          "height": 433,
          "referenced_widgets": [
            "9447332639f546d1b207fb842c95f899",
            "6fd03556f08c429d95e8220c392823bc",
            "adf402971d6a4ac5bcd52def9e7f75ef",
            "559a9e8030ed41e5ad94b1a63eb81e07",
            "26a4d4807b224693a004d321e43041d4",
            "edcbc4eacd9f495eb53e5ded2a7bcea3",
            "28066b42515e43b0b3ff2ef41c6a476e",
            "21ec4c9d51db49bba2a3ba4501d84e8d",
            "adeae6cd841c421ea3e2e7cc5fa83be4",
            "a0d4191cc3234be988dee3b49a83abf6",
            "c703c65f5ee54709af32661f909737a3",
            "6b661aa9bdd34a40a162f8e0f251ad33",
            "4e4737eb008d4a19a7ee16a686ee69a3",
            "39e20040e94a4d3d88067b5264218e07",
            "10209dfe31844c799c7e5820e222afc3",
            "8aa965b9385141d285869669ca249f3d",
            "0e3f74d24427485ba4aff38b910baae6",
            "3e85573c3555433da78dd247671870f6",
            "05577a3d9ad84b22af174cf91db9c16c",
            "f2870fd1185b443d9d6f8014467a8f67",
            "ffd4db9ab52c427cb9d244aac0151074",
            "938cea79893e4705bad64d553cff72da"
          ]
        },
        "id": "soiAnjjOf88w",
        "outputId": "bb2942fa-4d54-474e-fef3-2d3d2869d428"
      },
      "outputs": [
        {
          "name": "stderr",
          "output_type": "stream",
          "text": [
            "GPU available: True (cuda), used: True\n",
            "TPU available: False, using: 0 TPU cores\n",
            "HPU available: False, using: 0 HPUs\n"
          ]
        },
        {
          "name": "stderr",
          "output_type": "stream",
          "text": [
            "LOCAL_RANK: 0 - CUDA_VISIBLE_DEVICES: [0]\n",
            "/home/shashank/miniforge3/envs/vishal/lib/python3.10/site-packages/transformers/optimization.py:591: FutureWarning: This implementation of AdamW is deprecated and will be removed in a future version. Use the PyTorch implementation torch.optim.AdamW instead, or set `no_deprecation_warning=True` to disable this warning\n",
            "  warnings.warn(\n",
            "\n",
            "  | Name  | Type                       | Params | Mode\n",
            "------------------------------------------------------------\n",
            "0 | model | T5ForConditionalGeneration | 60.5 M | eval\n",
            "------------------------------------------------------------\n",
            "60.5 M    Trainable params\n",
            "0         Non-trainable params\n",
            "60.5 M    Total params\n",
            "242.026   Total estimated model params size (MB)\n",
            "0         Modules in train mode\n",
            "277       Modules in eval mode\n"
          ]
        },
        {
          "name": "stdout",
          "output_type": "stream",
          "text": [
            "Epoch 4: 100%|██████████| 21834/21834 [1:04:54<00:00,  5.61it/s, v_num=1]  "
          ]
        },
        {
          "name": "stderr",
          "output_type": "stream",
          "text": [
            "`Trainer.fit` stopped: `max_epochs=5` reached.\n"
          ]
        },
        {
          "name": "stdout",
          "output_type": "stream",
          "text": [
            "Epoch 4: 100%|██████████| 21834/21834 [1:04:56<00:00,  5.60it/s, v_num=1]\n",
            "Saving model\n"
          ]
        },
        {
          "data": {
            "text/plain": [
              "('/home/shashank/Documents/vishal/t5/tokenizer/tokenizer_config.json',\n",
              " '/home/shashank/Documents/vishal/t5/tokenizer/special_tokens_map.json',\n",
              " '/home/shashank/Documents/vishal/t5/tokenizer/spiece.model',\n",
              " '/home/shashank/Documents/vishal/t5/tokenizer/added_tokens.json')"
            ]
          },
          "execution_count": 14,
          "metadata": {},
          "output_type": "execute_result"
        }
      ],
      "source": [
        "import argparse\n",
        "\n",
        "args_dict = dict(\n",
        "    batch_size=4,\n",
        ")\n",
        "\n",
        "args = argparse.Namespace(**args_dict)\n",
        "\n",
        "\n",
        "model = T5FineTuner(args,t5_model,t5_tokenizer)\n",
        "\n",
        "trainer = pl.Trainer(max_epochs = 5, accelerator='gpu', devices=1)\n",
        "\n",
        "trainer.fit(model)\n",
        "\n",
        "print (\"Saving model\")\n",
        "save_path_model = '/home/shashank/Documents/vishal/t5/model'\n",
        "save_path_tokenizer = '/home/shashank/Documents/vishal/t5/tokenizer'\n",
        "model.model.save_pretrained(save_path_model)\n",
        "t5_tokenizer.save_pretrained(save_path_tokenizer)"
      ]
    },
    {
      "cell_type": "markdown",
      "metadata": {
        "id": "1iHlq4hPZehE"
      },
      "source": [
        "## 3. Test the trained T5 model"
      ]
    },
    {
      "cell_type": "code",
      "execution_count": 15,
      "metadata": {},
      "outputs": [
        {
          "name": "stdout",
          "output_type": "stream",
          "text": [
            "Requirement already satisfied: torch in c:\\users\\udayi\\appdata\\local\\programs\\python\\python311\\lib\\site-packages (2.5.0)\n",
            "Requirement already satisfied: transformers in c:\\users\\udayi\\appdata\\local\\programs\\python\\python311\\lib\\site-packages (4.40.1)\n",
            "Requirement already satisfied: filelock in c:\\users\\udayi\\appdata\\local\\programs\\python\\python311\\lib\\site-packages (from torch) (3.13.4)\n",
            "Requirement already satisfied: typing-extensions>=4.8.0 in c:\\users\\udayi\\appdata\\local\\programs\\python\\python311\\lib\\site-packages (from torch) (4.11.0)\n",
            "Requirement already satisfied: networkx in c:\\users\\udayi\\appdata\\local\\programs\\python\\python311\\lib\\site-packages (from torch) (3.3)\n",
            "Requirement already satisfied: jinja2 in c:\\users\\udayi\\appdata\\local\\programs\\python\\python311\\lib\\site-packages (from torch) (3.1.2)\n",
            "Requirement already satisfied: fsspec in c:\\users\\udayi\\appdata\\local\\programs\\python\\python311\\lib\\site-packages (from torch) (2024.3.1)\n",
            "Requirement already satisfied: sympy==1.13.1 in c:\\users\\udayi\\appdata\\local\\programs\\python\\python311\\lib\\site-packages (from torch) (1.13.1)\n",
            "Requirement already satisfied: mpmath<1.4,>=1.1.0 in c:\\users\\udayi\\appdata\\local\\programs\\python\\python311\\lib\\site-packages (from sympy==1.13.1->torch) (1.3.0)\n",
            "Requirement already satisfied: huggingface-hub<1.0,>=0.19.3 in c:\\users\\udayi\\appdata\\local\\programs\\python\\python311\\lib\\site-packages (from transformers) (0.22.2)\n",
            "Requirement already satisfied: numpy>=1.17 in c:\\users\\udayi\\appdata\\local\\programs\\python\\python311\\lib\\site-packages (from transformers) (1.26.4)\n",
            "Requirement already satisfied: packaging>=20.0 in c:\\users\\udayi\\appdata\\local\\programs\\python\\python311\\lib\\site-packages (from transformers) (23.2)\n",
            "Requirement already satisfied: pyyaml>=5.1 in c:\\users\\udayi\\appdata\\local\\programs\\python\\python311\\lib\\site-packages (from transformers) (6.0.1)\n",
            "Requirement already satisfied: regex!=2019.12.17 in c:\\users\\udayi\\appdata\\local\\programs\\python\\python311\\lib\\site-packages (from transformers) (2024.4.16)\n",
            "Requirement already satisfied: requests in c:\\users\\udayi\\appdata\\local\\programs\\python\\python311\\lib\\site-packages (from transformers) (2.32.3)\n",
            "Requirement already satisfied: tokenizers<0.20,>=0.19 in c:\\users\\udayi\\appdata\\local\\programs\\python\\python311\\lib\\site-packages (from transformers) (0.19.1)\n",
            "Requirement already satisfied: safetensors>=0.4.1 in c:\\users\\udayi\\appdata\\local\\programs\\python\\python311\\lib\\site-packages (from transformers) (0.4.3)\n",
            "Requirement already satisfied: tqdm>=4.27 in c:\\users\\udayi\\appdata\\local\\programs\\python\\python311\\lib\\site-packages (from transformers) (4.66.5)\n",
            "Requirement already satisfied: colorama in c:\\users\\udayi\\appdata\\local\\programs\\python\\python311\\lib\\site-packages (from tqdm>=4.27->transformers) (0.4.6)\n",
            "Requirement already satisfied: MarkupSafe>=2.0 in c:\\users\\udayi\\appdata\\local\\programs\\python\\python311\\lib\\site-packages (from jinja2->torch) (2.1.2)\n",
            "Requirement already satisfied: charset-normalizer<4,>=2 in c:\\users\\udayi\\appdata\\local\\programs\\python\\python311\\lib\\site-packages (from requests->transformers) (3.3.2)\n",
            "Requirement already satisfied: idna<4,>=2.5 in c:\\users\\udayi\\appdata\\local\\programs\\python\\python311\\lib\\site-packages (from requests->transformers) (3.7)\n",
            "Requirement already satisfied: urllib3<3,>=1.21.1 in c:\\users\\udayi\\appdata\\local\\programs\\python\\python311\\lib\\site-packages (from requests->transformers) (2.2.1)\n",
            "Requirement already satisfied: certifi>=2017.4.17 in c:\\users\\udayi\\appdata\\local\\programs\\python\\python311\\lib\\site-packages (from requests->transformers) (2024.2.2)\n",
            "Note: you may need to restart the kernel to use updated packages.\n"
          ]
        }
      ],
      "source": [
        "%pip install torch transformers"
      ]
    },
    {
      "cell_type": "code",
      "execution_count": 16,
      "metadata": {
        "id": "DwojCIRJc9g1"
      },
      "outputs": [],
      "source": [
        "import torch\n",
        "from transformers import T5ForConditionalGeneration,T5Tokenizer"
      ]
    },
    {
      "cell_type": "code",
      "execution_count": 17,
      "metadata": {
        "id": "e6IbYZn5ZqwM"
      },
      "outputs": [],
      "source": [
        "trained_model_path = 'D:/MiniProject2/t5/model'\n",
        "trained_tokenizer = 'D:/MiniProject2/t5/tokenizer'"
      ]
    },
    {
      "cell_type": "code",
      "execution_count": 18,
      "metadata": {
        "id": "iUfAgaAbdSVL"
      },
      "outputs": [
        {
          "name": "stderr",
          "output_type": "stream",
          "text": [
            "Special tokens have been added in the vocabulary, make sure the associated word embeddings are fine-tuned or trained.\n"
          ]
        }
      ],
      "source": [
        "model = T5ForConditionalGeneration.from_pretrained(trained_model_path)\n",
        "tokenizer = T5Tokenizer.from_pretrained(trained_tokenizer)"
      ]
    },
    {
      "cell_type": "code",
      "execution_count": 33,
      "metadata": {
        "colab": {
          "base_uri": "https://localhost:8080/"
        },
        "id": "duyEAGUcdpxZ",
        "outputId": "68dd51e7-91c1-4d0c-8e91-1c6f27635138"
      },
      "outputs": [
        {
          "name": "stdout",
          "output_type": "stream",
          "text": [
            "context: It is an important source of renewable energy and its technologies are broadly characterized as either passive solar or active solar depending on the way they capture and distribute solar energy or convert it into solar power. Active solar techniques include the use of photovoltaic systems, concentrated solar power and solar water heating to harness the energy. </s>\n"
          ]
        }
      ],
      "source": [
        "# context =\"President Donald Trump said and predicted that some states would reopen this month.\"\n",
        "# answer = \"Donald Trump\"\n",
        "# context ='Punjab witnessed major battles between the armies of India and Pakistan in the wars of 1965 and 1971. Since the 1990s Punjab hosted several key sites of Pakistan\\'s nuclear program such as Kahuta. It also hosts major military bases such as at Sargodha and Rawalpindi. The peace process between India and Pakistan, which began in earnest in 2004, has helped pacify the situation. Trade and people-to-people contacts through the Wagah border are now starting to become common. Indian Sikh pilgrims visit holy sites such as Nankana Sahib.\"'\n",
        "# answer = \"2004\"\n",
        "context = \"\"\"It is an important source of renewable energy and its technologies are broadly characterized as either passive solar or active solar depending on the way they capture and distribute solar energy or convert it into solar power. Active solar techniques include the use of photovoltaic systems, concentrated solar power and solar water heating to harness the energy.\"\"\"\n",
        "text = \"context: \"+context + \" </s>\"\n",
        "print (text)"
      ]
    },
    {
      "cell_type": "code",
      "execution_count": 34,
      "metadata": {
        "colab": {
          "base_uri": "https://localhost:8080/"
        },
        "id": "OakrL6hlfYmc",
        "outputId": "8d786d73-6b17-4e84-d1d2-0d867fb73924"
      },
      "outputs": [
        {
          "name": "stdout",
          "output_type": "stream",
          "text": [
            "dict_keys(['input_ids', 'attention_mask'])\n"
          ]
        }
      ],
      "source": [
        "encoding = tokenizer.encode_plus(text,max_length =512, padding=True, return_tensors=\"pt\")\n",
        "print (encoding.keys())\n",
        "input_ids,attention_mask  = encoding[\"input_ids\"], encoding[\"attention_mask\"]"
      ]
    },
    {
      "cell_type": "code",
      "execution_count": 35,
      "metadata": {
        "colab": {
          "base_uri": "https://localhost:8080/"
        },
        "id": "fBFZvYpJfy7k",
        "outputId": "02fc277e-2d7d-402c-b1bb-24dd798b6a32"
      },
      "outputs": [
        {
          "name": "stdout",
          "output_type": "stream",
          "text": [
            "question: What type of energy is a source of renewable energy?\n",
            "question: What type of renewable energy is responsible for either passive solar or active solar?\n",
            "question: What type of renewable energy is the source of renewable energy?\n",
            "question: What type of renewable energy is responsible for the use of solar energy?\n",
            "question: What type of renewable energy is responsible for the energy that it uses?\n"
          ]
        }
      ],
      "source": [
        "model.eval()\n",
        "beam_outputs = model.generate(\n",
        "    input_ids=input_ids,attention_mask=attention_mask,\n",
        "    max_length=72,\n",
        "    early_stopping=True,\n",
        "    num_beams=7,\n",
        "    num_return_sequences=5\n",
        "\n",
        ")\n",
        "\n",
        "for beam_output in beam_outputs:\n",
        "    sent = tokenizer.decode(beam_output, skip_special_tokens=True,clean_up_tokenization_spaces=True)\n",
        "    print (sent)"
      ]
    },
    {
      "cell_type": "code",
      "execution_count": 29,
      "metadata": {},
      "outputs": [
        {
          "name": "stdout",
          "output_type": "stream",
          "text": [
            "Requirement already satisfied: nltk in c:\\users\\kvish\\appdata\\local\\programs\\python\\python312\\lib\\site-packages (3.9.1)\n",
            "Requirement already satisfied: click in c:\\users\\kvish\\appdata\\local\\programs\\python\\python312\\lib\\site-packages (from nltk) (8.1.7)\n",
            "Requirement already satisfied: joblib in c:\\users\\kvish\\appdata\\local\\programs\\python\\python312\\lib\\site-packages (from nltk) (1.4.2)\n",
            "Requirement already satisfied: regex>=2021.8.3 in c:\\users\\kvish\\appdata\\local\\programs\\python\\python312\\lib\\site-packages (from nltk) (2024.9.11)\n",
            "Requirement already satisfied: tqdm in c:\\users\\kvish\\appdata\\local\\programs\\python\\python312\\lib\\site-packages (from nltk) (4.66.5)\n",
            "Requirement already satisfied: colorama in c:\\users\\kvish\\appdata\\roaming\\python\\python312\\site-packages (from click->nltk) (0.4.6)\n",
            "Note: you may need to restart the kernel to use updated packages.\n"
          ]
        },
        {
          "name": "stderr",
          "output_type": "stream",
          "text": [
            "\n",
            "[notice] A new release of pip is available: 23.2.1 -> 24.2\n",
            "[notice] To update, run: python.exe -m pip install --upgrade pip\n"
          ]
        }
      ],
      "source": [
        "%pip install nltk"
      ]
    },
    {
      "cell_type": "code",
      "execution_count": 34,
      "metadata": {},
      "outputs": [
        {
          "name": "stderr",
          "output_type": "stream",
          "text": [
            "[nltk_data] Downloading package punkt to C:/nltk_data...\n",
            "[nltk_data]   Unzipping tokenizers\\punkt.zip.\n"
          ]
        },
        {
          "data": {
            "text/plain": [
              "True"
            ]
          },
          "execution_count": 34,
          "metadata": {},
          "output_type": "execute_result"
        }
      ],
      "source": [
        "import nltk\n",
        "nltk.data.path.append('C:/nltk_data')  # or wherever your NLTK data is located\n",
        "nltk.download('punkt', download_dir='C:/nltk_data')\n"
      ]
    },
    {
      "cell_type": "code",
      "execution_count": 40,
      "metadata": {},
      "outputs": [
        {
          "name": "stdout",
          "output_type": "stream",
          "text": [
            "Collecting en-core-web-sm==3.7.1\n",
            "  Downloading https://github.com/explosion/spacy-models/releases/download/en_core_web_sm-3.7.1/en_core_web_sm-3.7.1-py3-none-any.whl (12.8 MB)\n",
            "     ---------------------------------------- 0.0/12.8 MB ? eta -:--:--\n",
            "     ---------------------------------------- 0.0/12.8 MB ? eta -:--:--\n",
            "     --------------------------------------- 0.0/12.8 MB 653.6 kB/s eta 0:00:20\n",
            "     ---------------------------------------- 0.1/12.8 MB 1.4 MB/s eta 0:00:09\n",
            "      --------------------------------------- 0.3/12.8 MB 2.0 MB/s eta 0:00:07\n",
            "     - -------------------------------------- 0.4/12.8 MB 2.2 MB/s eta 0:00:06\n",
            "     -- ------------------------------------- 0.7/12.8 MB 2.6 MB/s eta 0:00:05\n",
            "     -- ------------------------------------- 0.8/12.8 MB 2.8 MB/s eta 0:00:05\n",
            "     --- ------------------------------------ 1.0/12.8 MB 2.8 MB/s eta 0:00:05\n",
            "     --- ------------------------------------ 1.0/12.8 MB 2.8 MB/s eta 0:00:05\n",
            "     --- ------------------------------------ 1.2/12.8 MB 2.8 MB/s eta 0:00:05\n",
            "     ---- ----------------------------------- 1.3/12.8 MB 2.7 MB/s eta 0:00:05\n",
            "     ---- ----------------------------------- 1.4/12.8 MB 2.5 MB/s eta 0:00:05\n",
            "     ---- ----------------------------------- 1.4/12.8 MB 2.4 MB/s eta 0:00:05\n",
            "     ---- ----------------------------------- 1.5/12.8 MB 2.3 MB/s eta 0:00:05\n",
            "     ----- ---------------------------------- 1.6/12.8 MB 2.4 MB/s eta 0:00:05\n",
            "     ----- ---------------------------------- 1.9/12.8 MB 2.6 MB/s eta 0:00:05\n",
            "     ------ --------------------------------- 2.0/12.8 MB 2.7 MB/s eta 0:00:05\n",
            "     ------ --------------------------------- 2.1/12.8 MB 2.7 MB/s eta 0:00:04\n",
            "     ------- -------------------------------- 2.2/12.8 MB 2.6 MB/s eta 0:00:05\n",
            "     ------- -------------------------------- 2.3/12.8 MB 2.7 MB/s eta 0:00:04\n",
            "     -------- ------------------------------- 2.6/12.8 MB 2.7 MB/s eta 0:00:04\n",
            "     -------- ------------------------------- 2.7/12.8 MB 2.7 MB/s eta 0:00:04\n",
            "     -------- ------------------------------- 2.8/12.8 MB 2.6 MB/s eta 0:00:04\n",
            "     -------- ------------------------------- 2.9/12.8 MB 2.6 MB/s eta 0:00:04\n",
            "     --------- ------------------------------ 3.1/12.8 MB 2.7 MB/s eta 0:00:04\n",
            "     ---------- ----------------------------- 3.2/12.8 MB 2.7 MB/s eta 0:00:04\n",
            "     ---------- ----------------------------- 3.5/12.8 MB 2.8 MB/s eta 0:00:04\n",
            "     ----------- ---------------------------- 3.8/12.8 MB 2.9 MB/s eta 0:00:04\n",
            "     ------------ --------------------------- 3.9/12.8 MB 2.9 MB/s eta 0:00:04\n",
            "     ------------- -------------------------- 4.2/12.8 MB 3.1 MB/s eta 0:00:03\n",
            "     ------------- -------------------------- 4.4/12.8 MB 3.1 MB/s eta 0:00:03\n",
            "     -------------- ------------------------- 4.8/12.8 MB 3.2 MB/s eta 0:00:03\n",
            "     --------------- ------------------------ 5.1/12.8 MB 3.3 MB/s eta 0:00:03\n",
            "     ---------------- ----------------------- 5.3/12.8 MB 3.4 MB/s eta 0:00:03\n",
            "     ----------------- ---------------------- 5.6/12.8 MB 3.4 MB/s eta 0:00:03\n",
            "     ----------------- ---------------------- 5.7/12.8 MB 3.4 MB/s eta 0:00:03\n",
            "     ------------------ --------------------- 5.8/12.8 MB 3.4 MB/s eta 0:00:03\n",
            "     ------------------ --------------------- 5.9/12.8 MB 3.4 MB/s eta 0:00:03\n",
            "     ------------------ --------------------- 6.1/12.8 MB 3.4 MB/s eta 0:00:03\n",
            "     ------------------- -------------------- 6.3/12.8 MB 3.4 MB/s eta 0:00:02\n",
            "     -------------------- ------------------- 6.6/12.8 MB 3.5 MB/s eta 0:00:02\n",
            "     -------------------- ------------------- 6.6/12.8 MB 3.4 MB/s eta 0:00:02\n",
            "     --------------------- ------------------ 6.8/12.8 MB 3.4 MB/s eta 0:00:02\n",
            "     ---------------------- ----------------- 7.0/12.8 MB 3.5 MB/s eta 0:00:02\n",
            "     ---------------------- ----------------- 7.2/12.8 MB 3.5 MB/s eta 0:00:02\n",
            "     ----------------------- ---------------- 7.5/12.8 MB 3.5 MB/s eta 0:00:02\n",
            "     ----------------------- ---------------- 7.6/12.8 MB 3.5 MB/s eta 0:00:02\n",
            "     ----------------------- ---------------- 7.6/12.8 MB 3.5 MB/s eta 0:00:02\n",
            "     ----------------------- ---------------- 7.6/12.8 MB 3.4 MB/s eta 0:00:02\n",
            "     ------------------------ --------------- 7.7/12.8 MB 3.4 MB/s eta 0:00:02\n",
            "     ------------------------ --------------- 7.8/12.8 MB 3.3 MB/s eta 0:00:02\n",
            "     ------------------------ --------------- 7.9/12.8 MB 3.3 MB/s eta 0:00:02\n",
            "     ------------------------- -------------- 8.1/12.8 MB 3.3 MB/s eta 0:00:02\n",
            "     -------------------------- ------------- 8.3/12.8 MB 3.4 MB/s eta 0:00:02\n",
            "     -------------------------- ------------- 8.5/12.8 MB 3.4 MB/s eta 0:00:02\n",
            "     --------------------------- ------------ 8.8/12.8 MB 3.4 MB/s eta 0:00:02\n",
            "     --------------------------- ------------ 8.9/12.8 MB 3.4 MB/s eta 0:00:02\n",
            "     ---------------------------- ----------- 9.1/12.8 MB 3.4 MB/s eta 0:00:02\n",
            "     ---------------------------- ----------- 9.2/12.8 MB 3.4 MB/s eta 0:00:02\n",
            "     ----------------------------- ---------- 9.4/12.8 MB 3.5 MB/s eta 0:00:01\n",
            "     ----------------------------- ---------- 9.4/12.8 MB 3.4 MB/s eta 0:00:01\n",
            "     ----------------------------- ---------- 9.5/12.8 MB 3.4 MB/s eta 0:00:01\n",
            "     ------------------------------ --------- 9.8/12.8 MB 3.4 MB/s eta 0:00:01\n",
            "     ------------------------------ --------- 9.9/12.8 MB 3.4 MB/s eta 0:00:01\n",
            "     ------------------------------- -------- 9.9/12.8 MB 3.4 MB/s eta 0:00:01\n",
            "     ------------------------------- -------- 10.0/12.8 MB 3.4 MB/s eta 0:00:01\n",
            "     ------------------------------- -------- 10.0/12.8 MB 3.4 MB/s eta 0:00:01\n",
            "     ------------------------------- -------- 10.1/12.8 MB 3.3 MB/s eta 0:00:01\n",
            "     ------------------------------- -------- 10.1/12.8 MB 3.3 MB/s eta 0:00:01\n",
            "     ------------------------------- -------- 10.1/12.8 MB 3.3 MB/s eta 0:00:01\n",
            "     -------------------------------- ------- 10.3/12.8 MB 3.3 MB/s eta 0:00:01\n",
            "     -------------------------------- ------- 10.3/12.8 MB 3.2 MB/s eta 0:00:01\n",
            "     -------------------------------- ------- 10.4/12.8 MB 3.3 MB/s eta 0:00:01\n",
            "     --------------------------------- ------ 10.6/12.8 MB 3.3 MB/s eta 0:00:01\n",
            "     --------------------------------- ------ 10.7/12.8 MB 3.3 MB/s eta 0:00:01\n",
            "     --------------------------------- ------ 10.9/12.8 MB 3.3 MB/s eta 0:00:01\n",
            "     ---------------------------------- ----- 11.0/12.8 MB 3.3 MB/s eta 0:00:01\n",
            "     ---------------------------------- ----- 11.1/12.8 MB 3.3 MB/s eta 0:00:01\n",
            "     ---------------------------------- ----- 11.2/12.8 MB 3.2 MB/s eta 0:00:01\n",
            "     ----------------------------------- ---- 11.3/12.8 MB 3.2 MB/s eta 0:00:01\n",
            "     ----------------------------------- ---- 11.4/12.8 MB 3.2 MB/s eta 0:00:01\n",
            "     ------------------------------------ --- 11.6/12.8 MB 3.3 MB/s eta 0:00:01\n",
            "     ------------------------------------ --- 11.7/12.8 MB 3.3 MB/s eta 0:00:01\n",
            "     ------------------------------------ --- 11.8/12.8 MB 3.3 MB/s eta 0:00:01\n",
            "     ------------------------------------- -- 11.9/12.8 MB 3.3 MB/s eta 0:00:01\n",
            "     ------------------------------------- -- 12.0/12.8 MB 3.3 MB/s eta 0:00:01\n",
            "     ------------------------------------- -- 12.1/12.8 MB 3.3 MB/s eta 0:00:01\n",
            "     -------------------------------------- - 12.3/12.8 MB 3.3 MB/s eta 0:00:01\n",
            "     -------------------------------------- - 12.4/12.8 MB 3.3 MB/s eta 0:00:01\n",
            "     ---------------------------------------  12.6/12.8 MB 3.3 MB/s eta 0:00:01\n",
            "     ---------------------------------------  12.6/12.8 MB 3.3 MB/s eta 0:00:01\n",
            "     ---------------------------------------  12.7/12.8 MB 3.2 MB/s eta 0:00:01\n",
            "     ---------------------------------------  12.7/12.8 MB 3.2 MB/s eta 0:00:01\n",
            "     ---------------------------------------  12.8/12.8 MB 3.2 MB/s eta 0:00:01\n",
            "     ---------------------------------------- 12.8/12.8 MB 3.1 MB/s eta 0:00:00\n",
            "Requirement already satisfied: spacy<3.8.0,>=3.7.2 in c:\\users\\kvish\\appdata\\local\\programs\\python\\python312\\lib\\site-packages (from en-core-web-sm==3.7.1) (3.7.6)\n",
            "Requirement already satisfied: spacy-legacy<3.1.0,>=3.0.11 in c:\\users\\kvish\\appdata\\local\\programs\\python\\python312\\lib\\site-packages (from spacy<3.8.0,>=3.7.2->en-core-web-sm==3.7.1) (3.0.12)\n",
            "Requirement already satisfied: spacy-loggers<2.0.0,>=1.0.0 in c:\\users\\kvish\\appdata\\local\\programs\\python\\python312\\lib\\site-packages (from spacy<3.8.0,>=3.7.2->en-core-web-sm==3.7.1) (1.0.5)\n",
            "Requirement already satisfied: murmurhash<1.1.0,>=0.28.0 in c:\\users\\kvish\\appdata\\local\\programs\\python\\python312\\lib\\site-packages (from spacy<3.8.0,>=3.7.2->en-core-web-sm==3.7.1) (1.0.10)\n",
            "Requirement already satisfied: cymem<2.1.0,>=2.0.2 in c:\\users\\kvish\\appdata\\local\\programs\\python\\python312\\lib\\site-packages (from spacy<3.8.0,>=3.7.2->en-core-web-sm==3.7.1) (2.0.8)\n",
            "Requirement already satisfied: preshed<3.1.0,>=3.0.2 in c:\\users\\kvish\\appdata\\local\\programs\\python\\python312\\lib\\site-packages (from spacy<3.8.0,>=3.7.2->en-core-web-sm==3.7.1) (3.0.9)\n",
            "Requirement already satisfied: thinc<8.3.0,>=8.2.2 in c:\\users\\kvish\\appdata\\local\\programs\\python\\python312\\lib\\site-packages (from spacy<3.8.0,>=3.7.2->en-core-web-sm==3.7.1) (8.2.5)\n",
            "Requirement already satisfied: wasabi<1.2.0,>=0.9.1 in c:\\users\\kvish\\appdata\\local\\programs\\python\\python312\\lib\\site-packages (from spacy<3.8.0,>=3.7.2->en-core-web-sm==3.7.1) (1.1.3)\n",
            "Requirement already satisfied: srsly<3.0.0,>=2.4.3 in c:\\users\\kvish\\appdata\\local\\programs\\python\\python312\\lib\\site-packages (from spacy<3.8.0,>=3.7.2->en-core-web-sm==3.7.1) (2.4.8)\n",
            "Requirement already satisfied: catalogue<2.1.0,>=2.0.6 in c:\\users\\kvish\\appdata\\local\\programs\\python\\python312\\lib\\site-packages (from spacy<3.8.0,>=3.7.2->en-core-web-sm==3.7.1) (2.0.10)\n",
            "Requirement already satisfied: weasel<0.5.0,>=0.1.0 in c:\\users\\kvish\\appdata\\local\\programs\\python\\python312\\lib\\site-packages (from spacy<3.8.0,>=3.7.2->en-core-web-sm==3.7.1) (0.4.1)\n",
            "Requirement already satisfied: typer<1.0.0,>=0.3.0 in c:\\users\\kvish\\appdata\\local\\programs\\python\\python312\\lib\\site-packages (from spacy<3.8.0,>=3.7.2->en-core-web-sm==3.7.1) (0.12.5)\n",
            "Requirement already satisfied: tqdm<5.0.0,>=4.38.0 in c:\\users\\kvish\\appdata\\local\\programs\\python\\python312\\lib\\site-packages (from spacy<3.8.0,>=3.7.2->en-core-web-sm==3.7.1) (4.66.5)\n",
            "Requirement already satisfied: requests<3.0.0,>=2.13.0 in c:\\users\\kvish\\appdata\\local\\programs\\python\\python312\\lib\\site-packages (from spacy<3.8.0,>=3.7.2->en-core-web-sm==3.7.1) (2.32.3)\n",
            "Requirement already satisfied: pydantic!=1.8,!=1.8.1,<3.0.0,>=1.7.4 in c:\\users\\kvish\\appdata\\local\\programs\\python\\python312\\lib\\site-packages (from spacy<3.8.0,>=3.7.2->en-core-web-sm==3.7.1) (2.9.1)\n",
            "Requirement already satisfied: jinja2 in c:\\users\\kvish\\appdata\\local\\programs\\python\\python312\\lib\\site-packages (from spacy<3.8.0,>=3.7.2->en-core-web-sm==3.7.1) (3.1.4)\n",
            "Requirement already satisfied: setuptools in c:\\users\\kvish\\appdata\\local\\programs\\python\\python312\\lib\\site-packages (from spacy<3.8.0,>=3.7.2->en-core-web-sm==3.7.1) (75.0.0)\n",
            "Requirement already satisfied: packaging>=20.0 in c:\\users\\kvish\\appdata\\roaming\\python\\python312\\site-packages (from spacy<3.8.0,>=3.7.2->en-core-web-sm==3.7.1) (24.0)\n",
            "Requirement already satisfied: langcodes<4.0.0,>=3.2.0 in c:\\users\\kvish\\appdata\\local\\programs\\python\\python312\\lib\\site-packages (from spacy<3.8.0,>=3.7.2->en-core-web-sm==3.7.1) (3.4.0)\n",
            "Requirement already satisfied: numpy>=1.19.0 in c:\\users\\kvish\\appdata\\local\\programs\\python\\python312\\lib\\site-packages (from spacy<3.8.0,>=3.7.2->en-core-web-sm==3.7.1) (1.26.4)\n",
            "Requirement already satisfied: language-data>=1.2 in c:\\users\\kvish\\appdata\\local\\programs\\python\\python312\\lib\\site-packages (from langcodes<4.0.0,>=3.2.0->spacy<3.8.0,>=3.7.2->en-core-web-sm==3.7.1) (1.2.0)\n",
            "Requirement already satisfied: annotated-types>=0.6.0 in c:\\users\\kvish\\appdata\\local\\programs\\python\\python312\\lib\\site-packages (from pydantic!=1.8,!=1.8.1,<3.0.0,>=1.7.4->spacy<3.8.0,>=3.7.2->en-core-web-sm==3.7.1) (0.7.0)\n",
            "Requirement already satisfied: pydantic-core==2.23.3 in c:\\users\\kvish\\appdata\\local\\programs\\python\\python312\\lib\\site-packages (from pydantic!=1.8,!=1.8.1,<3.0.0,>=1.7.4->spacy<3.8.0,>=3.7.2->en-core-web-sm==3.7.1) (2.23.3)\n",
            "Requirement already satisfied: typing-extensions>=4.6.1 in c:\\users\\kvish\\appdata\\local\\programs\\python\\python312\\lib\\site-packages (from pydantic!=1.8,!=1.8.1,<3.0.0,>=1.7.4->spacy<3.8.0,>=3.7.2->en-core-web-sm==3.7.1) (4.12.2)\n",
            "Requirement already satisfied: charset-normalizer<4,>=2 in c:\\users\\kvish\\appdata\\local\\programs\\python\\python312\\lib\\site-packages (from requests<3.0.0,>=2.13.0->spacy<3.8.0,>=3.7.2->en-core-web-sm==3.7.1) (3.3.2)\n",
            "Requirement already satisfied: idna<4,>=2.5 in c:\\users\\kvish\\appdata\\local\\programs\\python\\python312\\lib\\site-packages (from requests<3.0.0,>=2.13.0->spacy<3.8.0,>=3.7.2->en-core-web-sm==3.7.1) (3.10)\n",
            "Requirement already satisfied: urllib3<3,>=1.21.1 in c:\\users\\kvish\\appdata\\local\\programs\\python\\python312\\lib\\site-packages (from requests<3.0.0,>=2.13.0->spacy<3.8.0,>=3.7.2->en-core-web-sm==3.7.1) (2.2.3)\n",
            "Requirement already satisfied: certifi>=2017.4.17 in c:\\users\\kvish\\appdata\\local\\programs\\python\\python312\\lib\\site-packages (from requests<3.0.0,>=2.13.0->spacy<3.8.0,>=3.7.2->en-core-web-sm==3.7.1) (2024.8.30)\n",
            "Requirement already satisfied: blis<0.8.0,>=0.7.8 in c:\\users\\kvish\\appdata\\local\\programs\\python\\python312\\lib\\site-packages (from thinc<8.3.0,>=8.2.2->spacy<3.8.0,>=3.7.2->en-core-web-sm==3.7.1) (0.7.11)\n",
            "Requirement already satisfied: confection<1.0.0,>=0.0.1 in c:\\users\\kvish\\appdata\\local\\programs\\python\\python312\\lib\\site-packages (from thinc<8.3.0,>=8.2.2->spacy<3.8.0,>=3.7.2->en-core-web-sm==3.7.1) (0.1.5)\n",
            "Requirement already satisfied: colorama in c:\\users\\kvish\\appdata\\roaming\\python\\python312\\site-packages (from tqdm<5.0.0,>=4.38.0->spacy<3.8.0,>=3.7.2->en-core-web-sm==3.7.1) (0.4.6)\n",
            "Requirement already satisfied: click>=8.0.0 in c:\\users\\kvish\\appdata\\local\\programs\\python\\python312\\lib\\site-packages (from typer<1.0.0,>=0.3.0->spacy<3.8.0,>=3.7.2->en-core-web-sm==3.7.1) (8.1.7)\n",
            "Requirement already satisfied: shellingham>=1.3.0 in c:\\users\\kvish\\appdata\\local\\programs\\python\\python312\\lib\\site-packages (from typer<1.0.0,>=0.3.0->spacy<3.8.0,>=3.7.2->en-core-web-sm==3.7.1) (1.5.4)\n",
            "Requirement already satisfied: rich>=10.11.0 in c:\\users\\kvish\\appdata\\local\\programs\\python\\python312\\lib\\site-packages (from typer<1.0.0,>=0.3.0->spacy<3.8.0,>=3.7.2->en-core-web-sm==3.7.1) (13.8.1)\n",
            "Requirement already satisfied: cloudpathlib<1.0.0,>=0.7.0 in c:\\users\\kvish\\appdata\\local\\programs\\python\\python312\\lib\\site-packages (from weasel<0.5.0,>=0.1.0->spacy<3.8.0,>=3.7.2->en-core-web-sm==3.7.1) (0.19.0)\n",
            "Requirement already satisfied: smart-open<8.0.0,>=5.2.1 in c:\\users\\kvish\\appdata\\local\\programs\\python\\python312\\lib\\site-packages (from weasel<0.5.0,>=0.1.0->spacy<3.8.0,>=3.7.2->en-core-web-sm==3.7.1) (7.0.4)\n",
            "Requirement already satisfied: MarkupSafe>=2.0 in c:\\users\\kvish\\appdata\\local\\programs\\python\\python312\\lib\\site-packages (from jinja2->spacy<3.8.0,>=3.7.2->en-core-web-sm==3.7.1) (2.1.5)\n",
            "Requirement already satisfied: marisa-trie>=0.7.7 in c:\\users\\kvish\\appdata\\local\\programs\\python\\python312\\lib\\site-packages (from language-data>=1.2->langcodes<4.0.0,>=3.2.0->spacy<3.8.0,>=3.7.2->en-core-web-sm==3.7.1) (1.2.0)\n",
            "Requirement already satisfied: markdown-it-py>=2.2.0 in c:\\users\\kvish\\appdata\\local\\programs\\python\\python312\\lib\\site-packages (from rich>=10.11.0->typer<1.0.0,>=0.3.0->spacy<3.8.0,>=3.7.2->en-core-web-sm==3.7.1) (3.0.0)\n",
            "Requirement already satisfied: pygments<3.0.0,>=2.13.0 in c:\\users\\kvish\\appdata\\roaming\\python\\python312\\site-packages (from rich>=10.11.0->typer<1.0.0,>=0.3.0->spacy<3.8.0,>=3.7.2->en-core-web-sm==3.7.1) (2.17.2)\n",
            "Requirement already satisfied: wrapt in c:\\users\\kvish\\appdata\\local\\programs\\python\\python312\\lib\\site-packages (from smart-open<8.0.0,>=5.2.1->weasel<0.5.0,>=0.1.0->spacy<3.8.0,>=3.7.2->en-core-web-sm==3.7.1) (1.16.0)\n",
            "Requirement already satisfied: mdurl~=0.1 in c:\\users\\kvish\\appdata\\local\\programs\\python\\python312\\lib\\site-packages (from markdown-it-py>=2.2.0->rich>=10.11.0->typer<1.0.0,>=0.3.0->spacy<3.8.0,>=3.7.2->en-core-web-sm==3.7.1) (0.1.2)\n",
            "Installing collected packages: en-core-web-sm\n",
            "Successfully installed en-core-web-sm-3.7.1\n",
            "\u001b[38;5;2m✔ Download and installation successful\u001b[0m\n",
            "You can now load the package via spacy.load('en_core_web_sm')\n"
          ]
        },
        {
          "name": "stderr",
          "output_type": "stream",
          "text": [
            "\n",
            "[notice] A new release of pip is available: 23.2.1 -> 24.2\n",
            "[notice] To update, run: python.exe -m pip install --upgrade pip\n"
          ]
        }
      ],
      "source": [
        "!python -m spacy download en_core_web_sm\n"
      ]
    },
    {
      "cell_type": "code",
      "execution_count": 21,
      "metadata": {},
      "outputs": [
        {
          "name": "stdout",
          "output_type": "stream",
          "text": [
            "Predictions:\n",
            "question: Who said that some states would reopen this month?\n",
            "question: Which president predicted that some states would reopen?\n",
            "question: Which president said that some states would reopen this month?\n",
            "BLEU Score: 0.6716058924824789\n"
          ]
        }
      ],
      "source": [
        "import spacy\n",
        "from nltk.translate.bleu_score import corpus_bleu\n",
        "\n",
        "nlp = spacy.load('en_core_web_sm')\n",
        "\n",
        "def spacy_tokenize(text):\n",
        "    doc = nlp(text)\n",
        "    return [token.text for token in doc]\n",
        "\n",
        "\n",
        "predictions = [tokenizer.decode(beam_output, skip_special_tokens=True, clean_up_tokenization_spaces=True) for beam_output in beam_outputs]\n",
        "print(\"Predictions:\")\n",
        "for sent in predictions:\n",
        "    print(sent)\n",
        "\n",
        "\n",
        "reference = [\"Which president said that some states would reopen this month?\"]  # This is the expected answer\n",
        "# reference = [\"When did India and Pakistan begin serious peace talks?hich NFL team represented the AFC at Super Bowl 50?\"]  # This is the expected answer\n",
        "\n",
        "reference_tokens = spacy_tokenize(reference[0].lower())  # Single list of reference tokens\n",
        "prediction_tokens = [spacy_tokenize(pred.lower()) for pred in predictions]\n",
        "\n",
        "list_of_references = [[reference_tokens] for _ in predictions]  # One list of reference tokens for each prediction\n",
        "\n",
        "# Compute BLEU score\n",
        "bleu_score = corpus_bleu(list_of_references, prediction_tokens)\n",
        "print(\"BLEU Score:\", bleu_score)\n"
      ]
    },
    {
      "cell_type": "code",
      "execution_count": 52,
      "metadata": {},
      "outputs": [
        {
          "name": "stdout",
          "output_type": "stream",
          "text": [
            "Collecting rouge-score\n",
            "  Downloading rouge_score-0.1.2.tar.gz (17 kB)\n",
            "  Installing build dependencies: started\n",
            "  Installing build dependencies: finished with status 'done'\n",
            "  Getting requirements to build wheel: started\n",
            "  Getting requirements to build wheel: finished with status 'done'\n",
            "  Preparing metadata (pyproject.toml): started\n",
            "  Preparing metadata (pyproject.toml): finished with status 'done'\n",
            "Collecting absl-py (from rouge-score)\n",
            "  Obtaining dependency information for absl-py from https://files.pythonhosted.org/packages/a2/ad/e0d3c824784ff121c03cc031f944bc7e139a8f1870ffd2845cc2dd76f6c4/absl_py-2.1.0-py3-none-any.whl.metadata\n",
            "  Downloading absl_py-2.1.0-py3-none-any.whl.metadata (2.3 kB)\n",
            "Requirement already satisfied: nltk in c:\\users\\kvish\\appdata\\local\\programs\\python\\python312\\lib\\site-packages (from rouge-score) (3.9.1)\n",
            "Requirement already satisfied: numpy in c:\\users\\kvish\\appdata\\local\\programs\\python\\python312\\lib\\site-packages (from rouge-score) (1.26.4)\n",
            "Requirement already satisfied: six>=1.14.0 in c:\\users\\kvish\\appdata\\roaming\\python\\python312\\site-packages (from rouge-score) (1.16.0)\n",
            "Requirement already satisfied: click in c:\\users\\kvish\\appdata\\local\\programs\\python\\python312\\lib\\site-packages (from nltk->rouge-score) (8.1.7)\n",
            "Requirement already satisfied: joblib in c:\\users\\kvish\\appdata\\local\\programs\\python\\python312\\lib\\site-packages (from nltk->rouge-score) (1.4.2)\n",
            "Requirement already satisfied: regex>=2021.8.3 in c:\\users\\kvish\\appdata\\local\\programs\\python\\python312\\lib\\site-packages (from nltk->rouge-score) (2024.9.11)\n",
            "Requirement already satisfied: tqdm in c:\\users\\kvish\\appdata\\local\\programs\\python\\python312\\lib\\site-packages (from nltk->rouge-score) (4.66.5)\n",
            "Requirement already satisfied: colorama in c:\\users\\kvish\\appdata\\roaming\\python\\python312\\site-packages (from click->nltk->rouge-score) (0.4.6)\n",
            "Using cached absl_py-2.1.0-py3-none-any.whl (133 kB)\n",
            "Building wheels for collected packages: rouge-score\n",
            "  Building wheel for rouge-score (pyproject.toml): started\n",
            "  Building wheel for rouge-score (pyproject.toml): finished with status 'done'\n",
            "  Created wheel for rouge-score: filename=rouge_score-0.1.2-py3-none-any.whl size=24970 sha256=b9bfb3d4e3c14cdd057ec5a2380913438bbe1df8067b6c8d36a03e145d927567\n",
            "  Stored in directory: c:\\users\\kvish\\appdata\\local\\pip\\cache\\wheels\\85\\9d\\af\\01feefbe7d55ef5468796f0c68225b6788e85d9d0a281e7a70\n",
            "Successfully built rouge-score\n",
            "Installing collected packages: absl-py, rouge-score\n",
            "Successfully installed absl-py-2.1.0 rouge-score-0.1.2\n",
            "Note: you may need to restart the kernel to use updated packages.\n"
          ]
        },
        {
          "name": "stderr",
          "output_type": "stream",
          "text": [
            "\n",
            "[notice] A new release of pip is available: 23.2.1 -> 24.2\n",
            "[notice] To update, run: python.exe -m pip install --upgrade pip\n"
          ]
        }
      ],
      "source": [
        "pip install rouge-score"
      ]
    },
    {
      "cell_type": "code",
      "execution_count": 24,
      "metadata": {},
      "outputs": [
        {
          "name": "stdout",
          "output_type": "stream",
          "text": [
            "ROUGE Scores: {'rouge1': Score(precision=0.8, recall=0.8, fmeasure=0.8000000000000002), 'rouge2': Score(precision=0.7777777777777778, recall=0.7777777777777778, fmeasure=0.7777777777777778), 'rougeL': Score(precision=0.8, recall=0.8, fmeasure=0.8000000000000002)}\n",
            "ROUGE Scores: {'rouge1': Score(precision=0.7777777777777778, recall=0.7, fmeasure=0.7368421052631577), 'rouge2': Score(precision=0.625, recall=0.5555555555555556, fmeasure=0.5882352941176471), 'rougeL': Score(precision=0.7777777777777778, recall=0.7, fmeasure=0.7368421052631577)}\n",
            "ROUGE Scores: {'rouge1': Score(precision=0.9090909090909091, recall=1.0, fmeasure=0.9523809523809523), 'rouge2': Score(precision=0.9, recall=1.0, fmeasure=0.9473684210526316), 'rougeL': Score(precision=0.9090909090909091, recall=1.0, fmeasure=0.9523809523809523)}\n"
          ]
        }
      ],
      "source": [
        "from rouge_score import rouge_scorer\n",
        "\n",
        "scorer = rouge_scorer.RougeScorer(['rouge1', 'rouge2', 'rougeL'], use_stemmer=True)\n",
        "\n",
        "for pred in predictions:\n",
        "    scores = scorer.score(reference[0], pred)\n",
        "    print(\"ROUGE Scores:\", scores)\n"
      ]
    },
    {
      "cell_type": "code",
      "execution_count": 26,
      "metadata": {},
      "outputs": [
        {
          "name": "stdout",
          "output_type": "stream",
          "text": [
            "METEOR Scores: [0.810254699143588, 0.7080965909090909, 0.9817739079102716]\n"
          ]
        },
        {
          "name": "stderr",
          "output_type": "stream",
          "text": [
            "[nltk_data] Downloading package wordnet to\n",
            "[nltk_data]     C:\\Users\\kvish\\AppData\\Roaming\\nltk_data...\n",
            "[nltk_data]   Package wordnet is already up-to-date!\n"
          ]
        }
      ],
      "source": [
        "import nltk\n",
        "nltk.download('wordnet')\n",
        "from nltk.corpus import wordnet\n",
        "from nltk.translate import meteor_score\n",
        "\n",
        "# Function to tokenize text\n",
        "def tokenize(text):\n",
        "    return spacy_tokenize(text)\n",
        "\n",
        "# Tokenize the reference and predictions\n",
        "reference_tokens = tokenize(reference[0].lower())\n",
        "prediction_tokens = [tokenize(pred.lower()) for pred in predictions]\n",
        "\n",
        "# Compute METEOR scores\n",
        "meteor_scores = [meteor_score.meteor_score([reference_tokens], pred_tokens) for pred_tokens in prediction_tokens]\n",
        "print(\"METEOR Scores:\", meteor_scores)\n"
      ]
    },
    {
      "cell_type": "code",
      "execution_count": 33,
      "metadata": {},
      "outputs": [
        {
          "name": "stdout",
          "output_type": "stream",
          "text": [
            "Word Match Scores: [0.8, 0.6, 1.0]\n",
            "Average Word Match Score: 0.7999999999999999\n",
            "Average Word Match Score (Percentage): 80.00%\n"
          ]
        }
      ],
      "source": [
        "def word_match_score(reference, predictions):\n",
        "    # Tokenize the reference and predictions\n",
        "    reference_words = set(reference.strip().lower().split())\n",
        "    scores = []\n",
        "    \n",
        "    for pred in predictions:\n",
        "        pred_words = set(pred.strip().lower().split())\n",
        "        # Calculate the number of matching words\n",
        "        matching_words = reference_words.intersection(pred_words)\n",
        "        match_score = len(matching_words) / len(reference_words)  # Proportion of matched words\n",
        "        scores.append(match_score)\n",
        "    \n",
        "    return scores\n",
        "\n",
        "# Compute word match scores\n",
        "word_match_scores = word_match_score(reference, predictions)\n",
        "print(\"Word Match Scores:\", word_match_scores)\n",
        "\n",
        "# Optionally, compute the average word match score\n",
        "average_word_match_score = np.mean(word_match_scores)\n",
        "print(\"Average Word Match Score:\", average_word_match_score)\n",
        "\n",
        "# Optionally, display the average score as a percentage\n",
        "average_word_match_score_percentage = average_word_match_score * 100\n",
        "print(\"Average Word Match Score (Percentage): {:.2f}%\".format(average_word_match_score_percentage))\n"
      ]
    },
    {
      "cell_type": "code",
      "execution_count": 29,
      "metadata": {},
      "outputs": [
        {
          "name": "stdout",
          "output_type": "stream",
          "text": [
            "F1 Score: 0.8088493631971893\n"
          ]
        }
      ],
      "source": [
        "# Compute F1 score\n",
        "def f1_score_calculation(reference, predictions):\n",
        "    reference_tokens = set(spacy_tokenize(reference.lower()))\n",
        "    f1_scores = []\n",
        "\n",
        "    for pred in predictions:\n",
        "        pred_tokens = set(spacy_tokenize(pred.lower()))\n",
        "        common_tokens = reference_tokens.intersection(pred_tokens)\n",
        "        if not common_tokens:\n",
        "            f1_scores.append(0.0)\n",
        "        else:\n",
        "            precision = len(common_tokens) / len(pred_tokens)\n",
        "            recall = len(common_tokens) / len(reference_tokens)\n",
        "            f1 = 2 * (precision * recall) / (precision + recall)\n",
        "            f1_scores.append(f1)\n",
        "    \n",
        "    return np.mean(f1_scores)\n",
        "\n",
        "f1 = f1_score_calculation(reference[0], predictions)\n",
        "print(\"F1 Score:\", f1)"
      ]
    }
  ],
  "metadata": {
    "accelerator": "GPU",
    "colab": {
      "collapsed_sections": [
        "1iHlq4hPZehE"
      ],
      "provenance": [],
      "toc_visible": true
    },
    "kernelspec": {
      "display_name": "Python 3",
      "name": "python3"
    },
    "language_info": {
      "codemirror_mode": {
        "name": "ipython",
        "version": 3
      },
      "file_extension": ".py",
      "mimetype": "text/x-python",
      "name": "python",
      "nbconvert_exporter": "python",
      "pygments_lexer": "ipython3",
      "version": "3.11.3"
    },
    "widgets": {
      "application/vnd.jupyter.widget-state+json": {
        "05577a3d9ad84b22af174cf91db9c16c": {
          "model_module": "@jupyter-widgets/base",
          "model_module_version": "1.2.0",
          "model_name": "LayoutModel",
          "state": {
            "_model_module": "@jupyter-widgets/base",
            "_model_module_version": "1.2.0",
            "_model_name": "LayoutModel",
            "_view_count": null,
            "_view_module": "@jupyter-widgets/base",
            "_view_module_version": "1.2.0",
            "_view_name": "LayoutView",
            "align_content": null,
            "align_items": null,
            "align_self": null,
            "border": null,
            "bottom": null,
            "display": null,
            "flex": "2",
            "flex_flow": null,
            "grid_area": null,
            "grid_auto_columns": null,
            "grid_auto_flow": null,
            "grid_auto_rows": null,
            "grid_column": null,
            "grid_gap": null,
            "grid_row": null,
            "grid_template_areas": null,
            "grid_template_columns": null,
            "grid_template_rows": null,
            "height": null,
            "justify_content": null,
            "justify_items": null,
            "left": null,
            "margin": null,
            "max_height": null,
            "max_width": null,
            "min_height": null,
            "min_width": null,
            "object_fit": null,
            "object_position": null,
            "order": null,
            "overflow": null,
            "overflow_x": null,
            "overflow_y": null,
            "padding": null,
            "right": null,
            "top": null,
            "visibility": null,
            "width": null
          }
        },
        "063de8949a624886a8d7d84fd18fcd92": {
          "model_module": "@jupyter-widgets/controls",
          "model_module_version": "1.5.0",
          "model_name": "DescriptionStyleModel",
          "state": {
            "_model_module": "@jupyter-widgets/controls",
            "_model_module_version": "1.5.0",
            "_model_name": "DescriptionStyleModel",
            "_view_count": null,
            "_view_module": "@jupyter-widgets/base",
            "_view_module_version": "1.2.0",
            "_view_name": "StyleView",
            "description_width": ""
          }
        },
        "0e3f74d24427485ba4aff38b910baae6": {
          "model_module": "@jupyter-widgets/base",
          "model_module_version": "1.2.0",
          "model_name": "LayoutModel",
          "state": {
            "_model_module": "@jupyter-widgets/base",
            "_model_module_version": "1.2.0",
            "_model_name": "LayoutModel",
            "_view_count": null,
            "_view_module": "@jupyter-widgets/base",
            "_view_module_version": "1.2.0",
            "_view_name": "LayoutView",
            "align_content": null,
            "align_items": null,
            "align_self": null,
            "border": null,
            "bottom": null,
            "display": null,
            "flex": null,
            "flex_flow": null,
            "grid_area": null,
            "grid_auto_columns": null,
            "grid_auto_flow": null,
            "grid_auto_rows": null,
            "grid_column": null,
            "grid_gap": null,
            "grid_row": null,
            "grid_template_areas": null,
            "grid_template_columns": null,
            "grid_template_rows": null,
            "height": null,
            "justify_content": null,
            "justify_items": null,
            "left": null,
            "margin": null,
            "max_height": null,
            "max_width": null,
            "min_height": null,
            "min_width": null,
            "object_fit": null,
            "object_position": null,
            "order": null,
            "overflow": null,
            "overflow_x": null,
            "overflow_y": null,
            "padding": null,
            "right": null,
            "top": null,
            "visibility": null,
            "width": null
          }
        },
        "10209dfe31844c799c7e5820e222afc3": {
          "model_module": "@jupyter-widgets/controls",
          "model_module_version": "1.5.0",
          "model_name": "HTMLModel",
          "state": {
            "_dom_classes": [],
            "_model_module": "@jupyter-widgets/controls",
            "_model_module_version": "1.5.0",
            "_model_name": "HTMLModel",
            "_view_count": null,
            "_view_module": "@jupyter-widgets/controls",
            "_view_module_version": "1.5.0",
            "_view_name": "HTMLView",
            "description": "",
            "description_tooltip": null,
            "layout": "IPY_MODEL_ffd4db9ab52c427cb9d244aac0151074",
            "placeholder": "​",
            "style": "IPY_MODEL_938cea79893e4705bad64d553cff72da",
            "value": " 7940/21834 [41:13&lt;1:12:08,  3.21it/s, v_num=0]"
          }
        },
        "107a64581016433a926c5725ff5ed1c9": {
          "model_module": "@jupyter-widgets/controls",
          "model_module_version": "1.5.0",
          "model_name": "ProgressStyleModel",
          "state": {
            "_model_module": "@jupyter-widgets/controls",
            "_model_module_version": "1.5.0",
            "_model_name": "ProgressStyleModel",
            "_view_count": null,
            "_view_module": "@jupyter-widgets/base",
            "_view_module_version": "1.2.0",
            "_view_name": "StyleView",
            "bar_color": null,
            "description_width": ""
          }
        },
        "17971daaf9e548f9a91ce4d6ec314c6e": {
          "model_module": "@jupyter-widgets/controls",
          "model_module_version": "1.5.0",
          "model_name": "HTMLModel",
          "state": {
            "_dom_classes": [],
            "_model_module": "@jupyter-widgets/controls",
            "_model_module_version": "1.5.0",
            "_model_name": "HTMLModel",
            "_view_count": null,
            "_view_module": "@jupyter-widgets/controls",
            "_view_module_version": "1.5.0",
            "_view_name": "HTMLView",
            "description": "",
            "description_tooltip": null,
            "layout": "IPY_MODEL_bda013169e604f5ead209bf4a6135ea5",
            "placeholder": "​",
            "style": "IPY_MODEL_c40a8f03d27143a1b7486006d444c6f2",
            "value": "100%"
          }
        },
        "1d2bd1c00c2d41b09e5b8182c20ae22d": {
          "model_module": "@jupyter-widgets/controls",
          "model_module_version": "1.5.0",
          "model_name": "ProgressStyleModel",
          "state": {
            "_model_module": "@jupyter-widgets/controls",
            "_model_module_version": "1.5.0",
            "_model_name": "ProgressStyleModel",
            "_view_count": null,
            "_view_module": "@jupyter-widgets/base",
            "_view_module_version": "1.2.0",
            "_view_name": "StyleView",
            "bar_color": null,
            "description_width": ""
          }
        },
        "1dddc1dcc4c44feba3919d99e0d50b1a": {
          "model_module": "@jupyter-widgets/base",
          "model_module_version": "1.2.0",
          "model_name": "LayoutModel",
          "state": {
            "_model_module": "@jupyter-widgets/base",
            "_model_module_version": "1.2.0",
            "_model_name": "LayoutModel",
            "_view_count": null,
            "_view_module": "@jupyter-widgets/base",
            "_view_module_version": "1.2.0",
            "_view_name": "LayoutView",
            "align_content": null,
            "align_items": null,
            "align_self": null,
            "border": null,
            "bottom": null,
            "display": null,
            "flex": null,
            "flex_flow": null,
            "grid_area": null,
            "grid_auto_columns": null,
            "grid_auto_flow": null,
            "grid_auto_rows": null,
            "grid_column": null,
            "grid_gap": null,
            "grid_row": null,
            "grid_template_areas": null,
            "grid_template_columns": null,
            "grid_template_rows": null,
            "height": null,
            "justify_content": null,
            "justify_items": null,
            "left": null,
            "margin": null,
            "max_height": null,
            "max_width": null,
            "min_height": null,
            "min_width": null,
            "object_fit": null,
            "object_position": null,
            "order": null,
            "overflow": null,
            "overflow_x": null,
            "overflow_y": null,
            "padding": null,
            "right": null,
            "top": null,
            "visibility": null,
            "width": null
          }
        },
        "2038e94967c94747a7784d3abfb87414": {
          "model_module": "@jupyter-widgets/controls",
          "model_module_version": "1.5.0",
          "model_name": "HTMLModel",
          "state": {
            "_dom_classes": [],
            "_model_module": "@jupyter-widgets/controls",
            "_model_module_version": "1.5.0",
            "_model_name": "HTMLModel",
            "_view_count": null,
            "_view_module": "@jupyter-widgets/controls",
            "_view_module_version": "1.5.0",
            "_view_name": "HTMLView",
            "description": "",
            "description_tooltip": null,
            "layout": "IPY_MODEL_98f955ad76e84e9f8cf39a990774e2d7",
            "placeholder": "​",
            "style": "IPY_MODEL_d4fea8ad18c94ee791b3e6ecc694d363",
            "value": "100%"
          }
        },
        "21ec4c9d51db49bba2a3ba4501d84e8d": {
          "model_module": "@jupyter-widgets/base",
          "model_module_version": "1.2.0",
          "model_name": "LayoutModel",
          "state": {
            "_model_module": "@jupyter-widgets/base",
            "_model_module_version": "1.2.0",
            "_model_name": "LayoutModel",
            "_view_count": null,
            "_view_module": "@jupyter-widgets/base",
            "_view_module_version": "1.2.0",
            "_view_name": "LayoutView",
            "align_content": null,
            "align_items": null,
            "align_self": null,
            "border": null,
            "bottom": null,
            "display": null,
            "flex": "2",
            "flex_flow": null,
            "grid_area": null,
            "grid_auto_columns": null,
            "grid_auto_flow": null,
            "grid_auto_rows": null,
            "grid_column": null,
            "grid_gap": null,
            "grid_row": null,
            "grid_template_areas": null,
            "grid_template_columns": null,
            "grid_template_rows": null,
            "height": null,
            "justify_content": null,
            "justify_items": null,
            "left": null,
            "margin": null,
            "max_height": null,
            "max_width": null,
            "min_height": null,
            "min_width": null,
            "object_fit": null,
            "object_position": null,
            "order": null,
            "overflow": null,
            "overflow_x": null,
            "overflow_y": null,
            "padding": null,
            "right": null,
            "top": null,
            "visibility": null,
            "width": null
          }
        },
        "252f1901f7ff4656b570d2be9d766e31": {
          "model_module": "@jupyter-widgets/controls",
          "model_module_version": "1.5.0",
          "model_name": "DescriptionStyleModel",
          "state": {
            "_model_module": "@jupyter-widgets/controls",
            "_model_module_version": "1.5.0",
            "_model_name": "DescriptionStyleModel",
            "_view_count": null,
            "_view_module": "@jupyter-widgets/base",
            "_view_module_version": "1.2.0",
            "_view_name": "StyleView",
            "description_width": ""
          }
        },
        "26a4d4807b224693a004d321e43041d4": {
          "model_module": "@jupyter-widgets/base",
          "model_module_version": "1.2.0",
          "model_name": "LayoutModel",
          "state": {
            "_model_module": "@jupyter-widgets/base",
            "_model_module_version": "1.2.0",
            "_model_name": "LayoutModel",
            "_view_count": null,
            "_view_module": "@jupyter-widgets/base",
            "_view_module_version": "1.2.0",
            "_view_name": "LayoutView",
            "align_content": null,
            "align_items": null,
            "align_self": null,
            "border": null,
            "bottom": null,
            "display": "inline-flex",
            "flex": null,
            "flex_flow": "row wrap",
            "grid_area": null,
            "grid_auto_columns": null,
            "grid_auto_flow": null,
            "grid_auto_rows": null,
            "grid_column": null,
            "grid_gap": null,
            "grid_row": null,
            "grid_template_areas": null,
            "grid_template_columns": null,
            "grid_template_rows": null,
            "height": null,
            "justify_content": null,
            "justify_items": null,
            "left": null,
            "margin": null,
            "max_height": null,
            "max_width": null,
            "min_height": null,
            "min_width": null,
            "object_fit": null,
            "object_position": null,
            "order": null,
            "overflow": null,
            "overflow_x": null,
            "overflow_y": null,
            "padding": null,
            "right": null,
            "top": null,
            "visibility": null,
            "width": "100%"
          }
        },
        "28066b42515e43b0b3ff2ef41c6a476e": {
          "model_module": "@jupyter-widgets/controls",
          "model_module_version": "1.5.0",
          "model_name": "DescriptionStyleModel",
          "state": {
            "_model_module": "@jupyter-widgets/controls",
            "_model_module_version": "1.5.0",
            "_model_name": "DescriptionStyleModel",
            "_view_count": null,
            "_view_module": "@jupyter-widgets/base",
            "_view_module_version": "1.2.0",
            "_view_name": "StyleView",
            "description_width": ""
          }
        },
        "38efda3fae8149819ea59e7c98ebc23a": {
          "model_module": "@jupyter-widgets/controls",
          "model_module_version": "1.5.0",
          "model_name": "HBoxModel",
          "state": {
            "_dom_classes": [],
            "_model_module": "@jupyter-widgets/controls",
            "_model_module_version": "1.5.0",
            "_model_name": "HBoxModel",
            "_view_count": null,
            "_view_module": "@jupyter-widgets/controls",
            "_view_module_version": "1.5.0",
            "_view_name": "HBoxView",
            "box_style": "",
            "children": [
              "IPY_MODEL_17971daaf9e548f9a91ce4d6ec314c6e",
              "IPY_MODEL_6174c565bc234fa491211bf9870492b2",
              "IPY_MODEL_55600c34c5ed4c0ab60dac8e13d11be0"
            ],
            "layout": "IPY_MODEL_fa24115f1ec94b328bc55e149829f276"
          }
        },
        "39e20040e94a4d3d88067b5264218e07": {
          "model_module": "@jupyter-widgets/controls",
          "model_module_version": "1.5.0",
          "model_name": "FloatProgressModel",
          "state": {
            "_dom_classes": [],
            "_model_module": "@jupyter-widgets/controls",
            "_model_module_version": "1.5.0",
            "_model_name": "FloatProgressModel",
            "_view_count": null,
            "_view_module": "@jupyter-widgets/controls",
            "_view_module_version": "1.5.0",
            "_view_name": "ProgressView",
            "bar_style": "",
            "description": "",
            "description_tooltip": null,
            "layout": "IPY_MODEL_05577a3d9ad84b22af174cf91db9c16c",
            "max": 21834,
            "min": 0,
            "orientation": "horizontal",
            "style": "IPY_MODEL_f2870fd1185b443d9d6f8014467a8f67",
            "value": 7940
          }
        },
        "3e85573c3555433da78dd247671870f6": {
          "model_module": "@jupyter-widgets/controls",
          "model_module_version": "1.5.0",
          "model_name": "DescriptionStyleModel",
          "state": {
            "_model_module": "@jupyter-widgets/controls",
            "_model_module_version": "1.5.0",
            "_model_name": "DescriptionStyleModel",
            "_view_count": null,
            "_view_module": "@jupyter-widgets/base",
            "_view_module_version": "1.2.0",
            "_view_name": "StyleView",
            "description_width": ""
          }
        },
        "3ee6b9b3c62146d4b53c259de71467fe": {
          "model_module": "@jupyter-widgets/base",
          "model_module_version": "1.2.0",
          "model_name": "LayoutModel",
          "state": {
            "_model_module": "@jupyter-widgets/base",
            "_model_module_version": "1.2.0",
            "_model_name": "LayoutModel",
            "_view_count": null,
            "_view_module": "@jupyter-widgets/base",
            "_view_module_version": "1.2.0",
            "_view_name": "LayoutView",
            "align_content": null,
            "align_items": null,
            "align_self": null,
            "border": null,
            "bottom": null,
            "display": null,
            "flex": null,
            "flex_flow": null,
            "grid_area": null,
            "grid_auto_columns": null,
            "grid_auto_flow": null,
            "grid_auto_rows": null,
            "grid_column": null,
            "grid_gap": null,
            "grid_row": null,
            "grid_template_areas": null,
            "grid_template_columns": null,
            "grid_template_rows": null,
            "height": null,
            "justify_content": null,
            "justify_items": null,
            "left": null,
            "margin": null,
            "max_height": null,
            "max_width": null,
            "min_height": null,
            "min_width": null,
            "object_fit": null,
            "object_position": null,
            "order": null,
            "overflow": null,
            "overflow_x": null,
            "overflow_y": null,
            "padding": null,
            "right": null,
            "top": null,
            "visibility": null,
            "width": null
          }
        },
        "4599e1ffa2ee428d80f680a7be36aab2": {
          "model_module": "@jupyter-widgets/controls",
          "model_module_version": "1.5.0",
          "model_name": "DescriptionStyleModel",
          "state": {
            "_model_module": "@jupyter-widgets/controls",
            "_model_module_version": "1.5.0",
            "_model_name": "DescriptionStyleModel",
            "_view_count": null,
            "_view_module": "@jupyter-widgets/base",
            "_view_module_version": "1.2.0",
            "_view_name": "StyleView",
            "description_width": ""
          }
        },
        "4632d44abfdb4bc789892a946c737872": {
          "model_module": "@jupyter-widgets/controls",
          "model_module_version": "1.5.0",
          "model_name": "ProgressStyleModel",
          "state": {
            "_model_module": "@jupyter-widgets/controls",
            "_model_module_version": "1.5.0",
            "_model_name": "ProgressStyleModel",
            "_view_count": null,
            "_view_module": "@jupyter-widgets/base",
            "_view_module_version": "1.2.0",
            "_view_name": "StyleView",
            "bar_color": null,
            "description_width": ""
          }
        },
        "4aadc02448764e33b3f53e5d0b1bc2a4": {
          "model_module": "@jupyter-widgets/controls",
          "model_module_version": "1.5.0",
          "model_name": "HTMLModel",
          "state": {
            "_dom_classes": [],
            "_model_module": "@jupyter-widgets/controls",
            "_model_module_version": "1.5.0",
            "_model_name": "HTMLModel",
            "_view_count": null,
            "_view_module": "@jupyter-widgets/controls",
            "_view_module_version": "1.5.0",
            "_view_name": "HTMLView",
            "description": "",
            "description_tooltip": null,
            "layout": "IPY_MODEL_d2a6bbea07b946ffaf95f859cd3a9f69",
            "placeholder": "​",
            "style": "IPY_MODEL_aeea393f45484ab68c42135e2f7c690b",
            "value": "100%"
          }
        },
        "4e4737eb008d4a19a7ee16a686ee69a3": {
          "model_module": "@jupyter-widgets/controls",
          "model_module_version": "1.5.0",
          "model_name": "HTMLModel",
          "state": {
            "_dom_classes": [],
            "_model_module": "@jupyter-widgets/controls",
            "_model_module_version": "1.5.0",
            "_model_name": "HTMLModel",
            "_view_count": null,
            "_view_module": "@jupyter-widgets/controls",
            "_view_module_version": "1.5.0",
            "_view_name": "HTMLView",
            "description": "",
            "description_tooltip": null,
            "layout": "IPY_MODEL_0e3f74d24427485ba4aff38b910baae6",
            "placeholder": "​",
            "style": "IPY_MODEL_3e85573c3555433da78dd247671870f6",
            "value": "Epoch 0:  36%"
          }
        },
        "532539b9440c497d968410ea1c83cfdd": {
          "model_module": "@jupyter-widgets/controls",
          "model_module_version": "1.5.0",
          "model_name": "HTMLModel",
          "state": {
            "_dom_classes": [],
            "_model_module": "@jupyter-widgets/controls",
            "_model_module_version": "1.5.0",
            "_model_name": "HTMLModel",
            "_view_count": null,
            "_view_module": "@jupyter-widgets/controls",
            "_view_module_version": "1.5.0",
            "_view_name": "HTMLView",
            "description": "",
            "description_tooltip": null,
            "layout": "IPY_MODEL_690948166b38485d948205df9d4268bc",
            "placeholder": "​",
            "style": "IPY_MODEL_063de8949a624886a8d7d84fd18fcd92",
            "value": " 87599/87599 [04:48&lt;00:00, 326.16it/s]"
          }
        },
        "55600c34c5ed4c0ab60dac8e13d11be0": {
          "model_module": "@jupyter-widgets/controls",
          "model_module_version": "1.5.0",
          "model_name": "HTMLModel",
          "state": {
            "_dom_classes": [],
            "_model_module": "@jupyter-widgets/controls",
            "_model_module_version": "1.5.0",
            "_model_name": "HTMLModel",
            "_view_count": null,
            "_view_module": "@jupyter-widgets/controls",
            "_view_module_version": "1.5.0",
            "_view_name": "HTMLView",
            "description": "",
            "description_tooltip": null,
            "layout": "IPY_MODEL_5cc713562d3a40d4b1ab19d1d1058d2b",
            "placeholder": "​",
            "style": "IPY_MODEL_7785684e1c8b4a9596dddf9037ec9e87",
            "value": " 10570/10570 [00:36&lt;00:00, 306.87it/s]"
          }
        },
        "559a9e8030ed41e5ad94b1a63eb81e07": {
          "model_module": "@jupyter-widgets/controls",
          "model_module_version": "1.5.0",
          "model_name": "HTMLModel",
          "state": {
            "_dom_classes": [],
            "_model_module": "@jupyter-widgets/controls",
            "_model_module_version": "1.5.0",
            "_model_name": "HTMLModel",
            "_view_count": null,
            "_view_module": "@jupyter-widgets/controls",
            "_view_module_version": "1.5.0",
            "_view_name": "HTMLView",
            "description": "",
            "description_tooltip": null,
            "layout": "IPY_MODEL_a0d4191cc3234be988dee3b49a83abf6",
            "placeholder": "​",
            "style": "IPY_MODEL_c703c65f5ee54709af32661f909737a3",
            "value": " 2/2 [00:05&lt;00:00,  0.37it/s]"
          }
        },
        "568a6c63514947ec8f38eaa5ea496a68": {
          "model_module": "@jupyter-widgets/controls",
          "model_module_version": "1.5.0",
          "model_name": "HBoxModel",
          "state": {
            "_dom_classes": [],
            "_model_module": "@jupyter-widgets/controls",
            "_model_module_version": "1.5.0",
            "_model_name": "HBoxModel",
            "_view_count": null,
            "_view_module": "@jupyter-widgets/controls",
            "_view_module_version": "1.5.0",
            "_view_name": "HBoxView",
            "box_style": "",
            "children": [
              "IPY_MODEL_79463ebdd12f49b99639586422fe18cf",
              "IPY_MODEL_fdcc39b22c4243cfbe45bbaec83ab858",
              "IPY_MODEL_693ee494566941a4a605dd223f305ec9"
            ],
            "layout": "IPY_MODEL_fc4007904a28408e8aea44735171dce8"
          }
        },
        "5cc713562d3a40d4b1ab19d1d1058d2b": {
          "model_module": "@jupyter-widgets/base",
          "model_module_version": "1.2.0",
          "model_name": "LayoutModel",
          "state": {
            "_model_module": "@jupyter-widgets/base",
            "_model_module_version": "1.2.0",
            "_model_name": "LayoutModel",
            "_view_count": null,
            "_view_module": "@jupyter-widgets/base",
            "_view_module_version": "1.2.0",
            "_view_name": "LayoutView",
            "align_content": null,
            "align_items": null,
            "align_self": null,
            "border": null,
            "bottom": null,
            "display": null,
            "flex": null,
            "flex_flow": null,
            "grid_area": null,
            "grid_auto_columns": null,
            "grid_auto_flow": null,
            "grid_auto_rows": null,
            "grid_column": null,
            "grid_gap": null,
            "grid_row": null,
            "grid_template_areas": null,
            "grid_template_columns": null,
            "grid_template_rows": null,
            "height": null,
            "justify_content": null,
            "justify_items": null,
            "left": null,
            "margin": null,
            "max_height": null,
            "max_width": null,
            "min_height": null,
            "min_width": null,
            "object_fit": null,
            "object_position": null,
            "order": null,
            "overflow": null,
            "overflow_x": null,
            "overflow_y": null,
            "padding": null,
            "right": null,
            "top": null,
            "visibility": null,
            "width": null
          }
        },
        "6174c565bc234fa491211bf9870492b2": {
          "model_module": "@jupyter-widgets/controls",
          "model_module_version": "1.5.0",
          "model_name": "FloatProgressModel",
          "state": {
            "_dom_classes": [],
            "_model_module": "@jupyter-widgets/controls",
            "_model_module_version": "1.5.0",
            "_model_name": "FloatProgressModel",
            "_view_count": null,
            "_view_module": "@jupyter-widgets/controls",
            "_view_module_version": "1.5.0",
            "_view_name": "ProgressView",
            "bar_style": "success",
            "description": "",
            "description_tooltip": null,
            "layout": "IPY_MODEL_b368ba1f248d4c00b00fee414ae72098",
            "max": 10570,
            "min": 0,
            "orientation": "horizontal",
            "style": "IPY_MODEL_4632d44abfdb4bc789892a946c737872",
            "value": 10570
          }
        },
        "690948166b38485d948205df9d4268bc": {
          "model_module": "@jupyter-widgets/base",
          "model_module_version": "1.2.0",
          "model_name": "LayoutModel",
          "state": {
            "_model_module": "@jupyter-widgets/base",
            "_model_module_version": "1.2.0",
            "_model_name": "LayoutModel",
            "_view_count": null,
            "_view_module": "@jupyter-widgets/base",
            "_view_module_version": "1.2.0",
            "_view_name": "LayoutView",
            "align_content": null,
            "align_items": null,
            "align_self": null,
            "border": null,
            "bottom": null,
            "display": null,
            "flex": null,
            "flex_flow": null,
            "grid_area": null,
            "grid_auto_columns": null,
            "grid_auto_flow": null,
            "grid_auto_rows": null,
            "grid_column": null,
            "grid_gap": null,
            "grid_row": null,
            "grid_template_areas": null,
            "grid_template_columns": null,
            "grid_template_rows": null,
            "height": null,
            "justify_content": null,
            "justify_items": null,
            "left": null,
            "margin": null,
            "max_height": null,
            "max_width": null,
            "min_height": null,
            "min_width": null,
            "object_fit": null,
            "object_position": null,
            "order": null,
            "overflow": null,
            "overflow_x": null,
            "overflow_y": null,
            "padding": null,
            "right": null,
            "top": null,
            "visibility": null,
            "width": null
          }
        },
        "693ee494566941a4a605dd223f305ec9": {
          "model_module": "@jupyter-widgets/controls",
          "model_module_version": "1.5.0",
          "model_name": "HTMLModel",
          "state": {
            "_dom_classes": [],
            "_model_module": "@jupyter-widgets/controls",
            "_model_module_version": "1.5.0",
            "_model_name": "HTMLModel",
            "_view_count": null,
            "_view_module": "@jupyter-widgets/controls",
            "_view_module_version": "1.5.0",
            "_view_name": "HTMLView",
            "description": "",
            "description_tooltip": null,
            "layout": "IPY_MODEL_afed662008144b1c9dd6c866261b8e7c",
            "placeholder": "​",
            "style": "IPY_MODEL_b5666513c6fa4213a6ecfafa5e0d44a7",
            "value": " 10570/10570 [00:14&lt;00:00, 659.84it/s]"
          }
        },
        "6a19d592e1af468d8188e4c53d122c79": {
          "model_module": "@jupyter-widgets/base",
          "model_module_version": "1.2.0",
          "model_name": "LayoutModel",
          "state": {
            "_model_module": "@jupyter-widgets/base",
            "_model_module_version": "1.2.0",
            "_model_name": "LayoutModel",
            "_view_count": null,
            "_view_module": "@jupyter-widgets/base",
            "_view_module_version": "1.2.0",
            "_view_name": "LayoutView",
            "align_content": null,
            "align_items": null,
            "align_self": null,
            "border": null,
            "bottom": null,
            "display": null,
            "flex": null,
            "flex_flow": null,
            "grid_area": null,
            "grid_auto_columns": null,
            "grid_auto_flow": null,
            "grid_auto_rows": null,
            "grid_column": null,
            "grid_gap": null,
            "grid_row": null,
            "grid_template_areas": null,
            "grid_template_columns": null,
            "grid_template_rows": null,
            "height": null,
            "justify_content": null,
            "justify_items": null,
            "left": null,
            "margin": null,
            "max_height": null,
            "max_width": null,
            "min_height": null,
            "min_width": null,
            "object_fit": null,
            "object_position": null,
            "order": null,
            "overflow": null,
            "overflow_x": null,
            "overflow_y": null,
            "padding": null,
            "right": null,
            "top": null,
            "visibility": null,
            "width": null
          }
        },
        "6b661aa9bdd34a40a162f8e0f251ad33": {
          "model_module": "@jupyter-widgets/controls",
          "model_module_version": "1.5.0",
          "model_name": "HBoxModel",
          "state": {
            "_dom_classes": [],
            "_model_module": "@jupyter-widgets/controls",
            "_model_module_version": "1.5.0",
            "_model_name": "HBoxModel",
            "_view_count": null,
            "_view_module": "@jupyter-widgets/controls",
            "_view_module_version": "1.5.0",
            "_view_name": "HBoxView",
            "box_style": "",
            "children": [
              "IPY_MODEL_4e4737eb008d4a19a7ee16a686ee69a3",
              "IPY_MODEL_39e20040e94a4d3d88067b5264218e07",
              "IPY_MODEL_10209dfe31844c799c7e5820e222afc3"
            ],
            "layout": "IPY_MODEL_8aa965b9385141d285869669ca249f3d"
          }
        },
        "6f4f3d135fad46869772bab5f62071fb": {
          "model_module": "@jupyter-widgets/base",
          "model_module_version": "1.2.0",
          "model_name": "LayoutModel",
          "state": {
            "_model_module": "@jupyter-widgets/base",
            "_model_module_version": "1.2.0",
            "_model_name": "LayoutModel",
            "_view_count": null,
            "_view_module": "@jupyter-widgets/base",
            "_view_module_version": "1.2.0",
            "_view_name": "LayoutView",
            "align_content": null,
            "align_items": null,
            "align_self": null,
            "border": null,
            "bottom": null,
            "display": null,
            "flex": null,
            "flex_flow": null,
            "grid_area": null,
            "grid_auto_columns": null,
            "grid_auto_flow": null,
            "grid_auto_rows": null,
            "grid_column": null,
            "grid_gap": null,
            "grid_row": null,
            "grid_template_areas": null,
            "grid_template_columns": null,
            "grid_template_rows": null,
            "height": null,
            "justify_content": null,
            "justify_items": null,
            "left": null,
            "margin": null,
            "max_height": null,
            "max_width": null,
            "min_height": null,
            "min_width": null,
            "object_fit": null,
            "object_position": null,
            "order": null,
            "overflow": null,
            "overflow_x": null,
            "overflow_y": null,
            "padding": null,
            "right": null,
            "top": null,
            "visibility": null,
            "width": null
          }
        },
        "6fd03556f08c429d95e8220c392823bc": {
          "model_module": "@jupyter-widgets/controls",
          "model_module_version": "1.5.0",
          "model_name": "HTMLModel",
          "state": {
            "_dom_classes": [],
            "_model_module": "@jupyter-widgets/controls",
            "_model_module_version": "1.5.0",
            "_model_name": "HTMLModel",
            "_view_count": null,
            "_view_module": "@jupyter-widgets/controls",
            "_view_module_version": "1.5.0",
            "_view_name": "HTMLView",
            "description": "",
            "description_tooltip": null,
            "layout": "IPY_MODEL_edcbc4eacd9f495eb53e5ded2a7bcea3",
            "placeholder": "​",
            "style": "IPY_MODEL_28066b42515e43b0b3ff2ef41c6a476e",
            "value": "Sanity Checking DataLoader 0: 100%"
          }
        },
        "7785684e1c8b4a9596dddf9037ec9e87": {
          "model_module": "@jupyter-widgets/controls",
          "model_module_version": "1.5.0",
          "model_name": "DescriptionStyleModel",
          "state": {
            "_model_module": "@jupyter-widgets/controls",
            "_model_module_version": "1.5.0",
            "_model_name": "DescriptionStyleModel",
            "_view_count": null,
            "_view_module": "@jupyter-widgets/base",
            "_view_module_version": "1.2.0",
            "_view_name": "StyleView",
            "description_width": ""
          }
        },
        "79463ebdd12f49b99639586422fe18cf": {
          "model_module": "@jupyter-widgets/controls",
          "model_module_version": "1.5.0",
          "model_name": "HTMLModel",
          "state": {
            "_dom_classes": [],
            "_model_module": "@jupyter-widgets/controls",
            "_model_module_version": "1.5.0",
            "_model_name": "HTMLModel",
            "_view_count": null,
            "_view_module": "@jupyter-widgets/controls",
            "_view_module_version": "1.5.0",
            "_view_name": "HTMLView",
            "description": "",
            "description_tooltip": null,
            "layout": "IPY_MODEL_fdb41f39a3f04e6f92dcfa87081268c9",
            "placeholder": "​",
            "style": "IPY_MODEL_4599e1ffa2ee428d80f680a7be36aab2",
            "value": "100%"
          }
        },
        "80b0867f4ce44bf9b44d73e8e85ed250": {
          "model_module": "@jupyter-widgets/base",
          "model_module_version": "1.2.0",
          "model_name": "LayoutModel",
          "state": {
            "_model_module": "@jupyter-widgets/base",
            "_model_module_version": "1.2.0",
            "_model_name": "LayoutModel",
            "_view_count": null,
            "_view_module": "@jupyter-widgets/base",
            "_view_module_version": "1.2.0",
            "_view_name": "LayoutView",
            "align_content": null,
            "align_items": null,
            "align_self": null,
            "border": null,
            "bottom": null,
            "display": null,
            "flex": null,
            "flex_flow": null,
            "grid_area": null,
            "grid_auto_columns": null,
            "grid_auto_flow": null,
            "grid_auto_rows": null,
            "grid_column": null,
            "grid_gap": null,
            "grid_row": null,
            "grid_template_areas": null,
            "grid_template_columns": null,
            "grid_template_rows": null,
            "height": null,
            "justify_content": null,
            "justify_items": null,
            "left": null,
            "margin": null,
            "max_height": null,
            "max_width": null,
            "min_height": null,
            "min_width": null,
            "object_fit": null,
            "object_position": null,
            "order": null,
            "overflow": null,
            "overflow_x": null,
            "overflow_y": null,
            "padding": null,
            "right": null,
            "top": null,
            "visibility": null,
            "width": null
          }
        },
        "8aa965b9385141d285869669ca249f3d": {
          "model_module": "@jupyter-widgets/base",
          "model_module_version": "1.2.0",
          "model_name": "LayoutModel",
          "state": {
            "_model_module": "@jupyter-widgets/base",
            "_model_module_version": "1.2.0",
            "_model_name": "LayoutModel",
            "_view_count": null,
            "_view_module": "@jupyter-widgets/base",
            "_view_module_version": "1.2.0",
            "_view_name": "LayoutView",
            "align_content": null,
            "align_items": null,
            "align_self": null,
            "border": null,
            "bottom": null,
            "display": "inline-flex",
            "flex": null,
            "flex_flow": "row wrap",
            "grid_area": null,
            "grid_auto_columns": null,
            "grid_auto_flow": null,
            "grid_auto_rows": null,
            "grid_column": null,
            "grid_gap": null,
            "grid_row": null,
            "grid_template_areas": null,
            "grid_template_columns": null,
            "grid_template_rows": null,
            "height": null,
            "justify_content": null,
            "justify_items": null,
            "left": null,
            "margin": null,
            "max_height": null,
            "max_width": null,
            "min_height": null,
            "min_width": null,
            "object_fit": null,
            "object_position": null,
            "order": null,
            "overflow": null,
            "overflow_x": null,
            "overflow_y": null,
            "padding": null,
            "right": null,
            "top": null,
            "visibility": null,
            "width": "100%"
          }
        },
        "938cea79893e4705bad64d553cff72da": {
          "model_module": "@jupyter-widgets/controls",
          "model_module_version": "1.5.0",
          "model_name": "DescriptionStyleModel",
          "state": {
            "_model_module": "@jupyter-widgets/controls",
            "_model_module_version": "1.5.0",
            "_model_name": "DescriptionStyleModel",
            "_view_count": null,
            "_view_module": "@jupyter-widgets/base",
            "_view_module_version": "1.2.0",
            "_view_name": "StyleView",
            "description_width": ""
          }
        },
        "9447332639f546d1b207fb842c95f899": {
          "model_module": "@jupyter-widgets/controls",
          "model_module_version": "1.5.0",
          "model_name": "HBoxModel",
          "state": {
            "_dom_classes": [],
            "_model_module": "@jupyter-widgets/controls",
            "_model_module_version": "1.5.0",
            "_model_name": "HBoxModel",
            "_view_count": null,
            "_view_module": "@jupyter-widgets/controls",
            "_view_module_version": "1.5.0",
            "_view_name": "HBoxView",
            "box_style": "",
            "children": [
              "IPY_MODEL_6fd03556f08c429d95e8220c392823bc",
              "IPY_MODEL_adf402971d6a4ac5bcd52def9e7f75ef",
              "IPY_MODEL_559a9e8030ed41e5ad94b1a63eb81e07"
            ],
            "layout": "IPY_MODEL_26a4d4807b224693a004d321e43041d4"
          }
        },
        "98f955ad76e84e9f8cf39a990774e2d7": {
          "model_module": "@jupyter-widgets/base",
          "model_module_version": "1.2.0",
          "model_name": "LayoutModel",
          "state": {
            "_model_module": "@jupyter-widgets/base",
            "_model_module_version": "1.2.0",
            "_model_name": "LayoutModel",
            "_view_count": null,
            "_view_module": "@jupyter-widgets/base",
            "_view_module_version": "1.2.0",
            "_view_name": "LayoutView",
            "align_content": null,
            "align_items": null,
            "align_self": null,
            "border": null,
            "bottom": null,
            "display": null,
            "flex": null,
            "flex_flow": null,
            "grid_area": null,
            "grid_auto_columns": null,
            "grid_auto_flow": null,
            "grid_auto_rows": null,
            "grid_column": null,
            "grid_gap": null,
            "grid_row": null,
            "grid_template_areas": null,
            "grid_template_columns": null,
            "grid_template_rows": null,
            "height": null,
            "justify_content": null,
            "justify_items": null,
            "left": null,
            "margin": null,
            "max_height": null,
            "max_width": null,
            "min_height": null,
            "min_width": null,
            "object_fit": null,
            "object_position": null,
            "order": null,
            "overflow": null,
            "overflow_x": null,
            "overflow_y": null,
            "padding": null,
            "right": null,
            "top": null,
            "visibility": null,
            "width": null
          }
        },
        "a04ea11ca400445eb35c9451bb857898": {
          "model_module": "@jupyter-widgets/controls",
          "model_module_version": "1.5.0",
          "model_name": "HBoxModel",
          "state": {
            "_dom_classes": [],
            "_model_module": "@jupyter-widgets/controls",
            "_model_module_version": "1.5.0",
            "_model_name": "HBoxModel",
            "_view_count": null,
            "_view_module": "@jupyter-widgets/controls",
            "_view_module_version": "1.5.0",
            "_view_name": "HBoxView",
            "box_style": "",
            "children": [
              "IPY_MODEL_2038e94967c94747a7784d3abfb87414",
              "IPY_MODEL_ab1232d1b416432dbb103deb1c927d1b",
              "IPY_MODEL_532539b9440c497d968410ea1c83cfdd"
            ],
            "layout": "IPY_MODEL_3ee6b9b3c62146d4b53c259de71467fe"
          }
        },
        "a0d4191cc3234be988dee3b49a83abf6": {
          "model_module": "@jupyter-widgets/base",
          "model_module_version": "1.2.0",
          "model_name": "LayoutModel",
          "state": {
            "_model_module": "@jupyter-widgets/base",
            "_model_module_version": "1.2.0",
            "_model_name": "LayoutModel",
            "_view_count": null,
            "_view_module": "@jupyter-widgets/base",
            "_view_module_version": "1.2.0",
            "_view_name": "LayoutView",
            "align_content": null,
            "align_items": null,
            "align_self": null,
            "border": null,
            "bottom": null,
            "display": null,
            "flex": null,
            "flex_flow": null,
            "grid_area": null,
            "grid_auto_columns": null,
            "grid_auto_flow": null,
            "grid_auto_rows": null,
            "grid_column": null,
            "grid_gap": null,
            "grid_row": null,
            "grid_template_areas": null,
            "grid_template_columns": null,
            "grid_template_rows": null,
            "height": null,
            "justify_content": null,
            "justify_items": null,
            "left": null,
            "margin": null,
            "max_height": null,
            "max_width": null,
            "min_height": null,
            "min_width": null,
            "object_fit": null,
            "object_position": null,
            "order": null,
            "overflow": null,
            "overflow_x": null,
            "overflow_y": null,
            "padding": null,
            "right": null,
            "top": null,
            "visibility": null,
            "width": null
          }
        },
        "a8bcd55c80a2474a8890a5d4897dcdb3": {
          "model_module": "@jupyter-widgets/controls",
          "model_module_version": "1.5.0",
          "model_name": "HTMLModel",
          "state": {
            "_dom_classes": [],
            "_model_module": "@jupyter-widgets/controls",
            "_model_module_version": "1.5.0",
            "_model_name": "HTMLModel",
            "_view_count": null,
            "_view_module": "@jupyter-widgets/controls",
            "_view_module_version": "1.5.0",
            "_view_name": "HTMLView",
            "description": "",
            "description_tooltip": null,
            "layout": "IPY_MODEL_6f4f3d135fad46869772bab5f62071fb",
            "placeholder": "​",
            "style": "IPY_MODEL_252f1901f7ff4656b570d2be9d766e31",
            "value": " 87599/87599 [05:11&lt;00:00, 157.46it/s]"
          }
        },
        "ab1232d1b416432dbb103deb1c927d1b": {
          "model_module": "@jupyter-widgets/controls",
          "model_module_version": "1.5.0",
          "model_name": "FloatProgressModel",
          "state": {
            "_dom_classes": [],
            "_model_module": "@jupyter-widgets/controls",
            "_model_module_version": "1.5.0",
            "_model_name": "FloatProgressModel",
            "_view_count": null,
            "_view_module": "@jupyter-widgets/controls",
            "_view_module_version": "1.5.0",
            "_view_name": "ProgressView",
            "bar_style": "success",
            "description": "",
            "description_tooltip": null,
            "layout": "IPY_MODEL_6a19d592e1af468d8188e4c53d122c79",
            "max": 87599,
            "min": 0,
            "orientation": "horizontal",
            "style": "IPY_MODEL_107a64581016433a926c5725ff5ed1c9",
            "value": 87599
          }
        },
        "adeae6cd841c421ea3e2e7cc5fa83be4": {
          "model_module": "@jupyter-widgets/controls",
          "model_module_version": "1.5.0",
          "model_name": "ProgressStyleModel",
          "state": {
            "_model_module": "@jupyter-widgets/controls",
            "_model_module_version": "1.5.0",
            "_model_name": "ProgressStyleModel",
            "_view_count": null,
            "_view_module": "@jupyter-widgets/base",
            "_view_module_version": "1.2.0",
            "_view_name": "StyleView",
            "bar_color": null,
            "description_width": ""
          }
        },
        "adf402971d6a4ac5bcd52def9e7f75ef": {
          "model_module": "@jupyter-widgets/controls",
          "model_module_version": "1.5.0",
          "model_name": "FloatProgressModel",
          "state": {
            "_dom_classes": [],
            "_model_module": "@jupyter-widgets/controls",
            "_model_module_version": "1.5.0",
            "_model_name": "FloatProgressModel",
            "_view_count": null,
            "_view_module": "@jupyter-widgets/controls",
            "_view_module_version": "1.5.0",
            "_view_name": "ProgressView",
            "bar_style": "",
            "description": "",
            "description_tooltip": null,
            "layout": "IPY_MODEL_21ec4c9d51db49bba2a3ba4501d84e8d",
            "max": 2,
            "min": 0,
            "orientation": "horizontal",
            "style": "IPY_MODEL_adeae6cd841c421ea3e2e7cc5fa83be4",
            "value": 2
          }
        },
        "aeea393f45484ab68c42135e2f7c690b": {
          "model_module": "@jupyter-widgets/controls",
          "model_module_version": "1.5.0",
          "model_name": "DescriptionStyleModel",
          "state": {
            "_model_module": "@jupyter-widgets/controls",
            "_model_module_version": "1.5.0",
            "_model_name": "DescriptionStyleModel",
            "_view_count": null,
            "_view_module": "@jupyter-widgets/base",
            "_view_module_version": "1.2.0",
            "_view_name": "StyleView",
            "description_width": ""
          }
        },
        "afed662008144b1c9dd6c866261b8e7c": {
          "model_module": "@jupyter-widgets/base",
          "model_module_version": "1.2.0",
          "model_name": "LayoutModel",
          "state": {
            "_model_module": "@jupyter-widgets/base",
            "_model_module_version": "1.2.0",
            "_model_name": "LayoutModel",
            "_view_count": null,
            "_view_module": "@jupyter-widgets/base",
            "_view_module_version": "1.2.0",
            "_view_name": "LayoutView",
            "align_content": null,
            "align_items": null,
            "align_self": null,
            "border": null,
            "bottom": null,
            "display": null,
            "flex": null,
            "flex_flow": null,
            "grid_area": null,
            "grid_auto_columns": null,
            "grid_auto_flow": null,
            "grid_auto_rows": null,
            "grid_column": null,
            "grid_gap": null,
            "grid_row": null,
            "grid_template_areas": null,
            "grid_template_columns": null,
            "grid_template_rows": null,
            "height": null,
            "justify_content": null,
            "justify_items": null,
            "left": null,
            "margin": null,
            "max_height": null,
            "max_width": null,
            "min_height": null,
            "min_width": null,
            "object_fit": null,
            "object_position": null,
            "order": null,
            "overflow": null,
            "overflow_x": null,
            "overflow_y": null,
            "padding": null,
            "right": null,
            "top": null,
            "visibility": null,
            "width": null
          }
        },
        "b368ba1f248d4c00b00fee414ae72098": {
          "model_module": "@jupyter-widgets/base",
          "model_module_version": "1.2.0",
          "model_name": "LayoutModel",
          "state": {
            "_model_module": "@jupyter-widgets/base",
            "_model_module_version": "1.2.0",
            "_model_name": "LayoutModel",
            "_view_count": null,
            "_view_module": "@jupyter-widgets/base",
            "_view_module_version": "1.2.0",
            "_view_name": "LayoutView",
            "align_content": null,
            "align_items": null,
            "align_self": null,
            "border": null,
            "bottom": null,
            "display": null,
            "flex": null,
            "flex_flow": null,
            "grid_area": null,
            "grid_auto_columns": null,
            "grid_auto_flow": null,
            "grid_auto_rows": null,
            "grid_column": null,
            "grid_gap": null,
            "grid_row": null,
            "grid_template_areas": null,
            "grid_template_columns": null,
            "grid_template_rows": null,
            "height": null,
            "justify_content": null,
            "justify_items": null,
            "left": null,
            "margin": null,
            "max_height": null,
            "max_width": null,
            "min_height": null,
            "min_width": null,
            "object_fit": null,
            "object_position": null,
            "order": null,
            "overflow": null,
            "overflow_x": null,
            "overflow_y": null,
            "padding": null,
            "right": null,
            "top": null,
            "visibility": null,
            "width": null
          }
        },
        "b5666513c6fa4213a6ecfafa5e0d44a7": {
          "model_module": "@jupyter-widgets/controls",
          "model_module_version": "1.5.0",
          "model_name": "DescriptionStyleModel",
          "state": {
            "_model_module": "@jupyter-widgets/controls",
            "_model_module_version": "1.5.0",
            "_model_name": "DescriptionStyleModel",
            "_view_count": null,
            "_view_module": "@jupyter-widgets/base",
            "_view_module_version": "1.2.0",
            "_view_name": "StyleView",
            "description_width": ""
          }
        },
        "b7ebd7770a484fbcb267fb13531aa7f6": {
          "model_module": "@jupyter-widgets/base",
          "model_module_version": "1.2.0",
          "model_name": "LayoutModel",
          "state": {
            "_model_module": "@jupyter-widgets/base",
            "_model_module_version": "1.2.0",
            "_model_name": "LayoutModel",
            "_view_count": null,
            "_view_module": "@jupyter-widgets/base",
            "_view_module_version": "1.2.0",
            "_view_name": "LayoutView",
            "align_content": null,
            "align_items": null,
            "align_self": null,
            "border": null,
            "bottom": null,
            "display": null,
            "flex": null,
            "flex_flow": null,
            "grid_area": null,
            "grid_auto_columns": null,
            "grid_auto_flow": null,
            "grid_auto_rows": null,
            "grid_column": null,
            "grid_gap": null,
            "grid_row": null,
            "grid_template_areas": null,
            "grid_template_columns": null,
            "grid_template_rows": null,
            "height": null,
            "justify_content": null,
            "justify_items": null,
            "left": null,
            "margin": null,
            "max_height": null,
            "max_width": null,
            "min_height": null,
            "min_width": null,
            "object_fit": null,
            "object_position": null,
            "order": null,
            "overflow": null,
            "overflow_x": null,
            "overflow_y": null,
            "padding": null,
            "right": null,
            "top": null,
            "visibility": null,
            "width": null
          }
        },
        "bda013169e604f5ead209bf4a6135ea5": {
          "model_module": "@jupyter-widgets/base",
          "model_module_version": "1.2.0",
          "model_name": "LayoutModel",
          "state": {
            "_model_module": "@jupyter-widgets/base",
            "_model_module_version": "1.2.0",
            "_model_name": "LayoutModel",
            "_view_count": null,
            "_view_module": "@jupyter-widgets/base",
            "_view_module_version": "1.2.0",
            "_view_name": "LayoutView",
            "align_content": null,
            "align_items": null,
            "align_self": null,
            "border": null,
            "bottom": null,
            "display": null,
            "flex": null,
            "flex_flow": null,
            "grid_area": null,
            "grid_auto_columns": null,
            "grid_auto_flow": null,
            "grid_auto_rows": null,
            "grid_column": null,
            "grid_gap": null,
            "grid_row": null,
            "grid_template_areas": null,
            "grid_template_columns": null,
            "grid_template_rows": null,
            "height": null,
            "justify_content": null,
            "justify_items": null,
            "left": null,
            "margin": null,
            "max_height": null,
            "max_width": null,
            "min_height": null,
            "min_width": null,
            "object_fit": null,
            "object_position": null,
            "order": null,
            "overflow": null,
            "overflow_x": null,
            "overflow_y": null,
            "padding": null,
            "right": null,
            "top": null,
            "visibility": null,
            "width": null
          }
        },
        "c40a8f03d27143a1b7486006d444c6f2": {
          "model_module": "@jupyter-widgets/controls",
          "model_module_version": "1.5.0",
          "model_name": "DescriptionStyleModel",
          "state": {
            "_model_module": "@jupyter-widgets/controls",
            "_model_module_version": "1.5.0",
            "_model_name": "DescriptionStyleModel",
            "_view_count": null,
            "_view_module": "@jupyter-widgets/base",
            "_view_module_version": "1.2.0",
            "_view_name": "StyleView",
            "description_width": ""
          }
        },
        "c703c65f5ee54709af32661f909737a3": {
          "model_module": "@jupyter-widgets/controls",
          "model_module_version": "1.5.0",
          "model_name": "DescriptionStyleModel",
          "state": {
            "_model_module": "@jupyter-widgets/controls",
            "_model_module_version": "1.5.0",
            "_model_name": "DescriptionStyleModel",
            "_view_count": null,
            "_view_module": "@jupyter-widgets/base",
            "_view_module_version": "1.2.0",
            "_view_name": "StyleView",
            "description_width": ""
          }
        },
        "d2a6bbea07b946ffaf95f859cd3a9f69": {
          "model_module": "@jupyter-widgets/base",
          "model_module_version": "1.2.0",
          "model_name": "LayoutModel",
          "state": {
            "_model_module": "@jupyter-widgets/base",
            "_model_module_version": "1.2.0",
            "_model_name": "LayoutModel",
            "_view_count": null,
            "_view_module": "@jupyter-widgets/base",
            "_view_module_version": "1.2.0",
            "_view_name": "LayoutView",
            "align_content": null,
            "align_items": null,
            "align_self": null,
            "border": null,
            "bottom": null,
            "display": null,
            "flex": null,
            "flex_flow": null,
            "grid_area": null,
            "grid_auto_columns": null,
            "grid_auto_flow": null,
            "grid_auto_rows": null,
            "grid_column": null,
            "grid_gap": null,
            "grid_row": null,
            "grid_template_areas": null,
            "grid_template_columns": null,
            "grid_template_rows": null,
            "height": null,
            "justify_content": null,
            "justify_items": null,
            "left": null,
            "margin": null,
            "max_height": null,
            "max_width": null,
            "min_height": null,
            "min_width": null,
            "object_fit": null,
            "object_position": null,
            "order": null,
            "overflow": null,
            "overflow_x": null,
            "overflow_y": null,
            "padding": null,
            "right": null,
            "top": null,
            "visibility": null,
            "width": null
          }
        },
        "d4fea8ad18c94ee791b3e6ecc694d363": {
          "model_module": "@jupyter-widgets/controls",
          "model_module_version": "1.5.0",
          "model_name": "DescriptionStyleModel",
          "state": {
            "_model_module": "@jupyter-widgets/controls",
            "_model_module_version": "1.5.0",
            "_model_name": "DescriptionStyleModel",
            "_view_count": null,
            "_view_module": "@jupyter-widgets/base",
            "_view_module_version": "1.2.0",
            "_view_name": "StyleView",
            "description_width": ""
          }
        },
        "e0c26565f29d485ba13685bc5f9772bd": {
          "model_module": "@jupyter-widgets/controls",
          "model_module_version": "1.5.0",
          "model_name": "ProgressStyleModel",
          "state": {
            "_model_module": "@jupyter-widgets/controls",
            "_model_module_version": "1.5.0",
            "_model_name": "ProgressStyleModel",
            "_view_count": null,
            "_view_module": "@jupyter-widgets/base",
            "_view_module_version": "1.2.0",
            "_view_name": "StyleView",
            "bar_color": null,
            "description_width": ""
          }
        },
        "edcbc4eacd9f495eb53e5ded2a7bcea3": {
          "model_module": "@jupyter-widgets/base",
          "model_module_version": "1.2.0",
          "model_name": "LayoutModel",
          "state": {
            "_model_module": "@jupyter-widgets/base",
            "_model_module_version": "1.2.0",
            "_model_name": "LayoutModel",
            "_view_count": null,
            "_view_module": "@jupyter-widgets/base",
            "_view_module_version": "1.2.0",
            "_view_name": "LayoutView",
            "align_content": null,
            "align_items": null,
            "align_self": null,
            "border": null,
            "bottom": null,
            "display": null,
            "flex": null,
            "flex_flow": null,
            "grid_area": null,
            "grid_auto_columns": null,
            "grid_auto_flow": null,
            "grid_auto_rows": null,
            "grid_column": null,
            "grid_gap": null,
            "grid_row": null,
            "grid_template_areas": null,
            "grid_template_columns": null,
            "grid_template_rows": null,
            "height": null,
            "justify_content": null,
            "justify_items": null,
            "left": null,
            "margin": null,
            "max_height": null,
            "max_width": null,
            "min_height": null,
            "min_width": null,
            "object_fit": null,
            "object_position": null,
            "order": null,
            "overflow": null,
            "overflow_x": null,
            "overflow_y": null,
            "padding": null,
            "right": null,
            "top": null,
            "visibility": null,
            "width": null
          }
        },
        "f2870fd1185b443d9d6f8014467a8f67": {
          "model_module": "@jupyter-widgets/controls",
          "model_module_version": "1.5.0",
          "model_name": "ProgressStyleModel",
          "state": {
            "_model_module": "@jupyter-widgets/controls",
            "_model_module_version": "1.5.0",
            "_model_name": "ProgressStyleModel",
            "_view_count": null,
            "_view_module": "@jupyter-widgets/base",
            "_view_module_version": "1.2.0",
            "_view_name": "StyleView",
            "bar_color": null,
            "description_width": ""
          }
        },
        "f42901551fb84d3990733fe16081637a": {
          "model_module": "@jupyter-widgets/controls",
          "model_module_version": "1.5.0",
          "model_name": "HBoxModel",
          "state": {
            "_dom_classes": [],
            "_model_module": "@jupyter-widgets/controls",
            "_model_module_version": "1.5.0",
            "_model_name": "HBoxModel",
            "_view_count": null,
            "_view_module": "@jupyter-widgets/controls",
            "_view_module_version": "1.5.0",
            "_view_name": "HBoxView",
            "box_style": "",
            "children": [
              "IPY_MODEL_4aadc02448764e33b3f53e5d0b1bc2a4",
              "IPY_MODEL_f72ba849026344fe84d1a5e0e4bc5968",
              "IPY_MODEL_a8bcd55c80a2474a8890a5d4897dcdb3"
            ],
            "layout": "IPY_MODEL_80b0867f4ce44bf9b44d73e8e85ed250"
          }
        },
        "f72ba849026344fe84d1a5e0e4bc5968": {
          "model_module": "@jupyter-widgets/controls",
          "model_module_version": "1.5.0",
          "model_name": "FloatProgressModel",
          "state": {
            "_dom_classes": [],
            "_model_module": "@jupyter-widgets/controls",
            "_model_module_version": "1.5.0",
            "_model_name": "FloatProgressModel",
            "_view_count": null,
            "_view_module": "@jupyter-widgets/controls",
            "_view_module_version": "1.5.0",
            "_view_name": "ProgressView",
            "bar_style": "success",
            "description": "",
            "description_tooltip": null,
            "layout": "IPY_MODEL_b7ebd7770a484fbcb267fb13531aa7f6",
            "max": 87599,
            "min": 0,
            "orientation": "horizontal",
            "style": "IPY_MODEL_1d2bd1c00c2d41b09e5b8182c20ae22d",
            "value": 87599
          }
        },
        "fa24115f1ec94b328bc55e149829f276": {
          "model_module": "@jupyter-widgets/base",
          "model_module_version": "1.2.0",
          "model_name": "LayoutModel",
          "state": {
            "_model_module": "@jupyter-widgets/base",
            "_model_module_version": "1.2.0",
            "_model_name": "LayoutModel",
            "_view_count": null,
            "_view_module": "@jupyter-widgets/base",
            "_view_module_version": "1.2.0",
            "_view_name": "LayoutView",
            "align_content": null,
            "align_items": null,
            "align_self": null,
            "border": null,
            "bottom": null,
            "display": null,
            "flex": null,
            "flex_flow": null,
            "grid_area": null,
            "grid_auto_columns": null,
            "grid_auto_flow": null,
            "grid_auto_rows": null,
            "grid_column": null,
            "grid_gap": null,
            "grid_row": null,
            "grid_template_areas": null,
            "grid_template_columns": null,
            "grid_template_rows": null,
            "height": null,
            "justify_content": null,
            "justify_items": null,
            "left": null,
            "margin": null,
            "max_height": null,
            "max_width": null,
            "min_height": null,
            "min_width": null,
            "object_fit": null,
            "object_position": null,
            "order": null,
            "overflow": null,
            "overflow_x": null,
            "overflow_y": null,
            "padding": null,
            "right": null,
            "top": null,
            "visibility": null,
            "width": null
          }
        },
        "fc4007904a28408e8aea44735171dce8": {
          "model_module": "@jupyter-widgets/base",
          "model_module_version": "1.2.0",
          "model_name": "LayoutModel",
          "state": {
            "_model_module": "@jupyter-widgets/base",
            "_model_module_version": "1.2.0",
            "_model_name": "LayoutModel",
            "_view_count": null,
            "_view_module": "@jupyter-widgets/base",
            "_view_module_version": "1.2.0",
            "_view_name": "LayoutView",
            "align_content": null,
            "align_items": null,
            "align_self": null,
            "border": null,
            "bottom": null,
            "display": null,
            "flex": null,
            "flex_flow": null,
            "grid_area": null,
            "grid_auto_columns": null,
            "grid_auto_flow": null,
            "grid_auto_rows": null,
            "grid_column": null,
            "grid_gap": null,
            "grid_row": null,
            "grid_template_areas": null,
            "grid_template_columns": null,
            "grid_template_rows": null,
            "height": null,
            "justify_content": null,
            "justify_items": null,
            "left": null,
            "margin": null,
            "max_height": null,
            "max_width": null,
            "min_height": null,
            "min_width": null,
            "object_fit": null,
            "object_position": null,
            "order": null,
            "overflow": null,
            "overflow_x": null,
            "overflow_y": null,
            "padding": null,
            "right": null,
            "top": null,
            "visibility": null,
            "width": null
          }
        },
        "fdb41f39a3f04e6f92dcfa87081268c9": {
          "model_module": "@jupyter-widgets/base",
          "model_module_version": "1.2.0",
          "model_name": "LayoutModel",
          "state": {
            "_model_module": "@jupyter-widgets/base",
            "_model_module_version": "1.2.0",
            "_model_name": "LayoutModel",
            "_view_count": null,
            "_view_module": "@jupyter-widgets/base",
            "_view_module_version": "1.2.0",
            "_view_name": "LayoutView",
            "align_content": null,
            "align_items": null,
            "align_self": null,
            "border": null,
            "bottom": null,
            "display": null,
            "flex": null,
            "flex_flow": null,
            "grid_area": null,
            "grid_auto_columns": null,
            "grid_auto_flow": null,
            "grid_auto_rows": null,
            "grid_column": null,
            "grid_gap": null,
            "grid_row": null,
            "grid_template_areas": null,
            "grid_template_columns": null,
            "grid_template_rows": null,
            "height": null,
            "justify_content": null,
            "justify_items": null,
            "left": null,
            "margin": null,
            "max_height": null,
            "max_width": null,
            "min_height": null,
            "min_width": null,
            "object_fit": null,
            "object_position": null,
            "order": null,
            "overflow": null,
            "overflow_x": null,
            "overflow_y": null,
            "padding": null,
            "right": null,
            "top": null,
            "visibility": null,
            "width": null
          }
        },
        "fdcc39b22c4243cfbe45bbaec83ab858": {
          "model_module": "@jupyter-widgets/controls",
          "model_module_version": "1.5.0",
          "model_name": "FloatProgressModel",
          "state": {
            "_dom_classes": [],
            "_model_module": "@jupyter-widgets/controls",
            "_model_module_version": "1.5.0",
            "_model_name": "FloatProgressModel",
            "_view_count": null,
            "_view_module": "@jupyter-widgets/controls",
            "_view_module_version": "1.5.0",
            "_view_name": "ProgressView",
            "bar_style": "success",
            "description": "",
            "description_tooltip": null,
            "layout": "IPY_MODEL_1dddc1dcc4c44feba3919d99e0d50b1a",
            "max": 10570,
            "min": 0,
            "orientation": "horizontal",
            "style": "IPY_MODEL_e0c26565f29d485ba13685bc5f9772bd",
            "value": 10570
          }
        },
        "ffd4db9ab52c427cb9d244aac0151074": {
          "model_module": "@jupyter-widgets/base",
          "model_module_version": "1.2.0",
          "model_name": "LayoutModel",
          "state": {
            "_model_module": "@jupyter-widgets/base",
            "_model_module_version": "1.2.0",
            "_model_name": "LayoutModel",
            "_view_count": null,
            "_view_module": "@jupyter-widgets/base",
            "_view_module_version": "1.2.0",
            "_view_name": "LayoutView",
            "align_content": null,
            "align_items": null,
            "align_self": null,
            "border": null,
            "bottom": null,
            "display": null,
            "flex": null,
            "flex_flow": null,
            "grid_area": null,
            "grid_auto_columns": null,
            "grid_auto_flow": null,
            "grid_auto_rows": null,
            "grid_column": null,
            "grid_gap": null,
            "grid_row": null,
            "grid_template_areas": null,
            "grid_template_columns": null,
            "grid_template_rows": null,
            "height": null,
            "justify_content": null,
            "justify_items": null,
            "left": null,
            "margin": null,
            "max_height": null,
            "max_width": null,
            "min_height": null,
            "min_width": null,
            "object_fit": null,
            "object_position": null,
            "order": null,
            "overflow": null,
            "overflow_x": null,
            "overflow_y": null,
            "padding": null,
            "right": null,
            "top": null,
            "visibility": null,
            "width": null
          }
        }
      }
    }
  },
  "nbformat": 4,
  "nbformat_minor": 0
}
